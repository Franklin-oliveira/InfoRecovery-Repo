{
 "cells": [
  {
   "cell_type": "markdown",
   "metadata": {},
   "source": [
    "# Construindo amostra aleatória do *`corpus`* \n",
    "\n",
    "Nesse notebook, vamos importar TODO o conjunto de dados e selecionar uma amostra aleatória de 10 mil observações (diferentes reviews de produtos eletrônicos da Amazon). O objetivo desse notebook é criar uma amostra dos dados utilizados que possa ser armazenada no repositório do GitHub. \n",
    "\n",
    "Essa amostra pode ser importada para executar o código contido nos notebooks das pastas _hw*_."
   ]
  },
  {
   "cell_type": "code",
   "execution_count": 1,
   "metadata": {
    "ExecuteTime": {
     "end_time": "2019-11-30T14:13:08.382000Z",
     "start_time": "2019-11-30T14:13:08.035328Z"
    }
   },
   "outputs": [],
   "source": [
    "import random\n",
    "import numpy as np\n",
    "import pandas as pd"
   ]
  },
  {
   "cell_type": "markdown",
   "metadata": {},
   "source": [
    "## Sorteando amostra"
   ]
  },
  {
   "cell_type": "code",
   "execution_count": 2,
   "metadata": {
    "ExecuteTime": {
     "end_time": "2019-11-30T14:14:03.254801Z",
     "start_time": "2019-11-30T14:13:22.190452Z"
    }
   },
   "outputs": [],
   "source": [
    "# sorteando amostra aleatória do corpus\n",
    "filepath = \"../Amazon_electronics_reviews.csv\"  # arquivo completo no disco local (1.27 GB)\n",
    "n = sum(1 for line in open(filepath)) # nº de registros no arquivo (não tem header)\n",
    "s = 10000 # tamanho da amostra"
   ]
  },
  {
   "cell_type": "code",
   "execution_count": 3,
   "metadata": {
    "ExecuteTime": {
     "end_time": "2019-11-30T14:15:06.069485Z",
     "start_time": "2019-11-30T14:15:06.064759Z"
    }
   },
   "outputs": [
    {
     "name": "stdout",
     "output_type": "stream",
     "text": [
      "Total de registros no dataset original: 1689204\n"
     ]
    }
   ],
   "source": [
    "print('Total de registros no dataset original:', n)"
   ]
  },
  {
   "cell_type": "code",
   "execution_count": 4,
   "metadata": {
    "ExecuteTime": {
     "end_time": "2019-11-30T14:15:24.432874Z",
     "start_time": "2019-11-30T14:15:16.430857Z"
    }
   },
   "outputs": [],
   "source": [
    "skip = sorted(random.sample(range(1,n+1), n-s)) # número aleatório de linhas para pular\n",
    "df = pd.read_csv(filepath, skiprows=skip, header=0,index_col = 0, encoding='utf-8')"
   ]
  },
  {
   "cell_type": "code",
   "execution_count": 5,
   "metadata": {
    "ExecuteTime": {
     "end_time": "2019-11-30T14:15:28.666326Z",
     "start_time": "2019-11-30T14:15:28.451939Z"
    }
   },
   "outputs": [],
   "source": [
    "# removendo linhas que não têm review\n",
    "df.dropna(subset=['reviewText'], inplace=True)"
   ]
  },
  {
   "cell_type": "code",
   "execution_count": 6,
   "metadata": {
    "ExecuteTime": {
     "end_time": "2019-11-30T14:15:29.929623Z",
     "start_time": "2019-11-30T14:15:29.923239Z"
    }
   },
   "outputs": [
    {
     "name": "stdout",
     "output_type": "stream",
     "text": [
      "Tamanho final da amostra: 299789 obs.\n"
     ]
    }
   ],
   "source": [
    "print('Tamanho final da amostra:', df.shape[0], 'obs.')"
   ]
  },
  {
   "cell_type": "code",
   "execution_count": 7,
   "metadata": {
    "ExecuteTime": {
     "end_time": "2019-11-30T14:16:15.440406Z",
     "start_time": "2019-11-30T14:16:05.025094Z"
    }
   },
   "outputs": [],
   "source": [
    "df.to_csv('../sample_data.csv', sep=',', encoding='utf-8')\n",
    "# df.to_csv('../Amazon_electronics_reviews_sample.csv', sep=',', encoding='utf-8')"
   ]
  }
 ],
 "metadata": {
  "kernelspec": {
   "display_name": "Python 3",
   "language": "python",
   "name": "python3"
  },
  "language_info": {
   "codemirror_mode": {
    "name": "ipython",
    "version": 3
   },
   "file_extension": ".py",
   "mimetype": "text/x-python",
   "name": "python",
   "nbconvert_exporter": "python",
   "pygments_lexer": "ipython3",
   "version": "3.7.4"
  },
  "toc": {
   "base_numbering": 1,
   "nav_menu": {},
   "number_sections": false,
   "sideBar": true,
   "skip_h1_title": false,
   "title_cell": "Table of Contents",
   "title_sidebar": "Contents",
   "toc_cell": false,
   "toc_position": {},
   "toc_section_display": true,
   "toc_window_display": false
  },
  "varInspector": {
   "cols": {
    "lenName": 16,
    "lenType": 16,
    "lenVar": 40
   },
   "kernels_config": {
    "python": {
     "delete_cmd_postfix": "",
     "delete_cmd_prefix": "del ",
     "library": "var_list.py",
     "varRefreshCmd": "print(var_dic_list())"
    },
    "r": {
     "delete_cmd_postfix": ") ",
     "delete_cmd_prefix": "rm(",
     "library": "var_list.r",
     "varRefreshCmd": "cat(var_dic_list()) "
    }
   },
   "types_to_exclude": [
    "module",
    "function",
    "builtin_function_or_method",
    "instance",
    "_Feature"
   ],
   "window_display": false
  }
 },
 "nbformat": 4,
 "nbformat_minor": 4
}
