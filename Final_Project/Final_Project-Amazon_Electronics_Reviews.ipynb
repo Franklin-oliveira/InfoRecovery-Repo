{
 "cells": [
  {
   "cell_type": "markdown",
   "metadata": {},
   "source": [
    "# Projeto Final 2019\n",
    "\n",
    "**Aluno:** Franklin Alves de Oliveira\n",
    "\n",
    "-----\n",
    "\n",
    "Neste projeto cada aluno deve eleger um corpus de documentos de tamanho medio (pelo menos milhares de documentos). Todas as tarefas a seguir serao realizadas sobre este corpus.\n",
    "\n",
    "-----\n",
    "\n",
    "Então, vamos começar importando o *corpus* de *reviews* de produtos eletrônicos do site [Amazon.com](https://www.amazon.com). Esse corpus, e outros semelhantes, podem ser encontrados nesse [link](http://jmcauley.ucsd.edu/data/amazon/). \n",
    "\n",
    "Para esse projeto, vamos utilizar uma amostra de aproximadamente 300 mil reviews (selecionados aleatoriamente) de um total de 1.689.188 no *corpus* completo.\n",
    "\n",
    "<br>\n",
    "\n",
    "Antes de começarmos, vamos fazer os ***imports*** de alguns pacotes..."
   ]
  },
  {
   "cell_type": "code",
   "execution_count": 1,
   "metadata": {
    "ExecuteTime": {
     "end_time": "2019-12-08T03:05:19.167684Z",
     "start_time": "2019-12-08T03:05:08.143398Z"
    }
   },
   "outputs": [],
   "source": [
    "# imports\n",
    "import os\n",
    "import re\n",
    "import nltk\n",
    "import math\n",
    "import string\n",
    "import shutil\n",
    "import gensim\n",
    "import whoosh\n",
    "import enchant\n",
    "import logging\n",
    "import numpy as np\n",
    "import pandas as pd\n",
    "import seaborn as sns\n",
    "import matplotlib.pyplot as plt\n",
    "\n",
    "# imports funcionalidades diversas\n",
    "from tqdm import tqdm\n",
    "from string import punctuation\n",
    "from IPython.display import display, Markdown, Latex\n",
    "from collections import defaultdict,Counter,OrderedDict\n",
    "from sklearn.feature_extraction.text import TfidfVectorizer\n",
    "\n",
    "# imports do nltk\n",
    "from nltk.corpus import stopwords\n",
    "from nltk.tokenize import WordPunctTokenizer as WPT\n",
    "from nltk.stem.snowball import SnowballStemmer"
   ]
  },
  {
   "cell_type": "markdown",
   "metadata": {},
   "source": [
    "**Configurações iniciais:**"
   ]
  },
  {
   "cell_type": "code",
   "execution_count": 2,
   "metadata": {
    "ExecuteTime": {
     "end_time": "2019-12-08T03:05:19.696717Z",
     "start_time": "2019-12-08T03:05:19.223618Z"
    }
   },
   "outputs": [
    {
     "name": "stderr",
     "output_type": "stream",
     "text": [
      "[nltk_data] Downloading package stopwords to\n",
      "[nltk_data]     /home/franklin/nltk_data...\n",
      "[nltk_data]   Package stopwords is already up-to-date!\n"
     ]
    }
   ],
   "source": [
    "nltk.download('stopwords')\n",
    "swu = stopwords.words('english')+ list(string.punctuation)\n",
    "stemmer = SnowballStemmer('english')"
   ]
  },
  {
   "cell_type": "markdown",
   "metadata": {},
   "source": [
    "**Importando o _corpus_**:"
   ]
  },
  {
   "cell_type": "code",
   "execution_count": 3,
   "metadata": {
    "ExecuteTime": {
     "end_time": "2019-12-08T03:05:24.968934Z",
     "start_time": "2019-12-08T03:05:19.755503Z"
    }
   },
   "outputs": [
    {
     "data": {
      "text/html": [
       "<div>\n",
       "<style scoped>\n",
       "    .dataframe tbody tr th:only-of-type {\n",
       "        vertical-align: middle;\n",
       "    }\n",
       "\n",
       "    .dataframe tbody tr th {\n",
       "        vertical-align: top;\n",
       "    }\n",
       "\n",
       "    .dataframe thead th {\n",
       "        text-align: right;\n",
       "    }\n",
       "</style>\n",
       "<table border=\"1\" class=\"dataframe\">\n",
       "  <thead>\n",
       "    <tr style=\"text-align: right;\">\n",
       "      <th></th>\n",
       "      <th>reviewerID</th>\n",
       "      <th>asin</th>\n",
       "      <th>reviewerName</th>\n",
       "      <th>helpful</th>\n",
       "      <th>reviewText</th>\n",
       "      <th>overall</th>\n",
       "      <th>summary</th>\n",
       "      <th>unixReviewTime</th>\n",
       "      <th>reviewTime</th>\n",
       "    </tr>\n",
       "  </thead>\n",
       "  <tbody>\n",
       "    <tr>\n",
       "      <td>1</td>\n",
       "      <td>AMO214LNFCEI4</td>\n",
       "      <td>0528881469</td>\n",
       "      <td>Amazon Customer</td>\n",
       "      <td>[12, 15]</td>\n",
       "      <td>I'm a professional OTR truck driver, and I bou...</td>\n",
       "      <td>1.0</td>\n",
       "      <td>Very Disappointed</td>\n",
       "      <td>1290643200</td>\n",
       "      <td>11 25, 2010</td>\n",
       "    </tr>\n",
       "    <tr>\n",
       "      <td>5</td>\n",
       "      <td>A2JXAZZI9PHK9Z</td>\n",
       "      <td>0594451647</td>\n",
       "      <td>Billy G. Noland \"Bill Noland\"</td>\n",
       "      <td>[3, 3]</td>\n",
       "      <td>I am using this with a Nook HD+. It works as d...</td>\n",
       "      <td>5.0</td>\n",
       "      <td>HDMI Nook adapter cable</td>\n",
       "      <td>1388707200</td>\n",
       "      <td>01 3, 2014</td>\n",
       "    </tr>\n",
       "    <tr>\n",
       "      <td>9</td>\n",
       "      <td>A3BY5KCNQZXV5U</td>\n",
       "      <td>0594451647</td>\n",
       "      <td>Matenai</td>\n",
       "      <td>[3, 3]</td>\n",
       "      <td>This product really works great but I found th...</td>\n",
       "      <td>5.0</td>\n",
       "      <td>This works great but read the details...</td>\n",
       "      <td>1390176000</td>\n",
       "      <td>01 20, 2014</td>\n",
       "    </tr>\n",
       "    <tr>\n",
       "      <td>15</td>\n",
       "      <td>AT09WGFUM934H</td>\n",
       "      <td>0594481813</td>\n",
       "      <td>John</td>\n",
       "      <td>[0, 0]</td>\n",
       "      <td>It does 2A and charges a DEAD Nook in a few ho...</td>\n",
       "      <td>3.0</td>\n",
       "      <td>This is the oem charger you get with the nook hd+</td>\n",
       "      <td>1377907200</td>\n",
       "      <td>08 31, 2013</td>\n",
       "    </tr>\n",
       "    <tr>\n",
       "      <td>20</td>\n",
       "      <td>A1EDI0X3GI1SK7</td>\n",
       "      <td>0972683275</td>\n",
       "      <td>AGW</td>\n",
       "      <td>[0, 1]</td>\n",
       "      <td>Great deal, easy to mount and it appears to be...</td>\n",
       "      <td>5.0</td>\n",
       "      <td>32 In TV Mount</td>\n",
       "      <td>1323993600</td>\n",
       "      <td>12 16, 2011</td>\n",
       "    </tr>\n",
       "  </tbody>\n",
       "</table>\n",
       "</div>"
      ],
      "text/plain": [
       "        reviewerID        asin                   reviewerName   helpful  \\\n",
       "1    AMO214LNFCEI4  0528881469                Amazon Customer  [12, 15]   \n",
       "5   A2JXAZZI9PHK9Z  0594451647  Billy G. Noland \"Bill Noland\"    [3, 3]   \n",
       "9   A3BY5KCNQZXV5U  0594451647                        Matenai    [3, 3]   \n",
       "15   AT09WGFUM934H  0594481813                           John    [0, 0]   \n",
       "20  A1EDI0X3GI1SK7  0972683275                            AGW    [0, 1]   \n",
       "\n",
       "                                           reviewText  overall  \\\n",
       "1   I'm a professional OTR truck driver, and I bou...      1.0   \n",
       "5   I am using this with a Nook HD+. It works as d...      5.0   \n",
       "9   This product really works great but I found th...      5.0   \n",
       "15  It does 2A and charges a DEAD Nook in a few ho...      3.0   \n",
       "20  Great deal, easy to mount and it appears to be...      5.0   \n",
       "\n",
       "                                              summary  unixReviewTime  \\\n",
       "1                                   Very Disappointed      1290643200   \n",
       "5                             HDMI Nook adapter cable      1388707200   \n",
       "9            This works great but read the details...      1390176000   \n",
       "15  This is the oem charger you get with the nook hd+      1377907200   \n",
       "20                                     32 In TV Mount      1323993600   \n",
       "\n",
       "     reviewTime  \n",
       "1   11 25, 2010  \n",
       "5    01 3, 2014  \n",
       "9   01 20, 2014  \n",
       "15  08 31, 2013  \n",
       "20  12 16, 2011  "
      ]
     },
     "execution_count": 3,
     "metadata": {},
     "output_type": "execute_result"
    }
   ],
   "source": [
    "# OBS: estou mantendo o índice do corpus original (completo)\n",
    "df = pd.read_csv('../Amazon_electronics_reviews_sample.csv', encoding='utf-8-sig', index_col=0)\n",
    "df.head()"
   ]
  },
  {
   "cell_type": "code",
   "execution_count": 4,
   "metadata": {
    "ExecuteTime": {
     "end_time": "2019-12-08T03:05:25.180392Z",
     "start_time": "2019-12-08T03:05:25.105975Z"
    }
   },
   "outputs": [
    {
     "name": "stdout",
     "output_type": "stream",
     "text": [
      "Nº de observações no corpus: 299789\n"
     ]
    }
   ],
   "source": [
    "corpus = df[['reviewerID', 'asin', 'reviewText']].copy()\n",
    "print('Nº de observações no corpus:', corpus.shape[0])"
   ]
  },
  {
   "cell_type": "markdown",
   "metadata": {},
   "source": [
    "<br>\n",
    "\n",
    "## Indexação\n",
    "1. Utilizando o Whoosh indexar o seu corpus e implementar uma funçao que apresentes para os top 10 documentos da resposta a uma consulta, trechos dos documentos contendo os termos da consulta.\n",
    "1. Contruir uma funçao de busca que aceite consultas frasais e facetaçao dos resultados."
   ]
  },
  {
   "cell_type": "code",
   "execution_count": 5,
   "metadata": {
    "ExecuteTime": {
     "end_time": "2019-12-08T03:05:25.619031Z",
     "start_time": "2019-12-08T03:05:25.323407Z"
    }
   },
   "outputs": [],
   "source": [
    "# imports do whoosh\n",
    "import whoosh.index as index\n",
    "from whoosh import qparser\n",
    "from whoosh import sorting\n",
    "from whoosh.fields import *\n",
    "from whoosh.qparser import QueryParser\n",
    "from whoosh.index import create_in, open_dir"
   ]
  },
  {
   "cell_type": "markdown",
   "metadata": {},
   "source": [
    "**definindo funções para criar o índice e fazer a busca**"
   ]
  },
  {
   "cell_type": "code",
   "execution_count": 6,
   "metadata": {
    "ExecuteTime": {
     "end_time": "2019-12-08T03:05:25.768417Z",
     "start_time": "2019-12-08T03:05:25.761007Z"
    }
   },
   "outputs": [],
   "source": [
    "def create_whoosh_id(corpus, schema):\n",
    "    '''\n",
    "    cria um índice no whoosh. \n",
    "    \n",
    "    Argumentos:\n",
    "        - corpus (list or array): lista de textos\n",
    "        - schema (Schema whoosh obj): schema para criação do índice \n",
    "    '''\n",
    "    # schema para criação do índice\n",
    "    schema = Schema(cont=TEXT(phrase=True, stored=True))\n",
    "    \n",
    "    # criando índice no whoosh (armazenado na pasta ./indexdir)\n",
    "    if index.exists_in('indexdir'):\n",
    "        shutil.rmtree('./indexdir', ignore_errors=True) # limpa/remove o índice atual\n",
    "        ix = create_in(\"indexdir\", schema)              # cria novo índice\n",
    "        writer = ix.writer()\n",
    "        for text in corpus:\n",
    "            writer.add_document(cont=text)\n",
    "        writer.commit()\n",
    "    else:\n",
    "        os.mkdir('indexdir')\n",
    "        ix = create_in(\"indexdir\", schema)\n",
    "        writer = ix.writer()\n",
    "        for txt in corpus:\n",
    "            writer.add_document(cont=txt)\n",
    "        writer.commit()\n",
    "    return ix"
   ]
  },
  {
   "cell_type": "code",
   "execution_count": 7,
   "metadata": {
    "ExecuteTime": {
     "end_time": "2019-12-08T03:05:25.924257Z",
     "start_time": "2019-12-08T03:05:25.910710Z"
    }
   },
   "outputs": [],
   "source": [
    "def search(query, corpus, schema = None, n_results=5, index= None, return_pos= False):\n",
    "    '''\n",
    "    Faz uma busca por palavras ou frases no corpus.\n",
    "    \n",
    "    Argumentos:\n",
    "        - query (string): frase a ser buscada\n",
    "        - corpus (array or list): lista de textos\n",
    "        - n_results (int): números de resultados para exibição.\n",
    "        - index (whoosh index obj.): indexador do whoosh \n",
    "        - return_pos (bool): se True, retorna uma lista com as posições onde a busca foi encontrada.\n",
    "    '''\n",
    "    # Se não for passado um índice, a função criará um com um schema padrão\n",
    "    if index == None:\n",
    "        schema = Schema(cont=TEXT(phrase=True, stored=True))\n",
    "        index = create_whoosh_id(corpus, schema)\n",
    "    \n",
    "    # listas para armazenar os resultados\n",
    "    pos=[]\n",
    "    trechos=[]\n",
    "    \n",
    "    # faz a consulta\n",
    "    query = QueryParser(\"cont\", schema=idx.schema,group=qparser.OrGroup).parse(query)\n",
    "    facets = sorting.Facets()\n",
    "    facets.add_field(\"cont\", allow_overlap=True)\n",
    "    ans = index.searcher().search(query,limit=10, groupedby=facets)\n",
    "    for A in ans:\n",
    "        pos.append(corpus[corpus.isin([A.values()[0]])].index[0])\n",
    "        trechos.append(re.split(\"\\.\\.\\.\", A.highlights(\"cont\")))\n",
    "    \n",
    "    # exibindo os resultados  \n",
    "    n_results = min(len(trechos), n_results)\n",
    "    print(f'Foram encontrados \\033[1m{len(trechos)}\\033[0m resultados (Exibindo os \\033[1m{n_results}\\033[0m primeiros).')\n",
    "    print(' ')\n",
    "    for i in range(10):\n",
    "        print(f'\\033[94m\\033[4mResultado {i+1} ' + f'(linha do dataframe {pos[i]}):\\033[0m')\n",
    "        for j in range(len(trechos[i])):\n",
    "            display(Markdown(f'- {j+1}:  ...  '+trechos[i][j]+'  ...'))\n",
    "        print('')\n",
    "        \n",
    "    if return_pos:\n",
    "        return pos"
   ]
  },
  {
   "cell_type": "code",
   "execution_count": null,
   "metadata": {
    "ExecuteTime": {
     "start_time": "2019-12-08T03:05:28.352Z"
    }
   },
   "outputs": [],
   "source": [
    "# criando um índice com o whoosh\n",
    "# schema = Schema(cont=TEXT(phrase=True, stored=True))\n",
    "# idx = create_whoosh_id(corpus['reviewText'], schema)  \n",
    "\n",
    "# se o índice já foi criado, executar a linha abaixo\n",
    "idx = index.open_dir(\"indexdir\")"
   ]
  },
  {
   "cell_type": "code",
   "execution_count": 17,
   "metadata": {
    "ExecuteTime": {
     "end_time": "2019-12-02T23:24:22.390226Z",
     "start_time": "2019-12-02T23:23:30.910522Z"
    },
    "scrolled": true
   },
   "outputs": [
    {
     "name": "stdout",
     "output_type": "stream",
     "text": [
      "Foram encontrados \u001b[1m2927\u001b[0m resultados (Exibindo os \u001b[1m10\u001b[0m primeiros).\n",
      " \n",
      "\u001b[94m\u001b[4mResultado 1 (linha do dataframe 38238):\u001b[0m\n"
     ]
    },
    {
     "data": {
      "text/markdown": [
       "- 1:  ...  Bought but I never <b class=\"match term0\">really</b> used it, but <b class=\"match term1\">works</b> when I need it to  ..."
      ],
      "text/plain": [
       "<IPython.core.display.Markdown object>"
      ]
     },
     "metadata": {},
     "output_type": "display_data"
    },
    {
     "name": "stdout",
     "output_type": "stream",
     "text": [
      "\n",
      "\u001b[94m\u001b[4mResultado 2 (linha do dataframe 33186):\u001b[0m\n"
     ]
    },
    {
     "data": {
      "text/markdown": [
       "- 1:  ...  it is still be used. <b class=\"match term1\">works</b> good for my phones  ..."
      ],
      "text/plain": [
       "<IPython.core.display.Markdown object>"
      ]
     },
     "metadata": {},
     "output_type": "display_data"
    },
    {
     "data": {
      "text/markdown": [
       "- 2:  ...  of this cable is <b class=\"match term0\">really</b> good, cant beat it  ..."
      ],
      "text/plain": [
       "<IPython.core.display.Markdown object>"
      ]
     },
     "metadata": {},
     "output_type": "display_data"
    },
    {
     "data": {
      "text/markdown": [
       "- 3:  ...  like i said still <b class=\"match term1\">works</b> good  ..."
      ],
      "text/plain": [
       "<IPython.core.display.Markdown object>"
      ]
     },
     "metadata": {},
     "output_type": "display_data"
    },
    {
     "name": "stdout",
     "output_type": "stream",
     "text": [
      "\n",
      "\u001b[94m\u001b[4mResultado 3 (linha do dataframe 40310):\u001b[0m\n"
     ]
    },
    {
     "data": {
      "text/markdown": [
       "- 1:  ...  I dont <b class=\"match term0\">really</b> know what to say in  ..."
      ],
      "text/plain": [
       "<IPython.core.display.Markdown object>"
      ]
     },
     "metadata": {},
     "output_type": "display_data"
    },
    {
     "data": {
      "text/markdown": [
       "- 2:  ...  for this item. It <b class=\"match term1\">works</b>, it <b class=\"match term1\">works</b> well, it <b class=\"match term1\">works</b> exactly as described  ..."
      ],
      "text/plain": [
       "<IPython.core.display.Markdown object>"
      ]
     },
     "metadata": {},
     "output_type": "display_data"
    },
    {
     "name": "stdout",
     "output_type": "stream",
     "text": [
      "\n",
      "\u001b[94m\u001b[4mResultado 4 (linha do dataframe 3048):\u001b[0m\n"
     ]
    },
    {
     "data": {
      "text/markdown": [
       "- 1:  ...  It just <b class=\"match term1\">works</b>, it's <b class=\"match term0\">really</b> trouble-proof. I have  ..."
      ],
      "text/plain": [
       "<IPython.core.display.Markdown object>"
      ]
     },
     "metadata": {},
     "output_type": "display_data"
    },
    {
     "name": "stdout",
     "output_type": "stream",
     "text": [
      "\n",
      "\u001b[94m\u001b[4mResultado 5 (linha do dataframe 31374):\u001b[0m\n"
     ]
    },
    {
     "data": {
      "text/markdown": [
       "- 1:  ...  This one <b class=\"match term0\">really</b> <b class=\"match term1\">works</b>.  And it has a nice gold  ..."
      ],
      "text/plain": [
       "<IPython.core.display.Markdown object>"
      ]
     },
     "metadata": {},
     "output_type": "display_data"
    },
    {
     "name": "stdout",
     "output_type": "stream",
     "text": [
      "\n",
      "\u001b[94m\u001b[4mResultado 6 (linha do dataframe 35644):\u001b[0m\n"
     ]
    },
    {
     "data": {
      "text/markdown": [
       "- 1:  ...  simple plug I can't <b class=\"match term0\">really</b> say that it changes  ..."
      ],
      "text/plain": [
       "<IPython.core.display.Markdown object>"
      ]
     },
     "metadata": {},
     "output_type": "display_data"
    },
    {
     "data": {
      "text/markdown": [
       "- 2:  ...  my world it just <b class=\"match term1\">works</b> the way it's intended  ..."
      ],
      "text/plain": [
       "<IPython.core.display.Markdown object>"
      ]
     },
     "metadata": {},
     "output_type": "display_data"
    },
    {
     "name": "stdout",
     "output_type": "stream",
     "text": [
      "\n",
      "\u001b[94m\u001b[4mResultado 7 (linha do dataframe 15567):\u001b[0m\n"
     ]
    },
    {
     "data": {
      "text/markdown": [
       "- 1:  ...  UV protection is not <b class=\"match term0\">really</b> even the reason I  ..."
      ],
      "text/plain": [
       "<IPython.core.display.Markdown object>"
      ]
     },
     "metadata": {},
     "output_type": "display_data"
    },
    {
     "data": {
      "text/markdown": [
       "- 2:  ...  of the lens, and it <b class=\"match term1\">works</b> perfectly for that  ..."
      ],
      "text/plain": [
       "<IPython.core.display.Markdown object>"
      ]
     },
     "metadata": {},
     "output_type": "display_data"
    },
    {
     "name": "stdout",
     "output_type": "stream",
     "text": [
      "\n",
      "\u001b[94m\u001b[4mResultado 8 (linha do dataframe 32750):\u001b[0m\n"
     ]
    },
    {
     "data": {
      "text/markdown": [
       "- 1:  ...  There <b class=\"match term0\">really</b> isn't much to say about  ..."
      ],
      "text/plain": [
       "<IPython.core.display.Markdown object>"
      ]
     },
     "metadata": {},
     "output_type": "display_data"
    },
    {
     "data": {
      "text/markdown": [
       "- 2:  ...  a basic cable. It <b class=\"match term1\">works</b> as expected and it  ..."
      ],
      "text/plain": [
       "<IPython.core.display.Markdown object>"
      ]
     },
     "metadata": {},
     "output_type": "display_data"
    },
    {
     "name": "stdout",
     "output_type": "stream",
     "text": [
      "\n",
      "\u001b[94m\u001b[4mResultado 9 (linha do dataframe 11338):\u001b[0m\n"
     ]
    },
    {
     "data": {
      "text/markdown": [
       "- 1:  ...  <b class=\"match term1\">works</b> <b class=\"match term0\">really</b> well when taking  ..."
      ],
      "text/plain": [
       "<IPython.core.display.Markdown object>"
      ]
     },
     "metadata": {},
     "output_type": "display_data"
    },
    {
     "name": "stdout",
     "output_type": "stream",
     "text": [
      "\n",
      "\u001b[94m\u001b[4mResultado 10 (linha do dataframe 22333):\u001b[0m\n"
     ]
    },
    {
     "data": {
      "text/markdown": [
       "- 1:  ...  <b class=\"match term2\">Really</b> enjoy this product use it with my professional  ..."
      ],
      "text/plain": [
       "<IPython.core.display.Markdown object>"
      ]
     },
     "metadata": {},
     "output_type": "display_data"
    },
    {
     "data": {
      "text/markdown": [
       "- 2:  ...  dragon all the time. <b class=\"match term3\">Works</b> well!The price was  ..."
      ],
      "text/plain": [
       "<IPython.core.display.Markdown object>"
      ]
     },
     "metadata": {},
     "output_type": "display_data"
    },
    {
     "name": "stdout",
     "output_type": "stream",
     "text": [
      "\n"
     ]
    }
   ],
   "source": [
    "# exibe resultados do mais para o menos similar\n",
    "search('really works', corpus['reviewText'], index=idx, n_results=10)"
   ]
  },
  {
   "cell_type": "markdown",
   "metadata": {},
   "source": [
    "<br>\n",
    "\n",
    "## Modelagem de Assuntos\n",
    "1. Usando a biblioteca Gensim, treine um modelo LSI e LDA para o seu corpus propondo uma metodologia para otimizaçao do número de assuntos\n",
    "2. Construa uma matriz de similaridade entre os documentos do corpus a partir dos pesos \n",
    "\n",
    "<font color='blue'>**Links interessantes:**</font>\n",
    "\n",
    "> - **LSI (Latent Semantic Indexing) or LSA (Latent semantic analysis):** [Wikipedia](https://en.wikipedia.org/wiki/Latent_semantic_analysis)\n",
    "<br>\n",
    ">\n",
    "> - **LDA (Latent Dirichlet Allocation):** [Wikipedia](https://en.wikipedia.org/wiki/Latent_Dirichlet_allocation)\n",
    "\n",
    "<br>\n",
    "\n",
    "## item 1"
   ]
  },
  {
   "cell_type": "code",
   "execution_count": 6,
   "metadata": {
    "ExecuteTime": {
     "end_time": "2019-12-08T02:53:56.063697Z",
     "start_time": "2019-12-08T02:53:55.992801Z"
    }
   },
   "outputs": [],
   "source": [
    "# imports adicionais do gensim\n",
    "from gensim.utils import simple_preprocess\n",
    "from gensim import corpora, models, similarities\n",
    "from gensim.models import CoherenceModel, wrappers"
   ]
  },
  {
   "cell_type": "markdown",
   "metadata": {
    "ExecuteTime": {
     "end_time": "2019-11-30T17:06:33.059137Z",
     "start_time": "2019-11-30T17:06:33.054216Z"
    }
   },
   "source": [
    "### Pré-processamento do texto\n",
    "\n",
    "<font color='red'>**Obs:** verifiquei que os resultados ficaram melhores sem remover stopwords e sem \"stemizar\" o texto - ao fazer isso, apareciam algumas inconsistências como letras soltas e 'sony' se tornava 'son', que têm significados bem distintos </font>"
   ]
  },
  {
   "cell_type": "code",
   "execution_count": 7,
   "metadata": {
    "ExecuteTime": {
     "end_time": "2019-12-08T02:53:56.193629Z",
     "start_time": "2019-12-08T02:53:56.145142Z"
    }
   },
   "outputs": [],
   "source": [
    "def tokenize_and_remove_sw(text,sw,remove_sw=True, stemize=True):\n",
    "    '''\n",
    "    Tokeniza o texto e remove stopwords.\n",
    "    \n",
    "    Argumentos:\n",
    "        - text (string): texto.\n",
    "        - sw (list): lista de stopwords.\n",
    "        - remove_sw (bool): se True, remove stopwords.\n",
    "        - stemize (bool): se True, aplica stemmer ao texto.\n",
    "    '''\n",
    "    if remove_sw and stemize:\n",
    "        clean_text = [stemmer.stem(token.strip(punctuation).lower()) for token in \n",
    "                                                   WPT().tokenize(text) if token not in sw]\n",
    "    elif remove_sw:\n",
    "        clean_text = [token.strip(punctuation).lower() for token in \n",
    "                                                   WPT().tokenize(text) if token not in sw]\n",
    "    elif stemize:\n",
    "        clean_text = [stemmer.stem(token.strip(punctuation).lower()) for token in \n",
    "                                                   WPT().tokenize(text)]\n",
    "    else:\n",
    "        clean_text = [token.strip(punctuation).lower() for token in \n",
    "                                                   WPT().tokenize(text)]\n",
    "    return clean_text"
   ]
  },
  {
   "cell_type": "code",
   "execution_count": 11,
   "metadata": {
    "ExecuteTime": {
     "end_time": "2019-12-08T03:03:05.889321Z",
     "start_time": "2019-12-08T03:03:05.866048Z"
    }
   },
   "outputs": [],
   "source": [
    "def train_models(texts, min_count=1, model=None, n_topics=8):\n",
    "    counter = Counter([])\n",
    "    for text in texts:\n",
    "        counter.update(text)\n",
    "    # retorna mensagem de erro se nenhum modelo é especificado\n",
    "    if model == None:\n",
    "        return 'Error: Please pass value to model argument from [\"tf-idf\", \"lsi\", \"lda\"]'\n",
    "    \n",
    "    # lista de modelos a serem estimados\n",
    "    model = list(model)\n",
    "    \n",
    "    # mantém apenas tokens que aparecem ao menos duas vezes\n",
    "    list_of_texts = [[token for token in text if counter[token] > min_count] \n",
    "                                                 for text in texts]  \n",
    "    # criando dicionário:\n",
    "    dic = corpora.Dictionary(list_of_texts)\n",
    "    dic.save('vocab_W2V.dict')\n",
    "    \n",
    "    # criando listas de frequências:\n",
    "    frequency_lists = [dic.doc2bow(token) for token in list_of_texts]\n",
    "    corpora.MmCorpus.serialize('frequency_list.mm', frequency_lists)\n",
    "    \n",
    "    res = []  # lista para armazenar os resultados\n",
    "    #tf-idf:\n",
    "    if sum(['idf' in s for s in model]) > 0:\n",
    "        tfidf = models.TfidfModel(frequency_lists)\n",
    "        tfidf.save('TF_IDF_model.mm')\n",
    "        corpus_tfidf = tfidf[frequency_lists]\n",
    "        res.extend([tfidf, corpus_tfidf])\n",
    "    \n",
    "    if len(res) == 0:\n",
    "        return 'Oops. To compute LSI and/or LDA models is necessary to include TF-IDF.'\n",
    "    \n",
    "    #LSI:\n",
    "    if sum(['lsi' in s for s in model]) > 0:\n",
    "        mod_lsi = models.LsiModel(corpus_tfidf, id2word= dic, num_topics=n_topics)\n",
    "        mod_lsi.save('LSI_model.mm')\n",
    "        corpus_lsi = mod_lsi[corpus_tfidf]\n",
    "        res.extend([mod_lsi, corpus_lsi])\n",
    "        \n",
    "    #LDA:\n",
    "    if sum(['lda' in s for s in model]) > 0:\n",
    "        mod_lda = models.LdaModel(corpus_tfidf, id2word= dic, num_topics=n_topics)\n",
    "        mod_llda.save('LDA_model.mm')\n",
    "        corpus_lda = mod_lda[corpus_tfidf] \n",
    "        res.extend([mod_lda, corpus_lda])\n",
    "\n",
    "    return tuple(res)\n",
    "\n",
    "\n",
    "\n",
    "def compute_lda_metrics(lda_model, min_count= 1,texts=None):  \n",
    "    counter = Counter([])\n",
    "    for text in texts:\n",
    "        counter.update(text)\n",
    "\n",
    "    # mantém apenas tokens que aparecem ao menos duas vezes\n",
    "    list_of_texts = [[token for token in text if counter[token] > min_count] \n",
    "                                                 for text in texts]\n",
    "    # criando dicionário:\n",
    "    dic = corpora.Dictionary(list_of_texts)\n",
    "    \n",
    "    # criando listas de frequências:\n",
    "    frequency_lists = [dic.doc2bow(token) for token in list_of_texts]\n",
    "    \n",
    "    # Compute Perplexity\n",
    "    perplexity = lda_model.log_perplexity(frequency_lists)\n",
    "#     print('Perplexity:', perplexity)\n",
    "    \n",
    "    # Compute Coherence Score\n",
    "    coherence_model_lda = CoherenceModel(model=lda_model, texts= list_of_texts, coherence='c_v')\n",
    "    coherence_lda = coherence_model_lda.get_coherence()\n",
    "#     print('\\nCoherence Score: ', coherence_lda)\n",
    "    \n",
    "    return (perplexity, coherence_lda)"
   ]
  },
  {
   "cell_type": "markdown",
   "metadata": {},
   "source": [
    "<font color='red' size='5'>**OBS:** Para recuperar as informações, carregar a lista de frequências, tf-idf e os modelos. Depois, serializar dessa forma: corpus_lda = mod_lda[corpus_tfidf], onde corpus_tfidf = tfidf[frequency_lists] </font>"
   ]
  },
  {
   "cell_type": "markdown",
   "metadata": {},
   "source": [
    "### stemizando e removendo stopwords"
   ]
  },
  {
   "cell_type": "code",
   "execution_count": 9,
   "metadata": {
    "ExecuteTime": {
     "end_time": "2019-12-08T02:55:56.335265Z",
     "start_time": "2019-12-08T02:53:58.486668Z"
    }
   },
   "outputs": [],
   "source": [
    "n = corpus.shape[0]  # número de obs\n",
    "corpus['tokenized_reviews'] = corpus['reviewText'].iloc[:n].apply(lambda x:\n",
    "                            tokenize_and_remove_sw(x, swu, stemize=False, remove_sw=True))"
   ]
  },
  {
   "cell_type": "markdown",
   "metadata": {},
   "source": [
    "### Selecionando o número de tópicos\n",
    "\n",
    "Agora, vamos treinar o modelo **LDA** para diferentes números de tópicos e selecionar a quantidade que maximiza o score de coerência."
   ]
  },
  {
   "cell_type": "code",
   "execution_count": 25,
   "metadata": {
    "ExecuteTime": {
     "end_time": "2019-12-02T23:41:16.420112Z",
     "start_time": "2019-12-02T23:30:41.572629Z"
    }
   },
   "outputs": [
    {
     "name": "stderr",
     "output_type": "stream",
     "text": [
      "100%|██████████| 19/19 [10:34<00:00, 33.41s/it]\n"
     ]
    }
   ],
   "source": [
    "perplexity = []\n",
    "coherence = []\n",
    "num_topics = []\n",
    "\n",
    "# n = 10000  # número de observações\n",
    "for k in tqdm(range(1,20)):\n",
    "    # treinando os modelos\n",
    "    tfidf_model, tfidf, lsi_model, lsi, lda_model, lda = train_models(corpus['tokenized_reviews'].iloc[:n], \n",
    "                                                        model=['tf-idf', 'lsi', 'lda'], n_topics=k)\n",
    "    \n",
    "    metrics = compute_lda_metrics(lda_model, texts=corpus['tokenized_reviews'].iloc[:n])\n",
    "    perplexity.append(metrics[0])\n",
    "    coherence.append(metrics[1])\n",
    "    num_topics.append(n)"
   ]
  },
  {
   "cell_type": "code",
   "execution_count": 26,
   "metadata": {
    "ExecuteTime": {
     "end_time": "2019-12-02T23:41:17.382481Z",
     "start_time": "2019-12-02T23:41:16.462018Z"
    }
   },
   "outputs": [
    {
     "data": {
      "image/png": "[encoded data removed]",
      "text/plain": [
       "<Figure size 1080x360 with 2 Axes>"
      ]
     },
     "metadata": {},
     "output_type": "display_data"
    }
   ],
   "source": [
    "sns.set()\n",
    "fig, ax = plt.subplots(ncols=2, figsize=(15,5));\n",
    "\n",
    "ax[0].plot(num_topics, perplexity, color='firebrick');\n",
    "ax[1].plot(num_topics, coherence, color='teal');\n",
    "\n",
    "ax[0].set_xlabel('Número de Tópicos');\n",
    "ax[1].set_xlabel('Número de Tópicos');\n",
    "\n",
    "ax[0].set_title('Perplexidade');\n",
    "ax[1].set_title('Escore de Coerência');"
   ]
  },
  {
   "cell_type": "markdown",
   "metadata": {},
   "source": [
    "Analisando os gráficos acima, temos que a quantidade de tópicos que maximiza o escore de coerência e minimiza a métrica de perplexidade é $18$. Agora, vamos computar os modelos para essa quantidade de tópicos."
   ]
  },
  {
   "cell_type": "code",
   "execution_count": 10,
   "metadata": {
    "ExecuteTime": {
     "end_time": "2019-12-08T02:59:42.041815Z",
     "start_time": "2019-12-08T02:56:12.415371Z"
    }
   },
   "outputs": [
    {
     "ename": "KeyboardInterrupt",
     "evalue": "",
     "output_type": "error",
     "traceback": [
      "\u001b[0;31m---------------------------------------------------------------------------\u001b[0m",
      "\u001b[0;31mKeyboardInterrupt\u001b[0m                         Traceback (most recent call last)",
      "\u001b[0;32m<ipython-input-10-ec98f0eba2ab>\u001b[0m in \u001b[0;36m<module>\u001b[0;34m\u001b[0m\n\u001b[1;32m      1\u001b[0m \u001b[0;31m# obtendo resultados dos três modelos\u001b[0m\u001b[0;34m\u001b[0m\u001b[0;34m\u001b[0m\u001b[0;34m\u001b[0m\u001b[0m\n\u001b[1;32m      2\u001b[0m tfidf_model, tfidf, lsi_model, lsi, lda_model, lda = train_models(corpus['tokenized_reviews'].iloc[:n], \n\u001b[0;32m----> 3\u001b[0;31m                                                             model=['tf-idf', 'lsi', 'lda'], n_topics=18)\n\u001b[0m",
      "\u001b[0;32m<ipython-input-8-1b5541da4fbe>\u001b[0m in \u001b[0;36mtrain_models\u001b[0;34m(texts, min_count, model, n_topics)\u001b[0m\n\u001b[1;32m     33\u001b[0m     \u001b[0;31m#LSI:\u001b[0m\u001b[0;34m\u001b[0m\u001b[0;34m\u001b[0m\u001b[0;34m\u001b[0m\u001b[0m\n\u001b[1;32m     34\u001b[0m     \u001b[0;32mif\u001b[0m \u001b[0msum\u001b[0m\u001b[0;34m(\u001b[0m\u001b[0;34m[\u001b[0m\u001b[0;34m'lsi'\u001b[0m \u001b[0;32min\u001b[0m \u001b[0ms\u001b[0m \u001b[0;32mfor\u001b[0m \u001b[0ms\u001b[0m \u001b[0;32min\u001b[0m \u001b[0mmodel\u001b[0m\u001b[0;34m]\u001b[0m\u001b[0;34m)\u001b[0m \u001b[0;34m>\u001b[0m \u001b[0;36m0\u001b[0m\u001b[0;34m:\u001b[0m\u001b[0;34m\u001b[0m\u001b[0;34m\u001b[0m\u001b[0m\n\u001b[0;32m---> 35\u001b[0;31m         \u001b[0mmod_lsi\u001b[0m \u001b[0;34m=\u001b[0m \u001b[0mmodels\u001b[0m\u001b[0;34m.\u001b[0m\u001b[0mLsiModel\u001b[0m\u001b[0;34m(\u001b[0m\u001b[0mcorpus_tfidf\u001b[0m\u001b[0;34m,\u001b[0m \u001b[0mid2word\u001b[0m\u001b[0;34m=\u001b[0m \u001b[0mdic\u001b[0m\u001b[0;34m,\u001b[0m \u001b[0mnum_topics\u001b[0m\u001b[0;34m=\u001b[0m\u001b[0mn_topics\u001b[0m\u001b[0;34m)\u001b[0m\u001b[0;34m\u001b[0m\u001b[0;34m\u001b[0m\u001b[0m\n\u001b[0m\u001b[1;32m     36\u001b[0m         \u001b[0mcorpus_lsi\u001b[0m \u001b[0;34m=\u001b[0m \u001b[0mmod_lsi\u001b[0m\u001b[0;34m[\u001b[0m\u001b[0mcorpus_tfidf\u001b[0m\u001b[0;34m]\u001b[0m\u001b[0;34m\u001b[0m\u001b[0;34m\u001b[0m\u001b[0m\n\u001b[1;32m     37\u001b[0m         \u001b[0mres\u001b[0m\u001b[0;34m.\u001b[0m\u001b[0mextend\u001b[0m\u001b[0;34m(\u001b[0m\u001b[0;34m[\u001b[0m\u001b[0mmod_lsi\u001b[0m\u001b[0;34m,\u001b[0m \u001b[0mcorpus_lsi\u001b[0m\u001b[0;34m]\u001b[0m\u001b[0;34m)\u001b[0m\u001b[0;34m\u001b[0m\u001b[0;34m\u001b[0m\u001b[0m\n",
      "\u001b[0;32m~/anaconda3/lib/python3.7/site-packages/gensim/models/lsimodel.py\u001b[0m in \u001b[0;36m__init__\u001b[0;34m(self, corpus, num_topics, id2word, chunksize, decay, distributed, onepass, power_iters, extra_samples, dtype)\u001b[0m\n\u001b[1;32m    443\u001b[0m \u001b[0;34m\u001b[0m\u001b[0m\n\u001b[1;32m    444\u001b[0m         \u001b[0;32mif\u001b[0m \u001b[0mcorpus\u001b[0m \u001b[0;32mis\u001b[0m \u001b[0;32mnot\u001b[0m \u001b[0;32mNone\u001b[0m\u001b[0;34m:\u001b[0m\u001b[0;34m\u001b[0m\u001b[0;34m\u001b[0m\u001b[0m\n\u001b[0;32m--> 445\u001b[0;31m             \u001b[0mself\u001b[0m\u001b[0;34m.\u001b[0m\u001b[0madd_documents\u001b[0m\u001b[0;34m(\u001b[0m\u001b[0mcorpus\u001b[0m\u001b[0;34m)\u001b[0m\u001b[0;34m\u001b[0m\u001b[0;34m\u001b[0m\u001b[0m\n\u001b[0m\u001b[1;32m    446\u001b[0m \u001b[0;34m\u001b[0m\u001b[0m\n\u001b[1;32m    447\u001b[0m     \u001b[0;32mdef\u001b[0m \u001b[0madd_documents\u001b[0m\u001b[0;34m(\u001b[0m\u001b[0mself\u001b[0m\u001b[0;34m,\u001b[0m \u001b[0mcorpus\u001b[0m\u001b[0;34m,\u001b[0m \u001b[0mchunksize\u001b[0m\u001b[0;34m=\u001b[0m\u001b[0;32mNone\u001b[0m\u001b[0;34m,\u001b[0m \u001b[0mdecay\u001b[0m\u001b[0;34m=\u001b[0m\u001b[0;32mNone\u001b[0m\u001b[0;34m)\u001b[0m\u001b[0;34m:\u001b[0m\u001b[0;34m\u001b[0m\u001b[0;34m\u001b[0m\u001b[0m\n",
      "\u001b[0;32m~/anaconda3/lib/python3.7/site-packages/gensim/models/lsimodel.py\u001b[0m in \u001b[0;36madd_documents\u001b[0;34m(self, corpus, chunksize, decay)\u001b[0m\n\u001b[1;32m    489\u001b[0m                     \u001b[0mlogger\u001b[0m\u001b[0;34m.\u001b[0m\u001b[0minfo\u001b[0m\u001b[0;34m(\u001b[0m\u001b[0;34m'initializing %s workers'\u001b[0m\u001b[0;34m,\u001b[0m \u001b[0mself\u001b[0m\u001b[0;34m.\u001b[0m\u001b[0mnumworkers\u001b[0m\u001b[0;34m)\u001b[0m\u001b[0;34m\u001b[0m\u001b[0;34m\u001b[0m\u001b[0m\n\u001b[1;32m    490\u001b[0m                     \u001b[0mself\u001b[0m\u001b[0;34m.\u001b[0m\u001b[0mdispatcher\u001b[0m\u001b[0;34m.\u001b[0m\u001b[0mreset\u001b[0m\u001b[0;34m(\u001b[0m\u001b[0;34m)\u001b[0m\u001b[0;34m\u001b[0m\u001b[0;34m\u001b[0m\u001b[0m\n\u001b[0;32m--> 491\u001b[0;31m                 \u001b[0;32mfor\u001b[0m \u001b[0mchunk_no\u001b[0m\u001b[0;34m,\u001b[0m \u001b[0mchunk\u001b[0m \u001b[0;32min\u001b[0m \u001b[0menumerate\u001b[0m\u001b[0;34m(\u001b[0m\u001b[0mutils\u001b[0m\u001b[0;34m.\u001b[0m\u001b[0mgrouper\u001b[0m\u001b[0;34m(\u001b[0m\u001b[0mcorpus\u001b[0m\u001b[0;34m,\u001b[0m \u001b[0mchunksize\u001b[0m\u001b[0;34m)\u001b[0m\u001b[0;34m)\u001b[0m\u001b[0;34m:\u001b[0m\u001b[0;34m\u001b[0m\u001b[0;34m\u001b[0m\u001b[0m\n\u001b[0m\u001b[1;32m    492\u001b[0m                     \u001b[0mlogger\u001b[0m\u001b[0;34m.\u001b[0m\u001b[0minfo\u001b[0m\u001b[0;34m(\u001b[0m\u001b[0;34m\"preparing a new chunk of documents\"\u001b[0m\u001b[0;34m)\u001b[0m\u001b[0;34m\u001b[0m\u001b[0;34m\u001b[0m\u001b[0m\n\u001b[1;32m    493\u001b[0m                     \u001b[0mnnz\u001b[0m \u001b[0;34m=\u001b[0m \u001b[0msum\u001b[0m\u001b[0;34m(\u001b[0m\u001b[0mlen\u001b[0m\u001b[0;34m(\u001b[0m\u001b[0mdoc\u001b[0m\u001b[0;34m)\u001b[0m \u001b[0;32mfor\u001b[0m \u001b[0mdoc\u001b[0m \u001b[0;32min\u001b[0m \u001b[0mchunk\u001b[0m\u001b[0;34m)\u001b[0m\u001b[0;34m\u001b[0m\u001b[0;34m\u001b[0m\u001b[0m\n",
      "\u001b[0;32m~/anaconda3/lib/python3.7/site-packages/gensim/utils.py\u001b[0m in \u001b[0;36mchunkize_serial\u001b[0;34m(iterable, chunksize, as_numpy, dtype)\u001b[0m\n\u001b[1;32m   1168\u001b[0m             \u001b[0mwrapped_chunk\u001b[0m \u001b[0;34m=\u001b[0m \u001b[0;34m[\u001b[0m\u001b[0;34m[\u001b[0m\u001b[0mnp\u001b[0m\u001b[0;34m.\u001b[0m\u001b[0marray\u001b[0m\u001b[0;34m(\u001b[0m\u001b[0mdoc\u001b[0m\u001b[0;34m,\u001b[0m \u001b[0mdtype\u001b[0m\u001b[0;34m=\u001b[0m\u001b[0mdtype\u001b[0m\u001b[0;34m)\u001b[0m \u001b[0;32mfor\u001b[0m \u001b[0mdoc\u001b[0m \u001b[0;32min\u001b[0m \u001b[0mitertools\u001b[0m\u001b[0;34m.\u001b[0m\u001b[0mislice\u001b[0m\u001b[0;34m(\u001b[0m\u001b[0mit\u001b[0m\u001b[0;34m,\u001b[0m \u001b[0mint\u001b[0m\u001b[0;34m(\u001b[0m\u001b[0mchunksize\u001b[0m\u001b[0;34m)\u001b[0m\u001b[0;34m)\u001b[0m\u001b[0;34m]\u001b[0m\u001b[0;34m]\u001b[0m\u001b[0;34m\u001b[0m\u001b[0;34m\u001b[0m\u001b[0m\n\u001b[1;32m   1169\u001b[0m         \u001b[0;32melse\u001b[0m\u001b[0;34m:\u001b[0m\u001b[0;34m\u001b[0m\u001b[0;34m\u001b[0m\u001b[0m\n\u001b[0;32m-> 1170\u001b[0;31m             \u001b[0mwrapped_chunk\u001b[0m \u001b[0;34m=\u001b[0m \u001b[0;34m[\u001b[0m\u001b[0mlist\u001b[0m\u001b[0;34m(\u001b[0m\u001b[0mitertools\u001b[0m\u001b[0;34m.\u001b[0m\u001b[0mislice\u001b[0m\u001b[0;34m(\u001b[0m\u001b[0mit\u001b[0m\u001b[0;34m,\u001b[0m \u001b[0mint\u001b[0m\u001b[0;34m(\u001b[0m\u001b[0mchunksize\u001b[0m\u001b[0;34m)\u001b[0m\u001b[0;34m)\u001b[0m\u001b[0;34m)\u001b[0m\u001b[0;34m]\u001b[0m\u001b[0;34m\u001b[0m\u001b[0;34m\u001b[0m\u001b[0m\n\u001b[0m\u001b[1;32m   1171\u001b[0m         \u001b[0;32mif\u001b[0m \u001b[0;32mnot\u001b[0m \u001b[0mwrapped_chunk\u001b[0m\u001b[0;34m[\u001b[0m\u001b[0;36m0\u001b[0m\u001b[0;34m]\u001b[0m\u001b[0;34m:\u001b[0m\u001b[0;34m\u001b[0m\u001b[0;34m\u001b[0m\u001b[0m\n\u001b[1;32m   1172\u001b[0m             \u001b[0;32mbreak\u001b[0m\u001b[0;34m\u001b[0m\u001b[0;34m\u001b[0m\u001b[0m\n",
      "\u001b[0;32m~/anaconda3/lib/python3.7/site-packages/gensim/interfaces.py\u001b[0m in \u001b[0;36m__iter__\u001b[0;34m(self)\u001b[0m\n\u001b[1;32m    179\u001b[0m         \u001b[0;32melse\u001b[0m\u001b[0;34m:\u001b[0m\u001b[0;34m\u001b[0m\u001b[0;34m\u001b[0m\u001b[0m\n\u001b[1;32m    180\u001b[0m             \u001b[0;32mfor\u001b[0m \u001b[0mdoc\u001b[0m \u001b[0;32min\u001b[0m \u001b[0mself\u001b[0m\u001b[0;34m.\u001b[0m\u001b[0mcorpus\u001b[0m\u001b[0;34m:\u001b[0m\u001b[0;34m\u001b[0m\u001b[0;34m\u001b[0m\u001b[0m\n\u001b[0;32m--> 181\u001b[0;31m                 \u001b[0;32myield\u001b[0m \u001b[0mself\u001b[0m\u001b[0;34m.\u001b[0m\u001b[0mobj\u001b[0m\u001b[0;34m[\u001b[0m\u001b[0mdoc\u001b[0m\u001b[0;34m]\u001b[0m\u001b[0;34m\u001b[0m\u001b[0;34m\u001b[0m\u001b[0m\n\u001b[0m\u001b[1;32m    182\u001b[0m \u001b[0;34m\u001b[0m\u001b[0m\n\u001b[1;32m    183\u001b[0m     \u001b[0;32mdef\u001b[0m \u001b[0m__getitem__\u001b[0m\u001b[0;34m(\u001b[0m\u001b[0mself\u001b[0m\u001b[0;34m,\u001b[0m \u001b[0mdocno\u001b[0m\u001b[0;34m)\u001b[0m\u001b[0;34m:\u001b[0m\u001b[0;34m\u001b[0m\u001b[0;34m\u001b[0m\u001b[0m\n",
      "\u001b[0;32m~/anaconda3/lib/python3.7/site-packages/gensim/models/tfidfmodel.py\u001b[0m in \u001b[0;36m__getitem__\u001b[0;34m(self, bow, eps)\u001b[0m\n\u001b[1;32m    540\u001b[0m                 \u001b[0m_\u001b[0m\u001b[0;34m,\u001b[0m \u001b[0mold_norm\u001b[0m \u001b[0;34m=\u001b[0m \u001b[0mself\u001b[0m\u001b[0;34m.\u001b[0m\u001b[0mnormalize\u001b[0m\u001b[0;34m(\u001b[0m\u001b[0mvector\u001b[0m\u001b[0;34m,\u001b[0m \u001b[0mreturn_norm\u001b[0m\u001b[0;34m=\u001b[0m\u001b[0;32mTrue\u001b[0m\u001b[0;34m)\u001b[0m\u001b[0;34m\u001b[0m\u001b[0;34m\u001b[0m\u001b[0m\n\u001b[1;32m    541\u001b[0m             \u001b[0;32melse\u001b[0m\u001b[0;34m:\u001b[0m\u001b[0;34m\u001b[0m\u001b[0;34m\u001b[0m\u001b[0m\n\u001b[0;32m--> 542\u001b[0;31m                 \u001b[0mnorm_vector\u001b[0m \u001b[0;34m=\u001b[0m \u001b[0mself\u001b[0m\u001b[0;34m.\u001b[0m\u001b[0mnormalize\u001b[0m\u001b[0;34m(\u001b[0m\u001b[0mvector\u001b[0m\u001b[0;34m)\u001b[0m\u001b[0;34m\u001b[0m\u001b[0;34m\u001b[0m\u001b[0m\n\u001b[0m\u001b[1;32m    543\u001b[0m \u001b[0;34m\u001b[0m\u001b[0m\n\u001b[1;32m    544\u001b[0m         \u001b[0;32mif\u001b[0m \u001b[0mself\u001b[0m\u001b[0;34m.\u001b[0m\u001b[0mpivot\u001b[0m \u001b[0;32mis\u001b[0m \u001b[0;32mNone\u001b[0m\u001b[0;34m:\u001b[0m\u001b[0;34m\u001b[0m\u001b[0;34m\u001b[0m\u001b[0m\n",
      "\u001b[0;32m~/anaconda3/lib/python3.7/site-packages/gensim/matutils.py\u001b[0m in \u001b[0;36munitvec\u001b[0;34m(vec, norm, return_norm)\u001b[0m\n\u001b[1;32m    777\u001b[0m             \u001b[0mlength\u001b[0m \u001b[0;34m=\u001b[0m \u001b[0mfloat\u001b[0m\u001b[0;34m(\u001b[0m\u001b[0msum\u001b[0m\u001b[0;34m(\u001b[0m\u001b[0mabs\u001b[0m\u001b[0;34m(\u001b[0m\u001b[0mval\u001b[0m\u001b[0;34m)\u001b[0m \u001b[0;32mfor\u001b[0m \u001b[0m_\u001b[0m\u001b[0;34m,\u001b[0m \u001b[0mval\u001b[0m \u001b[0;32min\u001b[0m \u001b[0mvec\u001b[0m\u001b[0;34m)\u001b[0m\u001b[0;34m)\u001b[0m\u001b[0;34m\u001b[0m\u001b[0;34m\u001b[0m\u001b[0m\n\u001b[1;32m    778\u001b[0m         \u001b[0;32mif\u001b[0m \u001b[0mnorm\u001b[0m \u001b[0;34m==\u001b[0m \u001b[0;34m'l2'\u001b[0m\u001b[0;34m:\u001b[0m\u001b[0;34m\u001b[0m\u001b[0;34m\u001b[0m\u001b[0m\n\u001b[0;32m--> 779\u001b[0;31m             \u001b[0mlength\u001b[0m \u001b[0;34m=\u001b[0m \u001b[0;36m1.0\u001b[0m \u001b[0;34m*\u001b[0m \u001b[0mmath\u001b[0m\u001b[0;34m.\u001b[0m\u001b[0msqrt\u001b[0m\u001b[0;34m(\u001b[0m\u001b[0msum\u001b[0m\u001b[0;34m(\u001b[0m\u001b[0mval\u001b[0m \u001b[0;34m**\u001b[0m \u001b[0;36m2\u001b[0m \u001b[0;32mfor\u001b[0m \u001b[0m_\u001b[0m\u001b[0;34m,\u001b[0m \u001b[0mval\u001b[0m \u001b[0;32min\u001b[0m \u001b[0mvec\u001b[0m\u001b[0;34m)\u001b[0m\u001b[0;34m)\u001b[0m\u001b[0;34m\u001b[0m\u001b[0;34m\u001b[0m\u001b[0m\n\u001b[0m\u001b[1;32m    780\u001b[0m         \u001b[0;32mif\u001b[0m \u001b[0mnorm\u001b[0m \u001b[0;34m==\u001b[0m \u001b[0;34m'unique'\u001b[0m\u001b[0;34m:\u001b[0m\u001b[0;34m\u001b[0m\u001b[0;34m\u001b[0m\u001b[0m\n\u001b[1;32m    781\u001b[0m             \u001b[0mlength\u001b[0m \u001b[0;34m=\u001b[0m \u001b[0;36m1.0\u001b[0m \u001b[0;34m*\u001b[0m \u001b[0mlen\u001b[0m\u001b[0;34m(\u001b[0m\u001b[0mvec\u001b[0m\u001b[0;34m)\u001b[0m\u001b[0;34m\u001b[0m\u001b[0;34m\u001b[0m\u001b[0m\n",
      "\u001b[0;32m~/anaconda3/lib/python3.7/site-packages/gensim/matutils.py\u001b[0m in \u001b[0;36m<genexpr>\u001b[0;34m(.0)\u001b[0m\n\u001b[1;32m    777\u001b[0m             \u001b[0mlength\u001b[0m \u001b[0;34m=\u001b[0m \u001b[0mfloat\u001b[0m\u001b[0;34m(\u001b[0m\u001b[0msum\u001b[0m\u001b[0;34m(\u001b[0m\u001b[0mabs\u001b[0m\u001b[0;34m(\u001b[0m\u001b[0mval\u001b[0m\u001b[0;34m)\u001b[0m \u001b[0;32mfor\u001b[0m \u001b[0m_\u001b[0m\u001b[0;34m,\u001b[0m \u001b[0mval\u001b[0m \u001b[0;32min\u001b[0m \u001b[0mvec\u001b[0m\u001b[0;34m)\u001b[0m\u001b[0;34m)\u001b[0m\u001b[0;34m\u001b[0m\u001b[0;34m\u001b[0m\u001b[0m\n\u001b[1;32m    778\u001b[0m         \u001b[0;32mif\u001b[0m \u001b[0mnorm\u001b[0m \u001b[0;34m==\u001b[0m \u001b[0;34m'l2'\u001b[0m\u001b[0;34m:\u001b[0m\u001b[0;34m\u001b[0m\u001b[0;34m\u001b[0m\u001b[0m\n\u001b[0;32m--> 779\u001b[0;31m             \u001b[0mlength\u001b[0m \u001b[0;34m=\u001b[0m \u001b[0;36m1.0\u001b[0m \u001b[0;34m*\u001b[0m \u001b[0mmath\u001b[0m\u001b[0;34m.\u001b[0m\u001b[0msqrt\u001b[0m\u001b[0;34m(\u001b[0m\u001b[0msum\u001b[0m\u001b[0;34m(\u001b[0m\u001b[0mval\u001b[0m \u001b[0;34m**\u001b[0m \u001b[0;36m2\u001b[0m \u001b[0;32mfor\u001b[0m \u001b[0m_\u001b[0m\u001b[0;34m,\u001b[0m \u001b[0mval\u001b[0m \u001b[0;32min\u001b[0m \u001b[0mvec\u001b[0m\u001b[0;34m)\u001b[0m\u001b[0;34m)\u001b[0m\u001b[0;34m\u001b[0m\u001b[0;34m\u001b[0m\u001b[0m\n\u001b[0m\u001b[1;32m    780\u001b[0m         \u001b[0;32mif\u001b[0m \u001b[0mnorm\u001b[0m \u001b[0;34m==\u001b[0m \u001b[0;34m'unique'\u001b[0m\u001b[0;34m:\u001b[0m\u001b[0;34m\u001b[0m\u001b[0;34m\u001b[0m\u001b[0m\n\u001b[1;32m    781\u001b[0m             \u001b[0mlength\u001b[0m \u001b[0;34m=\u001b[0m \u001b[0;36m1.0\u001b[0m \u001b[0;34m*\u001b[0m \u001b[0mlen\u001b[0m\u001b[0;34m(\u001b[0m\u001b[0mvec\u001b[0m\u001b[0;34m)\u001b[0m\u001b[0;34m\u001b[0m\u001b[0;34m\u001b[0m\u001b[0m\n",
      "\u001b[0;31mKeyboardInterrupt\u001b[0m: "
     ]
    }
   ],
   "source": [
    "# obtendo resultados dos três modelos\n",
    "tfidf_model, tfidf, lsi_model, lsi, lda_model, lda = train_models(corpus['tokenized_reviews'].iloc[:n], \n",
    "                                                            model=['tf-idf', 'lsi', 'lda'], n_topics=18)"
   ]
  },
  {
   "cell_type": "markdown",
   "metadata": {},
   "source": [
    "#### TF-IDF\n",
    "\n",
    "Abaixo, temos um exemplo de tf-idf para o primeiro *review* do corpus. (id_termo, frequência)"
   ]
  },
  {
   "cell_type": "code",
   "execution_count": 28,
   "metadata": {
    "ExecuteTime": {
     "end_time": "2019-12-02T23:41:36.430272Z",
     "start_time": "2019-12-02T23:41:36.396478Z"
    }
   },
   "outputs": [
    {
     "data": {
      "text/plain": [
       "'0528881469'"
      ]
     },
     "execution_count": 28,
     "metadata": {},
     "output_type": "execute_result"
    }
   ],
   "source": [
    "corpus.iloc[0,1]"
   ]
  },
  {
   "cell_type": "code",
   "execution_count": 29,
   "metadata": {
    "ExecuteTime": {
     "end_time": "2019-12-02T23:41:36.675719Z",
     "start_time": "2019-12-02T23:41:36.493880Z"
    }
   },
   "outputs": [
    {
     "data": {
      "text/plain": [
       "[(143, 0.41190681660828277),\n",
       " (147, 0.4067202644046221),\n",
       " (9, 0.2569114325863382),\n",
       " (104, 0.24062103096605883),\n",
       " (118, 0.2335106169280995),\n",
       " (34, 0.16476272664331312),\n",
       " (55, 0.15236309592155756),\n",
       " (134, 0.1517527242527527),\n",
       " (135, 0.14560168593230155),\n",
       " (10, 0.14510977692654053)]"
      ]
     },
     "execution_count": 29,
     "metadata": {},
     "output_type": "execute_result"
    }
   ],
   "source": [
    "# exemplo: tf-idf para o primeiro texto\n",
    "sorted(tfidf[0], key=lambda tupla: tupla[1],reverse=True)[:10]"
   ]
  },
  {
   "cell_type": "markdown",
   "metadata": {},
   "source": [
    "#### LSI"
   ]
  },
  {
   "cell_type": "code",
   "execution_count": 30,
   "metadata": {
    "ExecuteTime": {
     "end_time": "2019-12-02T23:41:36.795930Z",
     "start_time": "2019-12-02T23:41:36.728145Z"
    }
   },
   "outputs": [
    {
     "data": {
      "text/plain": [
       "[(0, 0.1388798897967015),\n",
       " (16, 0.05944610675675745),\n",
       " (17, 0.04202774135535914),\n",
       " (7, 0.03421543615986791),\n",
       " (1, 0.029065377920136696),\n",
       " (6, 0.029047627452630245),\n",
       " (11, 0.02848793612122293),\n",
       " (10, 0.025470027122018138),\n",
       " (9, 0.01727273258515659),\n",
       " (5, 0.009408559438690033),\n",
       " (8, 0.006754410773540017),\n",
       " (13, 0.004510186008428679),\n",
       " (12, 0.0006103133998796594),\n",
       " (15, -0.01473085783145636),\n",
       " (4, -0.023472803856375277),\n",
       " (14, -0.029626336130132724),\n",
       " (2, -0.03784302103477646),\n",
       " (3, -0.052598389917270776)]"
      ]
     },
     "execution_count": 30,
     "metadata": {},
     "output_type": "execute_result"
    }
   ],
   "source": [
    "sorted(lsi[0], key=lambda tupla:tupla[1], reverse=True)"
   ]
  },
  {
   "cell_type": "code",
   "execution_count": 31,
   "metadata": {
    "ExecuteTime": {
     "end_time": "2019-12-02T23:41:36.884576Z",
     "start_time": "2019-12-02T23:41:36.846966Z"
    }
   },
   "outputs": [
    {
     "data": {
      "text/plain": [
       "[(0,\n",
       "  '0.191*\"len\" + 0.159*\"i\" + 0.156*\"\" + 0.137*\"camera\" + 0.133*\"cabl\" + 0.125*\"use\"'),\n",
       " (1,\n",
       "  '-0.658*\"len\" + -0.206*\"camera\" + 0.188*\"cabl\" + 0.158*\"sound\" + -0.142*\"filter\" + 0.142*\"headphon\"'),\n",
       " (2,\n",
       "  '0.373*\"headphon\" + 0.353*\"sound\" + -0.305*\"cabl\" + 0.219*\"ear\" + 0.203*\"speaker\" + -0.159*\"router\"'),\n",
       " (3,\n",
       "  '0.590*\"cabl\" + -0.334*\"camera\" + 0.286*\"len\" + -0.166*\"batteri\" + -0.163*\"card\" + -0.151*\"mous\"'),\n",
       " (4,\n",
       "  '0.505*\"camera\" + 0.377*\"cabl\" + -0.318*\"mous\" + -0.237*\"len\" + -0.190*\"router\" + 0.152*\"pictur\"')]"
      ]
     },
     "execution_count": 31,
     "metadata": {},
     "output_type": "execute_result"
    }
   ],
   "source": [
    "lsi_model.print_topics(num_topics=5, num_words=6)"
   ]
  },
  {
   "cell_type": "markdown",
   "metadata": {},
   "source": [
    "O tópico 3 parece estar associado à equipamentos de fotografia, pois aparecem as palavras **camera**, **cable**, **batteries**, **lens** e **card**.\n",
    "\n",
    "Já o tópico 2, parece estar associado à equipamentos de som, pois aparecem as palavras **headphone**, **sound**, **cable**, **ear** e **speaker**."
   ]
  },
  {
   "cell_type": "markdown",
   "metadata": {},
   "source": [
    "#### LDA"
   ]
  },
  {
   "cell_type": "code",
   "execution_count": 32,
   "metadata": {
    "ExecuteTime": {
     "end_time": "2019-12-02T23:41:36.978891Z",
     "start_time": "2019-12-02T23:41:36.948075Z"
    }
   },
   "outputs": [
    {
     "data": {
      "text/plain": [
       "[(5, 0.063259326), (7, 0.71208805), (10, 0.121258)]"
      ]
     },
     "execution_count": 32,
     "metadata": {},
     "output_type": "execute_result"
    }
   ],
   "source": [
    "lda[0]"
   ]
  },
  {
   "cell_type": "code",
   "execution_count": 33,
   "metadata": {
    "ExecuteTime": {
     "end_time": "2019-12-02T23:41:37.067510Z",
     "start_time": "2019-12-02T23:41:37.042295Z"
    }
   },
   "outputs": [
    {
     "data": {
      "text/plain": [
       "[(2,\n",
       "  '0.014*\"surg\" + 0.013*\"outlet\" + 0.009*\"protector\" + 0.007*\"plug\" + 0.007*\"cabl\" + 0.005*\"work\"'),\n",
       " (9,\n",
       "  '0.005*\"gaug\" + 0.004*\"dash\" + 0.004*\"soft\" + 0.004*\"16\" + 0.004*\"depth\" + 0.004*\"mb\"'),\n",
       " (11,\n",
       "  '0.008*\"scanner\" + 0.007*\"word\" + 0.006*\"didnt\" + 0.005*\"awar\" + 0.005*\"fi\" + 0.005*\"booster\"'),\n",
       " (15,\n",
       "  '0.011*\"mous\" + 0.006*\"cabl\" + 0.005*\"prime\" + 0.005*\"doe\" + 0.004*\"use\" + 0.004*\"product\"'),\n",
       " (16,\n",
       "  '0.017*\"router\" + 0.012*\"port\" + 0.010*\"linksi\" + 0.010*\"wireless\" + 0.010*\"usb\" + 0.009*\"network\"')]"
      ]
     },
     "execution_count": 33,
     "metadata": {},
     "output_type": "execute_result"
    }
   ],
   "source": [
    "sorted(lda_model.print_topics(num_topics=5, num_words=6))"
   ]
  },
  {
   "cell_type": "markdown",
   "metadata": {},
   "source": [
    "O tópico 4 parece estar associado a periféricos para computadores, pois aparecem as palavras **cds**, **mouse**, **cordless**."
   ]
  },
  {
   "cell_type": "markdown",
   "metadata": {},
   "source": [
    "## item 2\n",
    "\n",
    "### Construindo matriz de similaridades."
   ]
  },
  {
   "cell_type": "code",
   "execution_count": 34,
   "metadata": {
    "ExecuteTime": {
     "end_time": "2019-12-02T23:41:37.177959Z",
     "start_time": "2019-12-02T23:41:37.119561Z"
    }
   },
   "outputs": [],
   "source": [
    "def create_similarity_matrix(model, n=10):\n",
    "    '''\n",
    "    Cria matriz de similaridade.\n",
    "    \n",
    "    Argumentos:\n",
    "        - model (gensim model obj.): um dos três modelos (tf-idf, LSI ou LDA)\n",
    "        - n_doc (int): # de documentos para calcular as similaridades (dimensão da matriz)\n",
    "    '''\n",
    "    head = corpus.iloc[:n,].index  # estou usando índice do dataframe para identificação\n",
    "    source = [elem[:n] for elem in list(similarities.MatrixSimilarity(model))][:n]\n",
    "\n",
    "    similarity_matrix = pd.DataFrame(source, index= head.values, columns= head)\n",
    "    return similarity_matrix"
   ]
  },
  {
   "cell_type": "code",
   "execution_count": 35,
   "metadata": {
    "ExecuteTime": {
     "end_time": "2019-12-02T23:42:01.544244Z",
     "start_time": "2019-12-02T23:41:37.234199Z"
    }
   },
   "outputs": [
    {
     "data": {
      "text/html": [
       "<div>\n",
       "<style scoped>\n",
       "    .dataframe tbody tr th:only-of-type {\n",
       "        vertical-align: middle;\n",
       "    }\n",
       "\n",
       "    .dataframe tbody tr th {\n",
       "        vertical-align: top;\n",
       "    }\n",
       "\n",
       "    .dataframe thead th {\n",
       "        text-align: right;\n",
       "    }\n",
       "</style>\n",
       "<table border=\"1\" class=\"dataframe\">\n",
       "  <thead>\n",
       "    <tr style=\"text-align: right;\">\n",
       "      <th></th>\n",
       "      <th>1</th>\n",
       "      <th>5</th>\n",
       "      <th>9</th>\n",
       "      <th>15</th>\n",
       "      <th>20</th>\n",
       "      <th>22</th>\n",
       "      <th>24</th>\n",
       "      <th>43</th>\n",
       "      <th>54</th>\n",
       "      <th>57</th>\n",
       "      <th>...</th>\n",
       "      <th>419</th>\n",
       "      <th>423</th>\n",
       "      <th>432</th>\n",
       "      <th>438</th>\n",
       "      <th>439</th>\n",
       "      <th>440</th>\n",
       "      <th>441</th>\n",
       "      <th>454</th>\n",
       "      <th>469</th>\n",
       "      <th>472</th>\n",
       "    </tr>\n",
       "  </thead>\n",
       "  <tbody>\n",
       "    <tr>\n",
       "      <td>1</td>\n",
       "      <td>1.000000</td>\n",
       "      <td>0.005948</td>\n",
       "      <td>0.026756</td>\n",
       "      <td>0.014622</td>\n",
       "      <td>0.004945</td>\n",
       "      <td>0.015805</td>\n",
       "      <td>0.031805</td>\n",
       "      <td>0.019847</td>\n",
       "      <td>0.000000</td>\n",
       "      <td>0.024251</td>\n",
       "      <td>...</td>\n",
       "      <td>0.034498</td>\n",
       "      <td>0.058410</td>\n",
       "      <td>0.058394</td>\n",
       "      <td>0.032098</td>\n",
       "      <td>0.037979</td>\n",
       "      <td>0.012416</td>\n",
       "      <td>0.005872</td>\n",
       "      <td>0.076585</td>\n",
       "      <td>0.044781</td>\n",
       "      <td>0.028913</td>\n",
       "    </tr>\n",
       "    <tr>\n",
       "      <td>5</td>\n",
       "      <td>0.005948</td>\n",
       "      <td>1.000000</td>\n",
       "      <td>0.194203</td>\n",
       "      <td>0.147098</td>\n",
       "      <td>0.057803</td>\n",
       "      <td>0.004549</td>\n",
       "      <td>0.059297</td>\n",
       "      <td>0.060673</td>\n",
       "      <td>0.066198</td>\n",
       "      <td>0.036849</td>\n",
       "      <td>...</td>\n",
       "      <td>0.004289</td>\n",
       "      <td>0.012172</td>\n",
       "      <td>0.144384</td>\n",
       "      <td>0.028593</td>\n",
       "      <td>0.075381</td>\n",
       "      <td>0.007148</td>\n",
       "      <td>0.003637</td>\n",
       "      <td>0.045040</td>\n",
       "      <td>0.167440</td>\n",
       "      <td>0.124308</td>\n",
       "    </tr>\n",
       "    <tr>\n",
       "      <td>9</td>\n",
       "      <td>0.026756</td>\n",
       "      <td>0.194203</td>\n",
       "      <td>1.000000</td>\n",
       "      <td>0.153678</td>\n",
       "      <td>0.064982</td>\n",
       "      <td>0.046493</td>\n",
       "      <td>0.048990</td>\n",
       "      <td>0.048882</td>\n",
       "      <td>0.052160</td>\n",
       "      <td>0.040463</td>\n",
       "      <td>...</td>\n",
       "      <td>0.046026</td>\n",
       "      <td>0.040324</td>\n",
       "      <td>0.218313</td>\n",
       "      <td>0.050439</td>\n",
       "      <td>0.118876</td>\n",
       "      <td>0.026396</td>\n",
       "      <td>0.002549</td>\n",
       "      <td>0.080650</td>\n",
       "      <td>0.263554</td>\n",
       "      <td>0.208994</td>\n",
       "    </tr>\n",
       "    <tr>\n",
       "      <td>15</td>\n",
       "      <td>0.014622</td>\n",
       "      <td>0.147098</td>\n",
       "      <td>0.153678</td>\n",
       "      <td>1.000000</td>\n",
       "      <td>0.000355</td>\n",
       "      <td>0.028550</td>\n",
       "      <td>0.025346</td>\n",
       "      <td>0.017913</td>\n",
       "      <td>0.025990</td>\n",
       "      <td>0.021017</td>\n",
       "      <td>...</td>\n",
       "      <td>0.024636</td>\n",
       "      <td>0.017173</td>\n",
       "      <td>0.116424</td>\n",
       "      <td>0.020743</td>\n",
       "      <td>0.063388</td>\n",
       "      <td>0.019722</td>\n",
       "      <td>0.045292</td>\n",
       "      <td>0.037741</td>\n",
       "      <td>0.144687</td>\n",
       "      <td>0.098966</td>\n",
       "    </tr>\n",
       "    <tr>\n",
       "      <td>20</td>\n",
       "      <td>0.004945</td>\n",
       "      <td>0.057803</td>\n",
       "      <td>0.064982</td>\n",
       "      <td>0.000355</td>\n",
       "      <td>1.000000</td>\n",
       "      <td>0.182559</td>\n",
       "      <td>0.221209</td>\n",
       "      <td>0.133285</td>\n",
       "      <td>0.086857</td>\n",
       "      <td>0.277370</td>\n",
       "      <td>...</td>\n",
       "      <td>0.023124</td>\n",
       "      <td>0.009135</td>\n",
       "      <td>0.006128</td>\n",
       "      <td>0.011759</td>\n",
       "      <td>0.016330</td>\n",
       "      <td>0.000000</td>\n",
       "      <td>0.000000</td>\n",
       "      <td>0.019745</td>\n",
       "      <td>0.023392</td>\n",
       "      <td>0.010394</td>\n",
       "    </tr>\n",
       "    <tr>\n",
       "      <td>...</td>\n",
       "      <td>...</td>\n",
       "      <td>...</td>\n",
       "      <td>...</td>\n",
       "      <td>...</td>\n",
       "      <td>...</td>\n",
       "      <td>...</td>\n",
       "      <td>...</td>\n",
       "      <td>...</td>\n",
       "      <td>...</td>\n",
       "      <td>...</td>\n",
       "      <td>...</td>\n",
       "      <td>...</td>\n",
       "      <td>...</td>\n",
       "      <td>...</td>\n",
       "      <td>...</td>\n",
       "      <td>...</td>\n",
       "      <td>...</td>\n",
       "      <td>...</td>\n",
       "      <td>...</td>\n",
       "      <td>...</td>\n",
       "      <td>...</td>\n",
       "    </tr>\n",
       "    <tr>\n",
       "      <td>440</td>\n",
       "      <td>0.012416</td>\n",
       "      <td>0.007148</td>\n",
       "      <td>0.026396</td>\n",
       "      <td>0.019722</td>\n",
       "      <td>0.000000</td>\n",
       "      <td>0.007592</td>\n",
       "      <td>0.006300</td>\n",
       "      <td>0.004331</td>\n",
       "      <td>0.000000</td>\n",
       "      <td>0.014491</td>\n",
       "      <td>...</td>\n",
       "      <td>0.002009</td>\n",
       "      <td>0.015712</td>\n",
       "      <td>0.001622</td>\n",
       "      <td>0.001371</td>\n",
       "      <td>0.015922</td>\n",
       "      <td>1.000000</td>\n",
       "      <td>0.000000</td>\n",
       "      <td>0.013427</td>\n",
       "      <td>0.006217</td>\n",
       "      <td>0.024509</td>\n",
       "    </tr>\n",
       "    <tr>\n",
       "      <td>441</td>\n",
       "      <td>0.005872</td>\n",
       "      <td>0.003637</td>\n",
       "      <td>0.002549</td>\n",
       "      <td>0.045292</td>\n",
       "      <td>0.000000</td>\n",
       "      <td>0.000000</td>\n",
       "      <td>0.000000</td>\n",
       "      <td>0.012412</td>\n",
       "      <td>0.000000</td>\n",
       "      <td>0.007455</td>\n",
       "      <td>...</td>\n",
       "      <td>0.070495</td>\n",
       "      <td>0.035131</td>\n",
       "      <td>0.048795</td>\n",
       "      <td>0.052978</td>\n",
       "      <td>0.001072</td>\n",
       "      <td>0.000000</td>\n",
       "      <td>1.000000</td>\n",
       "      <td>0.001605</td>\n",
       "      <td>0.099516</td>\n",
       "      <td>0.102101</td>\n",
       "    </tr>\n",
       "    <tr>\n",
       "      <td>454</td>\n",
       "      <td>0.076585</td>\n",
       "      <td>0.045040</td>\n",
       "      <td>0.080650</td>\n",
       "      <td>0.037741</td>\n",
       "      <td>0.019745</td>\n",
       "      <td>0.012486</td>\n",
       "      <td>0.021699</td>\n",
       "      <td>0.011469</td>\n",
       "      <td>0.051163</td>\n",
       "      <td>0.054860</td>\n",
       "      <td>...</td>\n",
       "      <td>0.078416</td>\n",
       "      <td>0.206551</td>\n",
       "      <td>0.227930</td>\n",
       "      <td>0.137126</td>\n",
       "      <td>0.101444</td>\n",
       "      <td>0.013427</td>\n",
       "      <td>0.001605</td>\n",
       "      <td>1.000000</td>\n",
       "      <td>0.181401</td>\n",
       "      <td>0.267697</td>\n",
       "    </tr>\n",
       "    <tr>\n",
       "      <td>469</td>\n",
       "      <td>0.044781</td>\n",
       "      <td>0.167440</td>\n",
       "      <td>0.263554</td>\n",
       "      <td>0.144687</td>\n",
       "      <td>0.023392</td>\n",
       "      <td>0.016270</td>\n",
       "      <td>0.006732</td>\n",
       "      <td>0.024711</td>\n",
       "      <td>0.011894</td>\n",
       "      <td>0.023897</td>\n",
       "      <td>...</td>\n",
       "      <td>0.136695</td>\n",
       "      <td>0.072316</td>\n",
       "      <td>0.289288</td>\n",
       "      <td>0.244515</td>\n",
       "      <td>0.174925</td>\n",
       "      <td>0.006217</td>\n",
       "      <td>0.099516</td>\n",
       "      <td>0.181401</td>\n",
       "      <td>1.000000</td>\n",
       "      <td>0.308044</td>\n",
       "    </tr>\n",
       "    <tr>\n",
       "      <td>472</td>\n",
       "      <td>0.028913</td>\n",
       "      <td>0.124308</td>\n",
       "      <td>0.208994</td>\n",
       "      <td>0.098966</td>\n",
       "      <td>0.010394</td>\n",
       "      <td>0.007733</td>\n",
       "      <td>0.014257</td>\n",
       "      <td>0.023524</td>\n",
       "      <td>0.000000</td>\n",
       "      <td>0.027589</td>\n",
       "      <td>...</td>\n",
       "      <td>0.099652</td>\n",
       "      <td>0.228013</td>\n",
       "      <td>0.382625</td>\n",
       "      <td>0.208659</td>\n",
       "      <td>0.233288</td>\n",
       "      <td>0.024509</td>\n",
       "      <td>0.102101</td>\n",
       "      <td>0.267697</td>\n",
       "      <td>0.308044</td>\n",
       "      <td>1.000000</td>\n",
       "    </tr>\n",
       "  </tbody>\n",
       "</table>\n",
       "<p>100 rows × 100 columns</p>\n",
       "</div>"
      ],
      "text/plain": [
       "          1         5         9         15        20        22        24   \\\n",
       "1    1.000000  0.005948  0.026756  0.014622  0.004945  0.015805  0.031805   \n",
       "5    0.005948  1.000000  0.194203  0.147098  0.057803  0.004549  0.059297   \n",
       "9    0.026756  0.194203  1.000000  0.153678  0.064982  0.046493  0.048990   \n",
       "15   0.014622  0.147098  0.153678  1.000000  0.000355  0.028550  0.025346   \n",
       "20   0.004945  0.057803  0.064982  0.000355  1.000000  0.182559  0.221209   \n",
       "..        ...       ...       ...       ...       ...       ...       ...   \n",
       "440  0.012416  0.007148  0.026396  0.019722  0.000000  0.007592  0.006300   \n",
       "441  0.005872  0.003637  0.002549  0.045292  0.000000  0.000000  0.000000   \n",
       "454  0.076585  0.045040  0.080650  0.037741  0.019745  0.012486  0.021699   \n",
       "469  0.044781  0.167440  0.263554  0.144687  0.023392  0.016270  0.006732   \n",
       "472  0.028913  0.124308  0.208994  0.098966  0.010394  0.007733  0.014257   \n",
       "\n",
       "          43        54        57   ...       419       423       432  \\\n",
       "1    0.019847  0.000000  0.024251  ...  0.034498  0.058410  0.058394   \n",
       "5    0.060673  0.066198  0.036849  ...  0.004289  0.012172  0.144384   \n",
       "9    0.048882  0.052160  0.040463  ...  0.046026  0.040324  0.218313   \n",
       "15   0.017913  0.025990  0.021017  ...  0.024636  0.017173  0.116424   \n",
       "20   0.133285  0.086857  0.277370  ...  0.023124  0.009135  0.006128   \n",
       "..        ...       ...       ...  ...       ...       ...       ...   \n",
       "440  0.004331  0.000000  0.014491  ...  0.002009  0.015712  0.001622   \n",
       "441  0.012412  0.000000  0.007455  ...  0.070495  0.035131  0.048795   \n",
       "454  0.011469  0.051163  0.054860  ...  0.078416  0.206551  0.227930   \n",
       "469  0.024711  0.011894  0.023897  ...  0.136695  0.072316  0.289288   \n",
       "472  0.023524  0.000000  0.027589  ...  0.099652  0.228013  0.382625   \n",
       "\n",
       "          438       439       440       441       454       469       472  \n",
       "1    0.032098  0.037979  0.012416  0.005872  0.076585  0.044781  0.028913  \n",
       "5    0.028593  0.075381  0.007148  0.003637  0.045040  0.167440  0.124308  \n",
       "9    0.050439  0.118876  0.026396  0.002549  0.080650  0.263554  0.208994  \n",
       "15   0.020743  0.063388  0.019722  0.045292  0.037741  0.144687  0.098966  \n",
       "20   0.011759  0.016330  0.000000  0.000000  0.019745  0.023392  0.010394  \n",
       "..        ...       ...       ...       ...       ...       ...       ...  \n",
       "440  0.001371  0.015922  1.000000  0.000000  0.013427  0.006217  0.024509  \n",
       "441  0.052978  0.001072  0.000000  1.000000  0.001605  0.099516  0.102101  \n",
       "454  0.137126  0.101444  0.013427  0.001605  1.000000  0.181401  0.267697  \n",
       "469  0.244515  0.174925  0.006217  0.099516  0.181401  1.000000  0.308044  \n",
       "472  0.208659  0.233288  0.024509  0.102101  0.267697  0.308044  1.000000  \n",
       "\n",
       "[100 rows x 100 columns]"
      ]
     },
     "execution_count": 35,
     "metadata": {},
     "output_type": "execute_result"
    }
   ],
   "source": [
    "create_similarity_matrix(tfidf, 100)"
   ]
  },
  {
   "cell_type": "code",
   "execution_count": 36,
   "metadata": {
    "ExecuteTime": {
     "end_time": "2019-12-02T23:42:25.685187Z",
     "start_time": "2019-12-02T23:42:01.582439Z"
    }
   },
   "outputs": [
    {
     "data": {
      "image/png": "[encoded data removed]",
      "text/plain": [
       "<Figure size 1008x432 with 2 Axes>"
      ]
     },
     "metadata": {},
     "output_type": "display_data"
    }
   ],
   "source": [
    "plt.figure(figsize=(14,6))\n",
    "sns.heatmap(create_similarity_matrix(tfidf, 10), cmap='cividis', annot=True)\n",
    "\n",
    "# corrigindo \"bug\" do seaborn (cortando pela metade a primeira e última linha)\n",
    "b, t = plt.ylim() # limites de y\n",
    "b += 0.5 # lim. inferior + 0.5\n",
    "t -= 0.5 # lim. superior - 0.5\n",
    "plt.ylim(b, t) # atualiza ylim\n",
    "plt.show()"
   ]
  },
  {
   "cell_type": "markdown",
   "metadata": {},
   "source": [
    "<br>\n",
    "\n",
    "## Word2vec\n",
    "1. Ainda usando a biblioteca Gensim, Construa uma representaçao vetorial semantica(word2vec) do seu corpus de escolha. Podem seguir este [tutorial](https://rare-technologies.com/word2vec-tutorial/)\n",
    "2. Construa uma representaçao simila usando [FastText](https://radimrehurek.com/gensim/models/fasttext.html#gensim.models.fasttext.FastText). Veja este [Tutorial](https://github.com/RaRe-Technologies/gensim/blob/develop/docs/notebooks/FastText_Tutorial.ipynb)"
   ]
  },
  {
   "cell_type": "markdown",
   "metadata": {},
   "source": [
    "### **Configurações iniciais**"
   ]
  },
  {
   "cell_type": "code",
   "execution_count": 135,
   "metadata": {
    "ExecuteTime": {
     "end_time": "2019-12-02T22:28:26.141180Z",
     "start_time": "2019-12-02T22:28:26.136883Z"
    }
   },
   "outputs": [],
   "source": [
    "### Executar a linha abaixo se quiser visualizar um logging da execução do modelo\n",
    "# logging.basicConfig(format='%(asctime)s : %(levelname)s : %(message)s', level=logging.INFO)"
   ]
  },
  {
   "cell_type": "markdown",
   "metadata": {},
   "source": [
    "### **Pré-processando o texto (tokenizando e removendo stopwords)**\n",
    "\n",
    "<font color='red'>**Obs:** verifiquei que os resultados ficaram melhores sem remover stopwords e sem \"stemizar\" o texto - ao fazer isso, apareciam algumas inconsistências como letras soltas e 'sony' se tornava 'son', que têm significados bem distintos </font>"
   ]
  },
  {
   "cell_type": "code",
   "execution_count": 57,
   "metadata": {
    "ExecuteTime": {
     "end_time": "2019-12-03T00:24:35.448327Z",
     "start_time": "2019-12-03T00:23:28.659692Z"
    }
   },
   "outputs": [],
   "source": [
    "n = 50000  # número de observações\n",
    "corpus['tokenized_rewiews'] = corpus['reviewText'].iloc[:n].apply(lambda x:\n",
    "                            tokenize_and_remove_sw(x, swu, stemize=True, remove_sw=True))"
   ]
  },
  {
   "cell_type": "markdown",
   "metadata": {},
   "source": [
    "### Treinando modelo Word2Vec"
   ]
  },
  {
   "cell_type": "code",
   "execution_count": 38,
   "metadata": {
    "ExecuteTime": {
     "end_time": "2019-12-02T23:42:53.096496Z",
     "start_time": "2019-12-02T23:42:53.089673Z"
    }
   },
   "outputs": [],
   "source": [
    "def train_W2V(list_tokenized_texts, min_count=1, workers=2, n_epochs= 5):\n",
    "    '''\n",
    "    Treina o modelo Word2Vec e retorna o objeto gensim.models.Word2Vec. \n",
    "    \n",
    "    Cria os seguintes arquivos na pasta local:\n",
    "        - vocab_W2V.dict: vocabulário\n",
    "        - corpusWikiW2V.mm: lista de frequências \n",
    "        - w2v_mode.sav: modelo Word2Vec (gensim)\n",
    "        \n",
    "    Argumentos:\n",
    "        - list_tokenized_texts (list): lista de textos tokenizados\n",
    "        - min_count (int): frequência mínima para contar tokens\n",
    "        - workers (int): número de threads para treinar o modelo W2V.\n",
    "        - n_epochs (int): número de épocas para treinar o modelo.\n",
    "    '''\n",
    "    counter = Counter([])\n",
    "    for text in list_tokenized_texts:\n",
    "        counter.update(text)\n",
    "        \n",
    "    # mantém apenas tokens que aparecem ao menos duas vezes\n",
    "    list_of_texts = [[token for token in text if counter[token] > min_count] \n",
    "                                                 for text in list_tokenized_texts]\n",
    "    \n",
    "    # criando dicionário:\n",
    "    dic = corpora.Dictionary(list_of_texts)\n",
    "    dic.save('vocab_W2V.dict')\n",
    "    \n",
    "    # criando listas de frequências:\n",
    "    frequency_lists = [dic.doc2bow(token) for token in list_of_texts]\n",
    "    corpora.MmCorpus.serialize('frequency_list.mm', frequency_lists)\n",
    "    \n",
    "    # treinando W2V:\n",
    "    mod_w2v = models.Word2Vec(list_of_texts, min_count=min_count, workers=workers, iter= n_epochs)\n",
    "    mod_w2v.save('w2v_model.sav')\n",
    "    \n",
    "    return mod_w2v"
   ]
  },
  {
   "cell_type": "code",
   "execution_count": 58,
   "metadata": {
    "ExecuteTime": {
     "end_time": "2019-12-03T00:26:30.424458Z",
     "start_time": "2019-12-03T00:25:33.253906Z"
    }
   },
   "outputs": [
    {
     "name": "stdout",
     "output_type": "stream",
     "text": [
      "Word2Vec(vocab=22116, size=100, alpha=0.025)\n"
     ]
    }
   ],
   "source": [
    "n = 50000  # número de observações\n",
    "w2v = train_W2V(list(corpus['tokenized_rewiews'].iloc[:n]), n_epochs=10, workers=6)\n",
    "# model = gensim.models.Word2Vec.load('w2v_model.sav')\n",
    "print(w2v)"
   ]
  },
  {
   "cell_type": "code",
   "execution_count": 59,
   "metadata": {
    "ExecuteTime": {
     "end_time": "2019-12-03T00:26:57.311024Z",
     "start_time": "2019-12-03T00:26:57.281201Z"
    }
   },
   "outputs": [
    {
     "data": {
      "text/plain": [
       "[('daughter', 0.868731677532196),\n",
       " ('dad', 0.8374792337417603),\n",
       " ('husband', 0.8309828042984009),\n",
       " ('mom', 0.8110055923461914),\n",
       " ('girlfriend', 0.7916345596313477),\n",
       " ('boyfriend', 0.7752252817153931),\n",
       " ('wife', 0.7715990543365479),\n",
       " ('sister', 0.7710281610488892),\n",
       " ('father', 0.7672308683395386),\n",
       " ('birthday', 0.7631523013114929)]"
      ]
     },
     "execution_count": 59,
     "metadata": {},
     "output_type": "execute_result"
    }
   ],
   "source": [
    "w2v.wv.most_similar(positive='son')  # tem impurezas no corpus (números e letras soltos)"
   ]
  },
  {
   "cell_type": "code",
   "execution_count": 60,
   "metadata": {
    "ExecuteTime": {
     "end_time": "2019-12-03T00:26:59.752562Z",
     "start_time": "2019-12-03T00:26:59.745404Z"
    }
   },
   "outputs": [
    {
     "data": {
      "text/plain": [
       "[('panason', 0.7534866333007812),\n",
       " ('philip', 0.6960077881813049),\n",
       " ('jvc', 0.6459434032440186),\n",
       " ('dcr', 0.6130777597427368),\n",
       " ('v700', 0.5964751243591309),\n",
       " ('dvp', 0.5831491351127625),\n",
       " ('kdl', 0.5788460969924927),\n",
       " ('mdr', 0.5652310848236084),\n",
       " ('dsc', 0.5629104971885681),\n",
       " ('ht21', 0.5582513213157654)]"
      ]
     },
     "execution_count": 60,
     "metadata": {},
     "output_type": "execute_result"
    }
   ],
   "source": [
    "w2v.wv.most_similar(positive=stemmer.stem('sony'))  # tem impurezas no corpus (números e letras soltos)"
   ]
  },
  {
   "cell_type": "code",
   "execution_count": 61,
   "metadata": {
    "ExecuteTime": {
     "end_time": "2019-12-03T00:27:01.106382Z",
     "start_time": "2019-12-03T00:27:01.098424Z"
    }
   },
   "outputs": [
    {
     "data": {
      "text/plain": [
       "[('slr', 0.7478739023208618),\n",
       " ('dslr', 0.6720173358917236),\n",
       " ('slrs', 0.6716471910476685),\n",
       " ('canon', 0.6654139161109924),\n",
       " ('rebel', 0.6491202712059021),\n",
       " ('kodak', 0.6258758902549744),\n",
       " ('tripod', 0.6158342361450195),\n",
       " ('nikon', 0.6143075227737427),\n",
       " ('digicam', 0.6138743162155151),\n",
       " ('d40', 0.6117902994155884)]"
      ]
     },
     "execution_count": 61,
     "metadata": {},
     "output_type": "execute_result"
    }
   ],
   "source": [
    "w2v.wv.most_similar(positive=stemmer.stem('camera'))  "
   ]
  },
  {
   "cell_type": "code",
   "execution_count": 62,
   "metadata": {
    "ExecuteTime": {
     "end_time": "2019-12-03T00:27:01.591973Z",
     "start_time": "2019-12-03T00:27:01.541770Z"
    }
   },
   "outputs": [
    {
     "data": {
      "text/plain": [
       "[('ubuntu', 0.8315101861953735),\n",
       " ('xp', 0.7919223308563232),\n",
       " ('vista', 0.789918065071106),\n",
       " ('winxp', 0.7728351354598999),\n",
       " ('osx', 0.7540910243988037),\n",
       " ('sp2', 0.7529343366622925),\n",
       " ('win7', 0.741349458694458),\n",
       " ('win98', 0.7406677007675171),\n",
       " ('64bit', 0.7330875992774963),\n",
       " ('sp3', 0.7328019142150879)]"
      ]
     },
     "execution_count": 62,
     "metadata": {},
     "output_type": "execute_result"
    }
   ],
   "source": [
    "w2v.wv.most_similar(positive=stemmer.stem('linux'))  "
   ]
  },
  {
   "cell_type": "code",
   "execution_count": 63,
   "metadata": {
    "ExecuteTime": {
     "end_time": "2019-12-03T00:27:10.373539Z",
     "start_time": "2019-12-03T00:27:10.361632Z"
    }
   },
   "outputs": [
    {
     "data": {
      "text/plain": [
       "0.83151007"
      ]
     },
     "execution_count": 63,
     "metadata": {},
     "output_type": "execute_result"
    }
   ],
   "source": [
    "w2v.wv.n_similarity(['linux'], ['ubuntu'])"
   ]
  },
  {
   "cell_type": "code",
   "execution_count": 64,
   "metadata": {
    "ExecuteTime": {
     "end_time": "2019-12-03T00:27:11.280584Z",
     "start_time": "2019-12-03T00:27:11.267598Z"
    }
   },
   "outputs": [
    {
     "data": {
      "text/plain": [
       "['gray', 'grey', 'tint']"
      ]
     },
     "execution_count": 64,
     "metadata": {},
     "output_type": "execute_result"
    }
   ],
   "source": [
    "w2v.wv.closer_than(stemmer.stem('white'), stemmer.stem('black'))"
   ]
  },
  {
   "cell_type": "code",
   "execution_count": 65,
   "metadata": {
    "ExecuteTime": {
     "end_time": "2019-12-03T00:27:14.354494Z",
     "start_time": "2019-12-03T00:27:14.340681Z"
    },
    "scrolled": true
   },
   "outputs": [
    {
     "data": {
      "text/plain": [
       "['guy',\n",
       " 'he',\n",
       " 'babi',\n",
       " 'she',\n",
       " 'yeah',\n",
       " 'boy',\n",
       " 'hey',\n",
       " 'lol',\n",
       " 'heck',\n",
       " 'dog',\n",
       " 'god',\n",
       " 'gonna',\n",
       " 'hell',\n",
       " 'somebodi',\n",
       " 'scream',\n",
       " 'young',\n",
       " 'girl',\n",
       " 'freak',\n",
       " 'junki',\n",
       " 'laugh',\n",
       " 'ladi',\n",
       " 'teenag',\n",
       " 'omg',\n",
       " 'forbid']"
      ]
     },
     "execution_count": 65,
     "metadata": {},
     "output_type": "execute_result"
    }
   ],
   "source": [
    "w2v.wv.closer_than(stemmer.stem('man'), stemmer.stem('woman'))"
   ]
  },
  {
   "cell_type": "markdown",
   "metadata": {},
   "source": [
    "### Construindo uma representação similar com FastText"
   ]
  },
  {
   "cell_type": "code",
   "execution_count": 50,
   "metadata": {
    "ExecuteTime": {
     "end_time": "2019-12-03T00:20:56.440204Z",
     "start_time": "2019-12-03T00:20:56.426477Z"
    }
   },
   "outputs": [],
   "source": [
    "def train_FastText(list_tokenized_texts, min_count=1, workers=2, n_epochs= 5):\n",
    "    '''\n",
    "    Treina o modelo Word2Vec e retorna o objeto gensim.models.Word2Vec. \n",
    "    \n",
    "    Cria os seguintes arquivos na pasta local:\n",
    "        - vocab_W2V.dict: vocabulário\n",
    "        - corpusWikiW2V.mm: lista de frequências \n",
    "        - w2v_mode.sav: modelo Word2Vec (gensim)\n",
    "        \n",
    "    Argumentos:\n",
    "        - list_tokenized_texts (list): lista de textos tokenizados\n",
    "        - min_count (int): frequência mínima para contar tokens\n",
    "        - workers (int): número de threads para treinar o modelo W2V.\n",
    "        - n_epochs (int): número de épocas para treinar o modelo.\n",
    "    '''\n",
    "    counter = Counter([])\n",
    "    for text in list_tokenized_texts:\n",
    "        counter.update(text)\n",
    "        \n",
    "    # mantém apenas tokens que aparecem ao menos duas vezes\n",
    "    list_of_texts = [[token for token in text if counter[token] > min_count] \n",
    "                                                 for text in list_tokenized_texts]\n",
    "    \n",
    "    # criando dicionário:\n",
    "    dic = corpora.Dictionary(list_of_texts)\n",
    "    dic.save('vocab_W2V.dict')\n",
    "    \n",
    "    # criando listas de frequências:\n",
    "    frequency_lists = [dic.doc2bow(token) for token in list_of_texts]\n",
    "    corpora.MmCorpus.serialize('frequency_list.mm', frequency_lists)\n",
    "    \n",
    "    # treinando W2V:\n",
    "    mod_fast_txt = models.FastText(list_of_texts, min_count=min_count, workers=workers, iter= n_epochs)\n",
    "    mod_fast_txt.save('fast_txt_model.sav')\n",
    "    \n",
    "    return mod_fast_txt"
   ]
  },
  {
   "cell_type": "code",
   "execution_count": 51,
   "metadata": {
    "ExecuteTime": {
     "end_time": "2019-12-03T00:21:40.444213Z",
     "start_time": "2019-12-03T00:21:19.309354Z"
    }
   },
   "outputs": [
    {
     "name": "stdout",
     "output_type": "stream",
     "text": [
      "Word2Vec(vocab=13573, size=100, alpha=0.025)\n"
     ]
    }
   ],
   "source": [
    "n = 50000  # número de observações\n",
    "ft = train_W2V(list(corpus['tokenized_rewiews'].iloc[:n]), n_epochs=10, workers=6)\n",
    "# model = gensim.models.Word2Vec.load('w2v_model.sav')\n",
    "print(ft)"
   ]
  },
  {
   "cell_type": "code",
   "execution_count": 53,
   "metadata": {
    "ExecuteTime": {
     "end_time": "2019-12-03T00:22:13.796639Z",
     "start_time": "2019-12-03T00:22:13.789657Z"
    }
   },
   "outputs": [
    {
     "data": {
      "text/plain": [
       "[('winxp', 0.8606674671173096),\n",
       " ('vista', 0.8587571382522583),\n",
       " ('xp', 0.8580197691917419),\n",
       " ('win', 0.8336136937141418),\n",
       " ('sp2', 0.8272488713264465),\n",
       " ('98', 0.8215510845184326),\n",
       " ('win98', 0.821488082408905),\n",
       " ('win2k', 0.7998870015144348),\n",
       " ('gateway', 0.7890381813049316),\n",
       " ('mac', 0.7884417772293091)]"
      ]
     },
     "execution_count": 53,
     "metadata": {},
     "output_type": "execute_result"
    }
   ],
   "source": [
    "w2v.wv.most_similar(positive=stemmer.stem('linux'))  "
   ]
  },
  {
   "cell_type": "code",
   "execution_count": 54,
   "metadata": {
    "ExecuteTime": {
     "end_time": "2019-12-03T00:22:34.642365Z",
     "start_time": "2019-12-03T00:22:34.632669Z"
    }
   },
   "outputs": [
    {
     "data": {
      "text/plain": [
       "[]"
      ]
     },
     "execution_count": 54,
     "metadata": {},
     "output_type": "execute_result"
    }
   ],
   "source": [
    "w2v.wv.closer_than(stemmer.stem('white'), stemmer.stem('black'))"
   ]
  },
  {
   "cell_type": "code",
   "execution_count": 52,
   "metadata": {
    "ExecuteTime": {
     "end_time": "2019-12-03T00:22:03.010491Z",
     "start_time": "2019-12-03T00:22:03.005055Z"
    }
   },
   "outputs": [
    {
     "data": {
      "text/plain": [
       "0.7915061"
      ]
     },
     "execution_count": 52,
     "metadata": {},
     "output_type": "execute_result"
    }
   ],
   "source": [
    "ft.wv.n_similarity(['linux'], ['ubuntu'])"
   ]
  },
  {
   "cell_type": "markdown",
   "metadata": {},
   "source": [
    "**Fim!**"
   ]
  }
 ],
 "metadata": {
  "kernelspec": {
   "display_name": "Python 3",
   "language": "python",
   "name": "python3"
  },
  "language_info": {
   "codemirror_mode": {
    "name": "ipython",
    "version": 3
   },
   "file_extension": ".py",
   "mimetype": "text/x-python",
   "name": "python",
   "nbconvert_exporter": "python",
   "pygments_lexer": "ipython3",
   "version": "3.7.4"
  },
  "toc": {
   "base_numbering": 1,
   "nav_menu": {},
   "number_sections": false,
   "sideBar": true,
   "skip_h1_title": false,
   "title_cell": "Table of Contents",
   "title_sidebar": "Contents",
   "toc_cell": false,
   "toc_position": {},
   "toc_section_display": true,
   "toc_window_display": false
  },
  "varInspector": {
   "cols": {
    "lenName": 16,
    "lenType": 16,
    "lenVar": 40
   },
   "kernels_config": {
    "python": {
     "delete_cmd_postfix": "",
     "delete_cmd_prefix": "del ",
     "library": "var_list.py",
     "varRefreshCmd": "print(var_dic_list())"
    },
    "r": {
     "delete_cmd_postfix": ") ",
     "delete_cmd_prefix": "rm(",
     "library": "var_list.r",
     "varRefreshCmd": "cat(var_dic_list()) "
    }
   },
   "types_to_exclude": [
    "module",
    "function",
    "builtin_function_or_method",
    "instance",
    "_Feature"
   ],
   "window_display": false
  }
 },
 "nbformat": 4,
 "nbformat_minor": 2
}
