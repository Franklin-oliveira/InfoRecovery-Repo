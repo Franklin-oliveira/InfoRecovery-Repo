{
 "cells": [
  {
   "cell_type": "markdown",
   "metadata": {},
   "source": [
    "# Introdução à Recuperação de Informações\n",
    "\n",
    "## Lista de exercícios 2\n",
    "\n",
    "Todos os exercícios requerem uma implementação funcional do problema, no corpo do notebook. Para cada exercício consultas de teste devem ser propostas para demonstrar que a implementação atende aos requisitos do exercício.\n",
    "As resposta devem ser enviadas como um notebook (.ipynb) para o professor.\n",
    "\n",
    "-------\n",
    "\n",
    "**Aluno:** Franklin Alves de Oliveira"
   ]
  },
  {
   "cell_type": "code",
   "execution_count": 166,
   "metadata": {
    "ExecuteTime": {
     "end_time": "2019-11-16T01:53:50.715501Z",
     "start_time": "2019-11-16T01:53:50.703810Z"
    }
   },
   "outputs": [],
   "source": [
    "# imports\n",
    "import os\n",
    "import string\n",
    "import enchant\n",
    "import numpy as np\n",
    "import pandas as pd\n",
    "import seaborn as sns\n",
    "import matplotlib.pyplot as plt\n",
    "\n",
    "sns.set()  # carrega estilo do seaborn\n",
    "\n",
    "from numpy.linalg import norm\n",
    "from collections import defaultdict, Counter\n",
    "from gensim import corpora, models, similarities             # gensim\n",
    "from sklearn.feature_extraction.text import TfidfVectorizer  # tf-idf\n",
    "\n",
    "# nltk\n",
    "import nltk\n",
    "from nltk.corpus import machado, mac_morpho\n",
    "from nltk.tokenize import WordPunctTokenizer as WPT\n",
    "from nltk.corpus import stopwords\n",
    "from nltk.stem.snowball import PortugueseStemmer"
   ]
  },
  {
   "cell_type": "markdown",
   "metadata": {},
   "source": [
    "**Carregando e preparando os textos de Machado de Assis...**"
   ]
  },
  {
   "cell_type": "code",
   "execution_count": 22,
   "metadata": {
    "ExecuteTime": {
     "end_time": "2019-11-16T00:25:16.639835Z",
     "start_time": "2019-11-16T00:25:16.477389Z"
    }
   },
   "outputs": [
    {
     "name": "stdout",
     "output_type": "stream",
     "text": [
      "Conto, A Carteira, 1884\n",
      "\n",
      "A Carteira\n",
      "\n",
      "Texto-fonte:\n",
      "\n",
      "Obra Completa, de Machado de Assis,\n",
      "vol. II,\n",
      "\n",
      "Nova Aguilar, Rio de Janeiro, 1994.\n",
      "\n",
      "Publicado originalmente em A Estação, de 15/3/1884.\n",
      "\n",
      "... De repente, Honório olhou para\n",
      "o chão e viu uma carteira. Abaixar-se, apanhá-la e guardá-la foi obra de alguns\n",
      "instantes. Ninguém o viu, salvo um homem que estava à porta de uma loja, e que,\n",
      "sem o conhecer, lhe disse rindo:\n",
      "\n",
      " Olhe, se não dá por ela;\n",
      "\n"
     ]
    }
   ],
   "source": [
    "# textos de Machado de Assis\n",
    "# nltk.download('machado')\n",
    "texts = [machado.raw(id) for id in machado.fileids()]\n",
    "print(texts[100][:443])  # trecho"
   ]
  },
  {
   "cell_type": "markdown",
   "metadata": {},
   "source": [
    "**Tokenizando...**"
   ]
  },
  {
   "cell_type": "code",
   "execution_count": 27,
   "metadata": {
    "ExecuteTime": {
     "end_time": "2019-11-16T00:28:50.492766Z",
     "start_time": "2019-11-16T00:28:49.119381Z"
    }
   },
   "outputs": [
    {
     "name": "stdout",
     "output_type": "stream",
     "text": [
      "# de tokens no texto 100: 571\n"
     ]
    }
   ],
   "source": [
    "tokenized_texts = [WPT().tokenize(t.lower()) for t in texts]\n",
    "print('# de tokens no texto 100:', len(set(tokenized_texts[100])))"
   ]
  },
  {
   "cell_type": "markdown",
   "metadata": {},
   "source": [
    "**Agora, vamos transformar esses textos tokenizados em uma coleção do nltk** (assim podemos, convenientemente, usar os métodos para esse tipo de objeto)"
   ]
  },
  {
   "cell_type": "code",
   "execution_count": 41,
   "metadata": {
    "ExecuteTime": {
     "end_time": "2019-11-16T00:34:56.295500Z",
     "start_time": "2019-11-16T00:34:55.855346Z"
    }
   },
   "outputs": [],
   "source": [
    "text_collection = nltk.TextCollection(tokenized_texts)"
   ]
  },
  {
   "cell_type": "markdown",
   "metadata": {},
   "source": [
    "**Antes de continuar, vamos criar um vocabulário de palavras únicas nos textos...**"
   ]
  },
  {
   "cell_type": "code",
   "execution_count": 40,
   "metadata": {
    "ExecuteTime": {
     "end_time": "2019-11-16T00:33:10.844145Z",
     "start_time": "2019-11-16T00:33:10.042621Z"
    }
   },
   "outputs": [
    {
     "data": {
      "text/plain": [
       "['segeiro', 'devaneio', 'amarra', 'seringar', 'gozlans']"
      ]
     },
     "execution_count": 40,
     "metadata": {},
     "output_type": "execute_result"
    }
   ],
   "source": [
    "vocabulary = set([])\n",
    "for t in tokenized_texts:\n",
    "    vocabulary = vocabulary.union(set(t))  # adicionando palavras únicas\n",
    "vocabulary = list(map(lambda x:x.lower(), vocabulary)) # passando todas as palavras para letra minúscula\n",
    "vocabulary[:5]  # amostra"
   ]
  },
  {
   "cell_type": "markdown",
   "metadata": {},
   "source": [
    "### Exercício 1: Similaridade por Cosseno.\n",
    "\n",
    "Com base na metodologia apresentada na Prática 2, usando o corpus de Machado, Construa vetorizações, binárias, por frequência e por tf-idf. Compare a ordenação dos resultados para uma consulta qualquer, com pelo menos 3 palavras. Para a ordenação dos resultados, use o cosseno entre os vetores da consulta e dos documentos.\n",
    "\n",
    "<font color='red'>**Resposta:**</font>\n",
    "\n",
    "Sabemos que a similaridade entre dois vetores é dada pelo cosseno do ângulo formado por eles, i.e., \n",
    "\n",
    "$$\\text{Similarity}~(U,V) = \\cos(\\theta) = {\\mathbf{U} \\cdot \\mathbf{V} \\over \\|\\mathbf{U}\\| \\|\\mathbf{V}\\|} = \\frac{ \\sum_{i=1}^{n}{u_i  \\cdot v_i} }{ \\sqrt{\\sum_{i=1}^{n}u_i^2}  \\sqrt{\\sum_{i=1}^{n} v_i^2} }$$\n",
    "\n",
    "Assim, vamos resolver esse exercício da seguinte forma:"
   ]
  },
  {
   "cell_type": "markdown",
   "metadata": {},
   "source": [
    "1. Criando uma consulta"
   ]
  },
  {
   "cell_type": "code",
   "execution_count": 113,
   "metadata": {
    "ExecuteTime": {
     "end_time": "2019-11-16T01:23:23.137146Z",
     "start_time": "2019-11-16T01:23:23.131764Z"
    }
   },
   "outputs": [],
   "source": [
    "# criando uma consulta\n",
    "c = 'traição capistrano serená'\n",
    "ct = WPT().tokenize(c.lower())"
   ]
  },
  {
   "cell_type": "markdown",
   "metadata": {},
   "source": [
    "2. Calculando frequências sobre a consulta"
   ]
  },
  {
   "cell_type": "code",
   "execution_count": 114,
   "metadata": {
    "ExecuteTime": {
     "end_time": "2019-11-16T01:23:24.862796Z",
     "start_time": "2019-11-16T01:23:24.557903Z"
    }
   },
   "outputs": [],
   "source": [
    "### Criando matrizes para armazenar as frequências\n",
    "binary_matrix = np.zeros((len(tokenized_texts),len(ct)))   # Frequência binária\n",
    "tf_matrix = np.zeros((len(tokenized_texts),len(ct)))       # Frequência no texto\n",
    "tfidf_matrix = np.zeros((len(tokenized_texts),len(ct)))    # Frequência por tf_idf\n",
    "\n",
    "for k, word in enumerate(ct):\n",
    "    for j, text in enumerate(tokenized_texts):\n",
    "        tfidf_matrix[j,k] = text_collection.tf_idf(word,text)\n",
    "        tf_matrix[j,k] = text_collection.tf(word,text)\n",
    "        if tf_matrix[j,k] > 0:\n",
    "            binary_matrix[j,k] = 1"
   ]
  },
  {
   "cell_type": "code",
   "execution_count": 115,
   "metadata": {
    "ExecuteTime": {
     "end_time": "2019-11-16T01:23:25.108566Z",
     "start_time": "2019-11-16T01:23:25.074947Z"
    }
   },
   "outputs": [],
   "source": [
    "# normalizando matrizes\n",
    "binary_matrix_norm = np.array([r/norm(r) if norm(r) !=0 else np.zeros(len(r)) for r in binary_matrix])\n",
    "tf_matrix_norm = np.array([r/norm(r) if norm(r) !=0 else np.zeros(len(r)) for r in tf_matrix])\n",
    "tfidf_matrix_norm = np.array([r/norm(r) if norm(r) !=0 else np.zeros(len(r)) for r in tfidf_matrix])"
   ]
  },
  {
   "cell_type": "markdown",
   "metadata": {},
   "source": [
    "3. criando vetores de consulta ordenados"
   ]
  },
  {
   "cell_type": "code",
   "execution_count": 116,
   "metadata": {
    "ExecuteTime": {
     "end_time": "2019-11-16T01:23:26.196251Z",
     "start_time": "2019-11-16T01:23:26.188508Z"
    }
   },
   "outputs": [],
   "source": [
    "# ordenando vetores\n",
    "def prod(u,M):\n",
    "    ''' Ordena os valores em um vetor \n",
    "    Arguments:\n",
    "            - u: vector\n",
    "            - M: Matrix\n",
    "    Output:\n",
    "            list of internal products of u with M column vectors\n",
    "    '''\n",
    "    return [np.dot(u,v) for v in M]"
   ]
  },
  {
   "cell_type": "code",
   "execution_count": 117,
   "metadata": {
    "ExecuteTime": {
     "end_time": "2019-11-16T01:23:27.434091Z",
     "start_time": "2019-11-16T01:23:27.417052Z"
    }
   },
   "outputs": [],
   "source": [
    "### Construção dos vetores ordenados\n",
    "# binário\n",
    "bin_vector = np.ones(len(ct))                   # cria vetor de 1's\n",
    "bin_vector /= norm(bin_vector)                  # normaliza\n",
    "ans_bin = prod(bin_vector, binary_matrix_norm)  # produto interno\n",
    "\n",
    "# tf\n",
    "tf_vector = np.array([text_collection.tf(w,ct) for w in ct])  # calcula a frequência dos termos\n",
    "tf_vector /= norm(tf_vector)                                  # normaliza o vetor de freq.\n",
    "ans_tf = prod(tf_vector, tf_matrix_norm)                      # calcula o produto interno com a matriz\n",
    "\n",
    "# tf-idf\n",
    "tfidf_vector = np.array([text_collection.tf_idf(w,ct) for w in ct])  # calcula o tf-idf\n",
    "tfidf_vector /= norm(tfidf_vector)                                   # normaliza o vetor\n",
    "ans_tfidf = prod(tfidf_vector,tfidf_matrix_norm)                     # calcula o produto interno\n",
    "\n",
    "### eliminando coordenadas esparsas\n",
    "vbin = filter(lambda x : x[0]!=0.0, zip(ans_bin,range(len(tokenized_texts))))\n",
    "vtf = filter(lambda x : x[0]!=0.0, zip(ans_tf,range(len(tokenized_texts))))\n",
    "vtfidf = filter(lambda x : x[0]!=0.0, zip(ans_tfidf,range(len(tokenized_texts))))\n",
    "\n",
    "### ordenando os vetores por grau de similaridade\n",
    "vbin = sorted(vbin, reverse=True)\n",
    "vtf = sorted(vtf, reverse=True)\n",
    "vtfidf = sorted(vtfidf, reverse=True) "
   ]
  },
  {
   "cell_type": "markdown",
   "metadata": {
    "ExecuteTime": {
     "end_time": "2019-11-16T01:06:21.176123Z",
     "start_time": "2019-11-16T01:06:21.169092Z"
    }
   },
   "source": [
    "4. Visualizando os vetores **binários**"
   ]
  },
  {
   "cell_type": "code",
   "execution_count": 119,
   "metadata": {
    "ExecuteTime": {
     "end_time": "2019-11-16T01:23:38.515411Z",
     "start_time": "2019-11-16T01:23:38.268112Z"
    }
   },
   "outputs": [
    {
     "data": {
      "image/png": "[encoded data removed]",
      "text/plain": [
       "<Figure size 720x432 with 1 Axes>"
      ]
     },
     "metadata": {
      "needs_background": "light"
     },
     "output_type": "display_data"
    }
   ],
   "source": [
    "fig = plt.figure(figsize=(10,6))\n",
    "ax = plt.gca()\n",
    "docs = 3\n",
    "vecs = [bin_vector[:2]]\n",
    "for d in vbin[:docs]:\n",
    "    vecs.append(binary_matrix_norm[d[1]][:2])\n",
    "    x,y = binary_matrix_norm[d[1]][:2]\n",
    "    plt.text(x,y,'{}'.format(d[1]))\n",
    "U, V = zip(*vecs)\n",
    "x,y = np.zeros(docs+1), np.zeros(docs+1)\n",
    "plt.text(U[0],V[0],'consulta')\n",
    "plt.grid()\n",
    "ax.set_xlim(0,1)\n",
    "ax.set_ylim(0,1)\n",
    "ax.set_xlabel('traição')\n",
    "ax.set_ylabel('capistrano')\n",
    "ax.quiver(x,y,U,V,angles='xy',scale_units='xy', scale=1.0);"
   ]
  },
  {
   "cell_type": "markdown",
   "metadata": {},
   "source": [
    "5. Visualizando os vetores por frequência"
   ]
  },
  {
   "cell_type": "code",
   "execution_count": 121,
   "metadata": {
    "ExecuteTime": {
     "end_time": "2019-11-16T01:23:46.065719Z",
     "start_time": "2019-11-16T01:23:45.830957Z"
    }
   },
   "outputs": [
    {
     "data": {
      "image/png": "[encoded data removed]",
      "text/plain": [
       "<Figure size 720x432 with 1 Axes>"
      ]
     },
     "metadata": {
      "needs_background": "light"
     },
     "output_type": "display_data"
    }
   ],
   "source": [
    "fig = plt.figure(figsize=(10,6))\n",
    "ax = plt.gca()\n",
    "docs = 3\n",
    "vecs = [tf_vector[:2]]\n",
    "for d in vtf[:docs]:\n",
    "    vecs.append(tf_matrix_norm[d[1]][:2])\n",
    "    x,y = tf_matrix_norm[d[1]][:2]\n",
    "    plt.text(x,y,'{}'.format(d[1]))\n",
    "U, V = zip(*vecs)\n",
    "x,y = np.zeros(docs+1), np.zeros(docs+1)\n",
    "plt.text(U[0],V[0],'consulta')\n",
    "plt.grid()\n",
    "ax.set_xlim(0,1)\n",
    "ax.set_ylim(0,1)\n",
    "ax.set_xlabel('traição')\n",
    "ax.set_ylabel('capistrano')\n",
    "ax.quiver(x,y,U,V,angles='xy',scale_units='xy', scale=1.0);"
   ]
  },
  {
   "cell_type": "markdown",
   "metadata": {},
   "source": [
    "6. Visualização dos vetores por tf-idf"
   ]
  },
  {
   "cell_type": "code",
   "execution_count": 122,
   "metadata": {
    "ExecuteTime": {
     "end_time": "2019-11-16T01:23:56.144529Z",
     "start_time": "2019-11-16T01:23:55.902389Z"
    }
   },
   "outputs": [
    {
     "data": {
      "image/png": "[encoded data removed]",
      "text/plain": [
       "<Figure size 720x432 with 1 Axes>"
      ]
     },
     "metadata": {
      "needs_background": "light"
     },
     "output_type": "display_data"
    }
   ],
   "source": [
    "fig = plt.figure(figsize=(10,6))\n",
    "ax = plt.gca()\n",
    "docs = 3\n",
    "vecs = [vetor_tfidf[:2]]\n",
    "for d in vtf[:docs]:\n",
    "    vecs.append(tfidf_matrix_norm[d[1]][:2])\n",
    "    x,y = tfidf_matrix_norm[d[1]][:2]\n",
    "    plt.text(x,y,'{}'.format(d[1]))\n",
    "U, V = zip(*vecs)\n",
    "x,y = np.zeros(docs+1), np.zeros(docs+1)\n",
    "plt.text(U[0],V[0],'consulta')\n",
    "plt.grid()\n",
    "ax.set_xlim(0,1)\n",
    "ax.set_ylim(0,1)\n",
    "ax.set_xlabel('traição')\n",
    "ax.set_ylabel('capistrano')\n",
    "ax.quiver(x,y,U,V,angles='xy',scale_units='xy', scale=1.0);"
   ]
  },
  {
   "cell_type": "markdown",
   "metadata": {},
   "source": [
    "**Conclusão:** os resultados foram semelhantes para os três tipos de frequência.\n",
    "\n",
    "<br>"
   ]
  },
  {
   "cell_type": "markdown",
   "metadata": {},
   "source": [
    "### Exercício 2: Explorando o conceito de similaridade\n",
    "\n",
    "Construa uma matriz de similaridade (cossenos entre vetores de frequência) entre todos os textos de machado. \n",
    "Construa um histograma com os valores de similaridade, excluindo os 0s e 1s. Interprete. \n",
    "\n",
    "<font color='red'>**Resposta:**</font>\n",
    "\n",
    "Nesse exercício, vamos comparar como a frequência das palavras se diferencia entre os três tipos de \"contagem\". "
   ]
  },
  {
   "cell_type": "code",
   "execution_count": 128,
   "metadata": {
    "ExecuteTime": {
     "end_time": "2019-11-16T01:29:07.694566Z",
     "start_time": "2019-11-16T01:29:05.234741Z"
    }
   },
   "outputs": [
    {
     "data": {
      "text/plain": [
       "array([[1.        , 0.81896149, 0.83046457, ..., 0.29386488, 0.65654999,\n",
       "        0.58979922],\n",
       "       [0.81896149, 1.        , 0.84636708, ..., 0.2857949 , 0.66699573,\n",
       "        0.59418853],\n",
       "       [0.83046457, 0.84636708, 1.        , ..., 0.28538606, 0.70631686,\n",
       "        0.6081249 ],\n",
       "       ...,\n",
       "       [0.29386488, 0.2857949 , 0.28538606, ..., 1.        , 0.21823833,\n",
       "        0.21724236],\n",
       "       [0.65654999, 0.66699573, 0.70631686, ..., 0.21823833, 1.        ,\n",
       "        0.49688348],\n",
       "       [0.58979922, 0.59418853, 0.6081249 , ..., 0.21724236, 0.49688348,\n",
       "        1.        ]])"
      ]
     },
     "execution_count": 128,
     "metadata": {},
     "output_type": "execute_result"
    }
   ],
   "source": [
    "tfidf = TfidfVectorizer(min_df=1).fit_transform(texts)\n",
    "matrix = (tfidf * tfidf.T).A\n",
    "matrix"
   ]
  },
  {
   "cell_type": "code",
   "execution_count": 159,
   "metadata": {
    "ExecuteTime": {
     "end_time": "2019-11-16T01:46:37.601559Z",
     "start_time": "2019-11-16T01:46:37.596090Z"
    }
   },
   "outputs": [
    {
     "name": "stdout",
     "output_type": "stream",
     "text": [
      "(246, 246)\n"
     ]
    }
   ],
   "source": [
    "print(matrix.shape)"
   ]
  },
  {
   "cell_type": "code",
   "execution_count": 160,
   "metadata": {
    "ExecuteTime": {
     "end_time": "2019-11-16T01:48:05.925553Z",
     "start_time": "2019-11-16T01:47:45.832522Z"
    }
   },
   "outputs": [
    {
     "data": {
      "text/plain": [
       "Text(0, 0.5, 'Frequência')"
      ]
     },
     "execution_count": 160,
     "metadata": {},
     "output_type": "execute_result"
    },
    {
     "data": {
      "image/png": "[encoded data removed]",
      "text/plain": [
       "<Figure size 720x432 with 1 Axes>"
      ]
     },
     "metadata": {},
     "output_type": "display_data"
    }
   ],
   "source": [
    "pd.DataFrame(matrix).plot(kind='hist', legend=False, bins=30, figsize=(10,6))          \n",
    "plt.title(\"Histograma de Similaridade (todos os textos)\")\n",
    "plt.xlabel(\"Cosseno entre Vetores\")\n",
    "plt.ylabel(\"Frequência\")"
   ]
  },
  {
   "cell_type": "markdown",
   "metadata": {},
   "source": [
    "Não sei como interpretar esse gráfico (além de dizer que as distribuições são diferentes - algumas são mais assimétricas à direita)... Fiquei na dúvida se era para fazer um histograma diferente para cada texto (246 gráficos diferentes), ou se era para \"empilhar\" todos como fiz acima."
   ]
  },
  {
   "cell_type": "markdown",
   "metadata": {},
   "source": [
    "### Exercício 3: Usando o Gensim\n",
    "Instale o Gensim, se ainda não o tiver. Seguindo o início deste tutorial: https://radimrehurek.com/gensim/tut2.html, construa um corpus usando as classes do Gensim, mas com os textos de Machado.\n",
    "\n",
    "\n",
    "<font color='red'>**Resposta:**</font>\n",
    "\n"
   ]
  },
  {
   "cell_type": "code",
   "execution_count": 161,
   "metadata": {
    "ExecuteTime": {
     "end_time": "2019-11-16T01:50:55.491649Z",
     "start_time": "2019-11-16T01:50:55.424391Z"
    }
   },
   "outputs": [],
   "source": [
    "# coletando stopwords + pontuação (caracteres especiais)\n",
    "swu = stopwords.words('portuguese')+ list(string.punctuation)"
   ]
  },
  {
   "cell_type": "code",
   "execution_count": 164,
   "metadata": {
    "ExecuteTime": {
     "end_time": "2019-11-16T01:51:49.291244Z",
     "start_time": "2019-11-16T01:51:49.286426Z"
    }
   },
   "outputs": [],
   "source": [
    "# instanciando o stemmer de palavras em português\n",
    "Stemmer = PortugueseStemmer()"
   ]
  },
  {
   "cell_type": "markdown",
   "metadata": {},
   "source": [
    "Para construir o corpus, vamos tokenizar, remover stopwords e \"stemizar\" os termos."
   ]
  },
  {
   "cell_type": "code",
   "execution_count": 170,
   "metadata": {
    "ExecuteTime": {
     "end_time": "2019-11-16T01:55:33.339186Z",
     "start_time": "2019-11-16T01:54:42.141197Z"
    }
   },
   "outputs": [],
   "source": [
    "textos_limpos = []\n",
    "c = Counter([])\n",
    "for texto in textos:\n",
    "    texto_limpo = [Stemmer.stem(token.strip(string.punctuation).lower()) for token in WPT().tokenize(texto) \n",
    "                                                                                       if token not in swu]\n",
    "    c.update(texto_limpo)\n",
    "    textos_limpos.append(texto_limpo)\n",
    "textos_limpos = [[token for token in t if c[token]>1] for t in textos_limpos]"
   ]
  },
  {
   "cell_type": "markdown",
   "metadata": {},
   "source": [
    "Vamos criar um ID para cada token."
   ]
  },
  {
   "cell_type": "code",
   "execution_count": 171,
   "metadata": {
    "ExecuteTime": {
     "end_time": "2019-11-16T01:55:37.187376Z",
     "start_time": "2019-11-16T01:55:36.072597Z"
    }
   },
   "outputs": [
    {
     "name": "stdout",
     "output_type": "stream",
     "text": [
      "Dictionary(18033 unique tokens: ['', '10', '11', '15', '186']...)\n"
     ]
    }
   ],
   "source": [
    "dic = corpora.Dictionary(textos_limpos)\n",
    "dic.save('vocabulario.dict')\n",
    "print(dic)"
   ]
  },
  {
   "cell_type": "markdown",
   "metadata": {},
   "source": [
    "Agora, vamos criar um \"corpus\" que associa o ID de cada token/palavra com sua frequência nos textos."
   ]
  },
  {
   "cell_type": "code",
   "execution_count": 173,
   "metadata": {
    "ExecuteTime": {
     "end_time": "2019-11-16T01:57:18.827596Z",
     "start_time": "2019-11-16T01:57:17.647528Z"
    }
   },
   "outputs": [],
   "source": [
    "corpus = [dic.doc2bow(d) for d in textos_limpos]\n",
    "corpora.MmCorpus.serialize('machado.mm', corpus)"
   ]
  },
  {
   "cell_type": "code",
   "execution_count": 175,
   "metadata": {
    "ExecuteTime": {
     "end_time": "2019-11-16T01:57:29.757481Z",
     "start_time": "2019-11-16T01:57:29.750200Z"
    }
   },
   "outputs": [
    {
     "data": {
      "text/plain": [
       "[(0, 423), (1, 1), (2, 1), (3, 1), (4, 2)]"
      ]
     },
     "execution_count": 175,
     "metadata": {},
     "output_type": "execute_result"
    }
   ],
   "source": [
    "corpus[0][:5]  # (id, freq)"
   ]
  },
  {
   "cell_type": "markdown",
   "metadata": {},
   "source": [
    "### Exercício 4: Indexação Semântica Latente.\n",
    "\n",
    "Ainda seguindo  o tutorial citado no exercício anterior, ajuste um modelo LSI para os documentos de machado. Interprete os resultados.\n",
    "\n",
    "<font color='red'>**Resposta:**</font>"
   ]
  },
  {
   "cell_type": "code",
   "execution_count": 177,
   "metadata": {
    "ExecuteTime": {
     "end_time": "2019-11-16T02:21:54.010440Z",
     "start_time": "2019-11-16T02:21:53.861413Z"
    }
   },
   "outputs": [],
   "source": [
    "# modelo TF-IDF\n",
    "tfidf_model = models.TfidfModel(corpus)\n",
    "corpus_tfidf = tfidf_model[corpus]"
   ]
  },
  {
   "cell_type": "code",
   "execution_count": 179,
   "metadata": {
    "ExecuteTime": {
     "end_time": "2019-11-16T02:22:37.677943Z",
     "start_time": "2019-11-16T02:22:31.654918Z"
    }
   },
   "outputs": [],
   "source": [
    "# modelo LSI\n",
    "lsi_model = models.LsiModel(corpus_tfidf, id2word=dic, num_topics=300)\n",
    "corpus_lsi = lsi_model[corpus_tfidf]"
   ]
  },
  {
   "cell_type": "markdown",
   "metadata": {},
   "source": [
    "Quanto os 15 primeiros tópicos caracterizam o \"assunto\" do primeiro texto do corpus."
   ]
  },
  {
   "cell_type": "code",
   "execution_count": 181,
   "metadata": {
    "ExecuteTime": {
     "end_time": "2019-11-16T02:22:58.730870Z",
     "start_time": "2019-11-16T02:22:58.669780Z"
    }
   },
   "outputs": [
    {
     "data": {
      "text/plain": [
       "[(0, 0.3596113784766927),\n",
       " (1, 0.23767862088702946),\n",
       " (2, 0.1947506030522646),\n",
       " (3, -0.009978592385491111),\n",
       " (4, 0.072954612864257),\n",
       " (5, -0.15044692856726816),\n",
       " (6, 0.017103453478745742),\n",
       " (7, 0.23832400184736677),\n",
       " (8, -0.16466105825322228),\n",
       " (9, 0.06661538679213803),\n",
       " (10, -0.1619564895105473),\n",
       " (11, 0.0019638579523943143),\n",
       " (12, -0.04936230922493345),\n",
       " (13, 0.0024159075944397436),\n",
       " (14, -0.06679044342532335)]"
      ]
     },
     "execution_count": 181,
     "metadata": {},
     "output_type": "execute_result"
    }
   ],
   "source": [
    "corpus_lsi[0][:15]"
   ]
  },
  {
   "cell_type": "code",
   "execution_count": 183,
   "metadata": {
    "ExecuteTime": {
     "end_time": "2019-11-16T02:23:46.930720Z",
     "start_time": "2019-11-16T02:23:46.921719Z"
    }
   },
   "outputs": [
    {
     "data": {
      "text/plain": [
       "[(0,\n",
       "  '0.302*\"\\x97\" + 0.109*\"sr\" + 0.094*\"poet\" + 0.085*\"luís\" + 0.065*\"crític\" + 0.065*\"camil\" + 0.064*\"\\x93\" + 0.062*\"vers\" + 0.059*\"d\" + 0.059*\"jos\"'),\n",
       " (1,\n",
       "  '0.385*\"\\x97\" + -0.154*\"sr\" + -0.150*\"crític\" + 0.144*\"luís\" + -0.137*\"poet\" + -0.131*\"dramát\" + -0.120*\"alenc\" + 0.103*\"camil\" + -0.101*\"autor\" + -0.100*\"poes\"'),\n",
       " (2,\n",
       "  '0.307*\"luís\" + -0.241*\"henriquet\" + 0.142*\"daniel\" + 0.138*\"jorg\" + 0.137*\"marcelin\" + 0.132*\"tit\" + 0.130*\"carlot\" + 0.129*\"poet\" + 0.128*\"cecíl\" + 0.127*\"alves\"')]"
      ]
     },
     "execution_count": 183,
     "metadata": {},
     "output_type": "execute_result"
    }
   ],
   "source": [
    "lsi_model.print_topics(3)"
   ]
  },
  {
   "cell_type": "markdown",
   "metadata": {},
   "source": [
    "Para interpretar os resultados de maneira mais coesa, acredito que sejam necessárias limpezas adicionais. Ainda aparecem caracteres especiais, como \\x."
   ]
  },
  {
   "cell_type": "markdown",
   "metadata": {},
   "source": [
    "**Fim.**"
   ]
  }
 ],
 "metadata": {
  "kernelspec": {
   "display_name": "Python 3",
   "language": "python",
   "name": "python3"
  },
  "language_info": {
   "codemirror_mode": {
    "name": "ipython",
    "version": 3
   },
   "file_extension": ".py",
   "mimetype": "text/x-python",
   "name": "python",
   "nbconvert_exporter": "python",
   "pygments_lexer": "ipython3",
   "version": "3.7.4"
  },
  "toc": {
   "base_numbering": 1,
   "nav_menu": {},
   "number_sections": false,
   "sideBar": true,
   "skip_h1_title": false,
   "title_cell": "Table of Contents",
   "title_sidebar": "Contents",
   "toc_cell": false,
   "toc_position": {},
   "toc_section_display": true,
   "toc_window_display": false
  },
  "varInspector": {
   "cols": {
    "lenName": 16,
    "lenType": 16,
    "lenVar": 40
   },
   "kernels_config": {
    "python": {
     "delete_cmd_postfix": "",
     "delete_cmd_prefix": "del ",
     "library": "var_list.py",
     "varRefreshCmd": "print(var_dic_list())"
    },
    "r": {
     "delete_cmd_postfix": ") ",
     "delete_cmd_prefix": "rm(",
     "library": "var_list.r",
     "varRefreshCmd": "cat(var_dic_list()) "
    }
   },
   "types_to_exclude": [
    "module",
    "function",
    "builtin_function_or_method",
    "instance",
    "_Feature"
   ],
   "window_display": false
  }
 },
 "nbformat": 4,
 "nbformat_minor": 1
}
