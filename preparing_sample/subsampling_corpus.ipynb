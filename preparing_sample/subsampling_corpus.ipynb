{
 "cells": [
  {
   "cell_type": "markdown",
   "metadata": {},
   "source": [
    "# Construindo amostra aleatória do *`corpus`* \n",
    "\n",
    "Nesse notebook, vamos importar TODO o conjunto de dados e selecionar uma amostra aleatória de 10 mil observações (diferentes reviews de produtos eletrônicos da Amazon). O objetivo desse notebook é criar uma amostra dos dados utilizados que possa ser armazenada no repositório do GitHub. \n",
    "\n",
    "Essa amostra pode ser importada para executar o código contido nos notebooks das pastas _hw*_."
   ]
  },
  {
   "cell_type": "code",
   "execution_count": 1,
   "metadata": {},
   "outputs": [],
   "source": [
    "import random\n",
    "import numpy as np\n",
    "import pandas as pd"
   ]
  },
  {
   "cell_type": "markdown",
   "metadata": {},
   "source": [
    "## Sorteando amostra"
   ]
  },
  {
   "cell_type": "code",
   "execution_count": 2,
   "metadata": {},
   "outputs": [],
   "source": [
    "# sorteando amostra aleatória do corpus\n",
    "filepath = \"../Amazon_electronics_reviews.csv\"  # arquivo completo no disco local (1.27 GB)\n",
    "n = sum(1 for line in open(filepath)) # nº de registros no arquivo (não tem header)\n",
    "s = 10000 # tamanho da amostra"
   ]
  },
  {
   "cell_type": "code",
   "execution_count": 3,
   "metadata": {},
   "outputs": [
    {
     "name": "stdout",
     "output_type": "stream",
     "text": [
      "Total de registros no dataset original: 1689204\n"
     ]
    }
   ],
   "source": [
    "print('Total de registros no dataset original:', n)"
   ]
  },
  {
   "cell_type": "code",
   "execution_count": 4,
   "metadata": {},
   "outputs": [],
   "source": [
    "skip = sorted(random.sample(range(1,n+1), n-s)) # número aleatório de linhas para pular\n",
    "df = pd.read_csv(filepath, skiprows=skip, header=0,index_col = 0, encoding='utf-8')"
   ]
  },
  {
   "cell_type": "code",
   "execution_count": 5,
   "metadata": {},
   "outputs": [],
   "source": [
    "# removendo linhas que não têm review\n",
    "df.dropna(subset=['reviewText'], inplace=True)"
   ]
  },
  {
   "cell_type": "code",
   "execution_count": 6,
   "metadata": {},
   "outputs": [
    {
     "name": "stdout",
     "output_type": "stream",
     "text": [
      "Tamanho final da amostra: 9994 obs.\n"
     ]
    }
   ],
   "source": [
    "print('Tamanho final da amostra:', df.shape[0], 'obs.')"
   ]
  },
  {
   "cell_type": "code",
   "execution_count": 7,
   "metadata": {},
   "outputs": [],
   "source": [
    "df.to_csv('../sample_data.csv', sep=',', encoding='utf-8')"
   ]
  }
 ],
 "metadata": {
  "kernelspec": {
   "display_name": "Python 3",
   "language": "python",
   "name": "python3"
  },
  "language_info": {
   "codemirror_mode": {
    "name": "ipython",
    "version": 3
   },
   "file_extension": ".py",
   "mimetype": "text/x-python",
   "name": "python",
   "nbconvert_exporter": "python",
   "pygments_lexer": "ipython3",
   "version": "3.7.4"
  }
 },
 "nbformat": 4,
 "nbformat_minor": 4
}
