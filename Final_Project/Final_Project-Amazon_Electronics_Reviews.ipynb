{
 "cells": [
  {
   "cell_type": "markdown",
   "metadata": {},
   "source": [
    "# Projeto Final 2019\n",
    "\n",
    "**Aluno:** Franklin Alves de Oliveira\n",
    "\n",
    "-----\n",
    "\n",
    "Neste projeto cada aluno deve eleger um corpus de documentos de tamanho medio (pelo menos milhares de documentos). Todas as tarefas a seguir serao realizadas sobre este corpus.\n",
    "\n",
    "-----\n",
    "\n",
    "Então, vamos começar importando o *corpus* de *reviews* de produtos eletrônicos do site [Amazon.com](https://www.amazon.com). Esse corpus, e outros semelhantes, podem ser encontrados nesse [link](http://jmcauley.ucsd.edu/data/amazon/). \n",
    "\n",
    "Para esse projeto, vamos utilizar uma amostra de aproximadamente 300 mil reviews (selecionados aleatoriamente) de um total de 1.689.188 no *corpus* completo.\n",
    "\n",
    "<br>\n",
    "\n",
    "Antes de começarmos, vamos fazer os ***imports*** de alguns pacotes..."
   ]
  },
  {
   "cell_type": "code",
   "execution_count": 1,
   "metadata": {
    "ExecuteTime": {
     "end_time": "2019-12-09T03:59:57.289285Z",
     "start_time": "2019-12-09T03:59:55.799246Z"
    }
   },
   "outputs": [],
   "source": [
    "# imports\n",
    "import os\n",
    "import re\n",
    "import nltk\n",
    "import math\n",
    "import string\n",
    "import shutil\n",
    "import gensim\n",
    "import whoosh\n",
    "import enchant\n",
    "import logging\n",
    "import numpy as np\n",
    "import pandas as pd\n",
    "import seaborn as sns\n",
    "import matplotlib.pyplot as plt\n",
    "\n",
    "# imports de funcionalidades diversas\n",
    "from tqdm import tqdm\n",
    "from string import punctuation\n",
    "from IPython.display import display, Markdown, Latex\n",
    "from collections import defaultdict,Counter,OrderedDict\n",
    "from sklearn.feature_extraction.text import TfidfVectorizer\n",
    "\n",
    "# imports do nltk\n",
    "from nltk.corpus import stopwords\n",
    "from nltk.tokenize import WordPunctTokenizer as WPT\n",
    "from nltk.stem.snowball import SnowballStemmer"
   ]
  },
  {
   "cell_type": "markdown",
   "metadata": {},
   "source": [
    "**Configurações iniciais:**"
   ]
  },
  {
   "cell_type": "code",
   "execution_count": 2,
   "metadata": {
    "ExecuteTime": {
     "end_time": "2019-12-09T03:59:58.721818Z",
     "start_time": "2019-12-09T03:59:58.514686Z"
    }
   },
   "outputs": [
    {
     "name": "stderr",
     "output_type": "stream",
     "text": [
      "[nltk_data] Downloading package stopwords to\n",
      "[nltk_data]     /home/franklin/nltk_data...\n",
      "[nltk_data]   Package stopwords is already up-to-date!\n"
     ]
    }
   ],
   "source": [
    "nltk.download('stopwords')\n",
    "swu = stopwords.words('english') + list(string.punctuation)\n",
    "stemmer = SnowballStemmer('english')"
   ]
  },
  {
   "cell_type": "markdown",
   "metadata": {},
   "source": [
    "**Importando o _corpus_**:"
   ]
  },
  {
   "cell_type": "code",
   "execution_count": 3,
   "metadata": {
    "ExecuteTime": {
     "end_time": "2019-12-09T04:00:03.704806Z",
     "start_time": "2019-12-09T03:59:59.545472Z"
    }
   },
   "outputs": [
    {
     "data": {
      "text/html": [
       "<div>\n",
       "<style scoped>\n",
       "    .dataframe tbody tr th:only-of-type {\n",
       "        vertical-align: middle;\n",
       "    }\n",
       "\n",
       "    .dataframe tbody tr th {\n",
       "        vertical-align: top;\n",
       "    }\n",
       "\n",
       "    .dataframe thead th {\n",
       "        text-align: right;\n",
       "    }\n",
       "</style>\n",
       "<table border=\"1\" class=\"dataframe\">\n",
       "  <thead>\n",
       "    <tr style=\"text-align: right;\">\n",
       "      <th></th>\n",
       "      <th>reviewerID</th>\n",
       "      <th>asin</th>\n",
       "      <th>reviewerName</th>\n",
       "      <th>helpful</th>\n",
       "      <th>reviewText</th>\n",
       "      <th>overall</th>\n",
       "      <th>summary</th>\n",
       "      <th>unixReviewTime</th>\n",
       "      <th>reviewTime</th>\n",
       "    </tr>\n",
       "  </thead>\n",
       "  <tbody>\n",
       "    <tr>\n",
       "      <td>1</td>\n",
       "      <td>AMO214LNFCEI4</td>\n",
       "      <td>0528881469</td>\n",
       "      <td>Amazon Customer</td>\n",
       "      <td>[12, 15]</td>\n",
       "      <td>I'm a professional OTR truck driver, and I bou...</td>\n",
       "      <td>1.0</td>\n",
       "      <td>Very Disappointed</td>\n",
       "      <td>1290643200</td>\n",
       "      <td>11 25, 2010</td>\n",
       "    </tr>\n",
       "    <tr>\n",
       "      <td>5</td>\n",
       "      <td>A2JXAZZI9PHK9Z</td>\n",
       "      <td>0594451647</td>\n",
       "      <td>Billy G. Noland \"Bill Noland\"</td>\n",
       "      <td>[3, 3]</td>\n",
       "      <td>I am using this with a Nook HD+. It works as d...</td>\n",
       "      <td>5.0</td>\n",
       "      <td>HDMI Nook adapter cable</td>\n",
       "      <td>1388707200</td>\n",
       "      <td>01 3, 2014</td>\n",
       "    </tr>\n",
       "    <tr>\n",
       "      <td>9</td>\n",
       "      <td>A3BY5KCNQZXV5U</td>\n",
       "      <td>0594451647</td>\n",
       "      <td>Matenai</td>\n",
       "      <td>[3, 3]</td>\n",
       "      <td>This product really works great but I found th...</td>\n",
       "      <td>5.0</td>\n",
       "      <td>This works great but read the details...</td>\n",
       "      <td>1390176000</td>\n",
       "      <td>01 20, 2014</td>\n",
       "    </tr>\n",
       "    <tr>\n",
       "      <td>15</td>\n",
       "      <td>AT09WGFUM934H</td>\n",
       "      <td>0594481813</td>\n",
       "      <td>John</td>\n",
       "      <td>[0, 0]</td>\n",
       "      <td>It does 2A and charges a DEAD Nook in a few ho...</td>\n",
       "      <td>3.0</td>\n",
       "      <td>This is the oem charger you get with the nook hd+</td>\n",
       "      <td>1377907200</td>\n",
       "      <td>08 31, 2013</td>\n",
       "    </tr>\n",
       "    <tr>\n",
       "      <td>20</td>\n",
       "      <td>A1EDI0X3GI1SK7</td>\n",
       "      <td>0972683275</td>\n",
       "      <td>AGW</td>\n",
       "      <td>[0, 1]</td>\n",
       "      <td>Great deal, easy to mount and it appears to be...</td>\n",
       "      <td>5.0</td>\n",
       "      <td>32 In TV Mount</td>\n",
       "      <td>1323993600</td>\n",
       "      <td>12 16, 2011</td>\n",
       "    </tr>\n",
       "  </tbody>\n",
       "</table>\n",
       "</div>"
      ],
      "text/plain": [
       "        reviewerID        asin                   reviewerName   helpful  \\\n",
       "1    AMO214LNFCEI4  0528881469                Amazon Customer  [12, 15]   \n",
       "5   A2JXAZZI9PHK9Z  0594451647  Billy G. Noland \"Bill Noland\"    [3, 3]   \n",
       "9   A3BY5KCNQZXV5U  0594451647                        Matenai    [3, 3]   \n",
       "15   AT09WGFUM934H  0594481813                           John    [0, 0]   \n",
       "20  A1EDI0X3GI1SK7  0972683275                            AGW    [0, 1]   \n",
       "\n",
       "                                           reviewText  overall  \\\n",
       "1   I'm a professional OTR truck driver, and I bou...      1.0   \n",
       "5   I am using this with a Nook HD+. It works as d...      5.0   \n",
       "9   This product really works great but I found th...      5.0   \n",
       "15  It does 2A and charges a DEAD Nook in a few ho...      3.0   \n",
       "20  Great deal, easy to mount and it appears to be...      5.0   \n",
       "\n",
       "                                              summary  unixReviewTime  \\\n",
       "1                                   Very Disappointed      1290643200   \n",
       "5                             HDMI Nook adapter cable      1388707200   \n",
       "9            This works great but read the details...      1390176000   \n",
       "15  This is the oem charger you get with the nook hd+      1377907200   \n",
       "20                                     32 In TV Mount      1323993600   \n",
       "\n",
       "     reviewTime  \n",
       "1   11 25, 2010  \n",
       "5    01 3, 2014  \n",
       "9   01 20, 2014  \n",
       "15  08 31, 2013  \n",
       "20  12 16, 2011  "
      ]
     },
     "execution_count": 3,
     "metadata": {},
     "output_type": "execute_result"
    }
   ],
   "source": [
    "# OBS: estou mantendo o índice do corpus original (completo)\n",
    "df = pd.read_csv('../Amazon_electronics_reviews_sample.csv', encoding='utf-8-sig', index_col=0)\n",
    "df.head()"
   ]
  },
  {
   "cell_type": "code",
   "execution_count": 4,
   "metadata": {
    "ExecuteTime": {
     "end_time": "2019-12-09T04:00:04.284906Z",
     "start_time": "2019-12-09T04:00:04.215982Z"
    }
   },
   "outputs": [
    {
     "name": "stdout",
     "output_type": "stream",
     "text": [
      "Nº de observações no corpus: 299789\n"
     ]
    }
   ],
   "source": [
    "corpus = df[['reviewerID', 'asin', 'reviewText']].copy()\n",
    "print('Nº de observações no corpus:', corpus.shape[0])"
   ]
  },
  {
   "cell_type": "markdown",
   "metadata": {},
   "source": [
    "<br>\n",
    "\n",
    "## Indexação\n",
    "1. Utilizando o Whoosh indexar o seu corpus e implementar uma funçao que apresentes para os top 10 documentos da resposta a uma consulta, trechos dos documentos contendo os termos da consulta.\n",
    "1. Contruir uma funçao de busca que aceite consultas frasais e facetaçao dos resultados."
   ]
  },
  {
   "cell_type": "code",
   "execution_count": 24,
   "metadata": {
    "ExecuteTime": {
     "end_time": "2019-12-09T13:05:02.097443Z",
     "start_time": "2019-12-09T13:05:01.715092Z"
    }
   },
   "outputs": [],
   "source": [
    "# imports do whoosh\n",
    "import whoosh.index as index\n",
    "from whoosh import qparser\n",
    "from whoosh import sorting\n",
    "from whoosh.fields import *\n",
    "from whoosh.qparser import QueryParser\n",
    "from whoosh.index import create_in, open_dir"
   ]
  },
  {
   "cell_type": "markdown",
   "metadata": {},
   "source": [
    "**definindo funções para criar o índice e fazer a busca**"
   ]
  },
  {
   "cell_type": "code",
   "execution_count": 23,
   "metadata": {
    "ExecuteTime": {
     "end_time": "2019-12-09T13:04:59.786660Z",
     "start_time": "2019-12-09T13:04:59.769192Z"
    }
   },
   "outputs": [],
   "source": [
    "def create_whoosh_id(corpus, schema):\n",
    "    '''\n",
    "    cria um índice no whoosh. \n",
    "    \n",
    "    Argumentos:\n",
    "        - corpus (list or array): lista de textos\n",
    "        - schema (Schema whoosh obj): schema para criação do índice \n",
    "    '''\n",
    "    # schema para criação do índice\n",
    "    schema = Schema(cont=TEXT(phrase=True, stored=True))\n",
    "    \n",
    "    # criando índice no whoosh (armazenado na pasta ./indexdir)\n",
    "    if index.exists_in('indexdir'):\n",
    "        shutil.rmtree('./indexdir', ignore_errors=True) # limpa/remove o índice atual\n",
    "        ix = create_in(\"indexdir\", schema)              # cria novo índice\n",
    "        writer = ix.writer()\n",
    "        for text in corpus:\n",
    "            writer.add_document(cont=text)\n",
    "        writer.commit()\n",
    "    else:\n",
    "        os.mkdir('indexdir')\n",
    "        ix = create_in(\"indexdir\", schema)\n",
    "        writer = ix.writer()\n",
    "        for txt in corpus:\n",
    "            writer.add_document(cont=txt)\n",
    "        writer.commit()\n",
    "    return ix"
   ]
  },
  {
   "cell_type": "code",
   "execution_count": 30,
   "metadata": {
    "ExecuteTime": {
     "end_time": "2019-12-09T13:15:07.072731Z",
     "start_time": "2019-12-09T13:15:07.054206Z"
    }
   },
   "outputs": [],
   "source": [
    "def search(query, corpus, schema = None, n_results=5, index= None, return_pos= False):\n",
    "    '''\n",
    "    Faz uma busca por palavras ou frases no corpus.\n",
    "    \n",
    "    Argumentos:\n",
    "        - query (string): frase a ser buscada\n",
    "        - corpus (array or list): lista de textos\n",
    "        - n_results (int): números de resultados para exibição.\n",
    "        - index (whoosh index obj.): indexador do whoosh \n",
    "        - return_pos (bool): se True, retorna uma lista com as posições onde a busca foi encontrada.\n",
    "    '''\n",
    "    # Se não for passado um índice, a função criará um com um schema padrão\n",
    "    if index == None:\n",
    "        schema = Schema(cont=TEXT(phrase=True, stored=True))\n",
    "        index = create_whoosh_id(corpus, schema)\n",
    "    \n",
    "    # listas para armazenar os resultados\n",
    "    pos=[]\n",
    "    trechos=[]\n",
    "    \n",
    "    # faz a consulta\n",
    "    query = QueryParser(\"cont\", schema=idx.schema,group=qparser.OrGroup).parse(query)\n",
    "    facets = sorting.Facets()\n",
    "    facets.add_field(\"cont\", allow_overlap=True)\n",
    "    ans = index.searcher().search(query,limit= n_results, groupedby= facets)\n",
    "    for A in ans:\n",
    "        pos.append(corpus[corpus.isin([A.values()[0]])].index[0])\n",
    "        trechos.append(re.split(\"\\.\\.\\.\", A.highlights(\"cont\")))\n",
    "        if len(pos) >= n_results:\n",
    "            break\n",
    "    \n",
    "    # exibindo os resultados  \n",
    "    n_results = min(len(trechos), n_results)\n",
    "    print(f'Foram encontrados \\033[1m{len(trechos)}\\033[0m resultados (Exibindo os \\033[1m{n_results}\\033[0m primeiros).')\n",
    "    print(' ')\n",
    "    for i in range(n_results):\n",
    "        print(f'\\033[94m\\033[4mResultado {i+1} ' + f'(índice {pos[i]} do df):\\033[0m')\n",
    "        for j in range(min(5,len(trechos[i]))): # mostra, no máximo, 5 linhas/matches para cada resultado\n",
    "            display(Markdown(f'- {j+1}:  ...  '+trechos[i][j]+'  ...'))\n",
    "        print('')\n",
    "        \n",
    "    if return_pos:\n",
    "        return pos"
   ]
  },
  {
   "cell_type": "code",
   "execution_count": 26,
   "metadata": {
    "ExecuteTime": {
     "end_time": "2019-12-09T13:05:08.103596Z",
     "start_time": "2019-12-09T13:05:07.920896Z"
    }
   },
   "outputs": [],
   "source": [
    "# criando um índice com o whoosh\n",
    "# schema = Schema(cont=TEXT(phrase=True, stored=True))\n",
    "# idx = create_whoosh_id(corpus['reviewText'], schema)  \n",
    "\n",
    "# se o índice já foi criado, executar a linha abaixo\n",
    "idx = index.open_dir(\"indexdir\")"
   ]
  },
  {
   "cell_type": "code",
   "execution_count": 31,
   "metadata": {
    "ExecuteTime": {
     "end_time": "2019-12-09T13:16:30.827214Z",
     "start_time": "2019-12-09T13:15:10.339381Z"
    },
    "scrolled": true
   },
   "outputs": [
    {
     "name": "stdout",
     "output_type": "stream",
     "text": [
      "Foram encontrados \u001b[1m10\u001b[0m resultados (Exibindo os \u001b[1m10\u001b[0m primeiros).\n",
      " \n",
      "\u001b[94m\u001b[4mResultado 1 (índice 1390828 do df):\u001b[0m\n"
     ]
    },
    {
     "data": {
      "text/markdown": [
       "- 1:  ...  <b class=\"match term0\">Works</b> well and it appears <b class=\"match term1\">really</b> sturdy.  quality of  ..."
      ],
      "text/plain": [
       "<IPython.core.display.Markdown object>"
      ]
     },
     "metadata": {},
     "output_type": "display_data"
    },
    {
     "data": {
      "text/markdown": [
       "- 2:  ...  the cable is <b class=\"match term1\">really</b> good.  <b class=\"match term0\">Works</b> well with the Samsung  ..."
      ],
      "text/plain": [
       "<IPython.core.display.Markdown object>"
      ]
     },
     "metadata": {},
     "output_type": "display_data"
    },
    {
     "name": "stdout",
     "output_type": "stream",
     "text": [
      "\n",
      "\u001b[94m\u001b[4mResultado 2 (índice 1608496 do df):\u001b[0m\n"
     ]
    },
    {
     "data": {
      "text/markdown": [
       "- 1:  ...  so this graphic card <b class=\"match term2\">works</b> perfect for me. Is <b class=\"match term1\">really</b> cheap and <b class=\"match term2\">works</b> <b class=\"match term1\">really</b> well in my new system  ..."
      ],
      "text/plain": [
       "<IPython.core.display.Markdown object>"
      ]
     },
     "metadata": {},
     "output_type": "display_data"
    },
    {
     "data": {
      "text/markdown": [
       "- 2:  ...  Blu-ray movies play <b class=\"match term1\">really</b> well with this card  ..."
      ],
      "text/plain": [
       "<IPython.core.display.Markdown object>"
      ]
     },
     "metadata": {},
     "output_type": "display_data"
    },
    {
     "name": "stdout",
     "output_type": "stream",
     "text": [
      "\n",
      "\u001b[94m\u001b[4mResultado 3 (índice 1168258 do df):\u001b[0m\n"
     ]
    },
    {
     "data": {
      "text/markdown": [
       "- 1:  ...  This thing <b class=\"match term2\">works</b> great, no wonder it  ..."
      ],
      "text/plain": [
       "<IPython.core.display.Markdown object>"
      ]
     },
     "metadata": {},
     "output_type": "display_data"
    },
    {
     "data": {
      "text/markdown": [
       "- 2:  ...  that comes with it <b class=\"match term2\">works</b> <b class=\"match term1\">really</b> good, and looks so  ..."
      ],
      "text/plain": [
       "<IPython.core.display.Markdown object>"
      ]
     },
     "metadata": {},
     "output_type": "display_data"
    },
    {
     "data": {
      "text/markdown": [
       "- 3:  ...  that you don't <b class=\"match term1\">really</b> see it until <b class=\"match term1\">really</b> <b class=\"match term1\">really</b> close up. Just buy  ..."
      ],
      "text/plain": [
       "<IPython.core.display.Markdown object>"
      ]
     },
     "metadata": {},
     "output_type": "display_data"
    },
    {
     "name": "stdout",
     "output_type": "stream",
     "text": [
      "\n",
      "\u001b[94m\u001b[4mResultado 4 (índice 1163589 do df):\u001b[0m\n"
     ]
    },
    {
     "data": {
      "text/markdown": [
       "- 1:  ...  This processor <b class=\"match term2\">works</b> <b class=\"match term1\">really</b> great for a project  ..."
      ],
      "text/plain": [
       "<IPython.core.display.Markdown object>"
      ]
     },
     "metadata": {},
     "output_type": "display_data"
    },
    {
     "data": {
      "text/markdown": [
       "- 2:  ...  on a low budget and <b class=\"match term2\">works</b> <b class=\"match term1\">really</b> good  ..."
      ],
      "text/plain": [
       "<IPython.core.display.Markdown object>"
      ]
     },
     "metadata": {},
     "output_type": "display_data"
    },
    {
     "name": "stdout",
     "output_type": "stream",
     "text": [
      "\n",
      "\u001b[94m\u001b[4mResultado 5 (índice 850504 do df):\u001b[0m\n"
     ]
    },
    {
     "data": {
      "text/markdown": [
       "- 1:  ...  <b class=\"match term0\">Works</b> <b class=\"match term1\">really</b> well to spead the  ..."
      ],
      "text/plain": [
       "<IPython.core.display.Markdown object>"
      ]
     },
     "metadata": {},
     "output_type": "display_data"
    },
    {
     "data": {
      "text/markdown": [
       "- 2:  ...  flash a bit more and <b class=\"match term2\">works</b> <b class=\"match term1\">really</b> well, is easy to put  ..."
      ],
      "text/plain": [
       "<IPython.core.display.Markdown object>"
      ]
     },
     "metadata": {},
     "output_type": "display_data"
    },
    {
     "name": "stdout",
     "output_type": "stream",
     "text": [
      "\n",
      "\u001b[94m\u001b[4mResultado 6 (índice 681402 do df):\u001b[0m\n"
     ]
    },
    {
     "data": {
      "text/markdown": [
       "- 1:  ...  <b class=\"match term0\">Works</b> only for still pics, video does not start or  ..."
      ],
      "text/plain": [
       "<IPython.core.display.Markdown object>"
      ]
     },
     "metadata": {},
     "output_type": "display_data"
    },
    {
     "data": {
      "text/markdown": [
       "- 2:  ...  the half touch focus <b class=\"match term1\">really</b> <b class=\"match term2\">works</b>, so self portraits  ..."
      ],
      "text/plain": [
       "<IPython.core.display.Markdown object>"
      ]
     },
     "metadata": {},
     "output_type": "display_data"
    },
    {
     "data": {
      "text/markdown": [
       "- 3:  ...  <b class=\"match term1\">really</b> <b class=\"match term1\">really</b> easy. max range i have  ..."
      ],
      "text/plain": [
       "<IPython.core.display.Markdown object>"
      ]
     },
     "metadata": {},
     "output_type": "display_data"
    },
    {
     "name": "stdout",
     "output_type": "stream",
     "text": [
      "\n",
      "\u001b[94m\u001b[4mResultado 7 (índice 1414510 do df):\u001b[0m\n"
     ]
    },
    {
     "data": {
      "text/markdown": [
       "- 1:  ...  screen protector <b class=\"match term2\">works</b> <b class=\"match term1\">really</b> well ive been told  ..."
      ],
      "text/plain": [
       "<IPython.core.display.Markdown object>"
      ]
     },
     "metadata": {},
     "output_type": "display_data"
    },
    {
     "data": {
      "text/markdown": [
       "- 2:  ...  that they are not <b class=\"match term1\">really</b> needed with the gorilla  ..."
      ],
      "text/plain": [
       "<IPython.core.display.Markdown object>"
      ]
     },
     "metadata": {},
     "output_type": "display_data"
    },
    {
     "data": {
      "text/markdown": [
       "- 3:  ...  be safe than sorry.  <b class=\"match term2\">works</b> great  ..."
      ],
      "text/plain": [
       "<IPython.core.display.Markdown object>"
      ]
     },
     "metadata": {},
     "output_type": "display_data"
    },
    {
     "name": "stdout",
     "output_type": "stream",
     "text": [
      "\n",
      "\u001b[94m\u001b[4mResultado 8 (índice 78097 do df):\u001b[0m\n"
     ]
    },
    {
     "data": {
      "text/markdown": [
       "- 1:  ...  It <b class=\"match term2\">works</b> fine. Not the best! If  ..."
      ],
      "text/plain": [
       "<IPython.core.display.Markdown object>"
      ]
     },
     "metadata": {},
     "output_type": "display_data"
    },
    {
     "data": {
      "text/markdown": [
       "- 2:  ...  your lens, yes, it <b class=\"match term2\">works</b> great for the there  ..."
      ],
      "text/plain": [
       "<IPython.core.display.Markdown object>"
      ]
     },
     "metadata": {},
     "output_type": "display_data"
    },
    {
     "data": {
      "text/markdown": [
       "- 3:  ...  If you looking for a <b class=\"match term1\">really</b> <b class=\"match term1\">really</b> nice polarized lens  ..."
      ],
      "text/plain": [
       "<IPython.core.display.Markdown object>"
      ]
     },
     "metadata": {},
     "output_type": "display_data"
    },
    {
     "name": "stdout",
     "output_type": "stream",
     "text": [
      "\n",
      "\u001b[94m\u001b[4mResultado 9 (índice 1023369 do df):\u001b[0m\n"
     ]
    },
    {
     "data": {
      "text/markdown": [
       "- 1:  ...  Item <b class=\"match term2\">works</b> good and for it's intended  ..."
      ],
      "text/plain": [
       "<IPython.core.display.Markdown object>"
      ]
     },
     "metadata": {},
     "output_type": "display_data"
    },
    {
     "data": {
      "text/markdown": [
       "- 2:  ...  for item. Nothing to <b class=\"match term1\">really</b> complain about. <b class=\"match term0\">Works</b> <b class=\"match term1\">really</b> good. So much easier  ..."
      ],
      "text/plain": [
       "<IPython.core.display.Markdown object>"
      ]
     },
     "metadata": {},
     "output_type": "display_data"
    },
    {
     "name": "stdout",
     "output_type": "stream",
     "text": [
      "\n",
      "\u001b[94m\u001b[4mResultado 10 (índice 1543699 do df):\u001b[0m\n"
     ]
    },
    {
     "data": {
      "text/markdown": [
       "- 1:  ...  <b class=\"match term0\">Works</b> perfectly and is <b class=\"match term1\">really</b>, <b class=\"match term1\">really</b>, <b class=\"match term1\">really</b> fast. If this is a typical  ..."
      ],
      "text/plain": [
       "<IPython.core.display.Markdown object>"
      ]
     },
     "metadata": {},
     "output_type": "display_data"
    },
    {
     "name": "stdout",
     "output_type": "stream",
     "text": [
      "\n"
     ]
    }
   ],
   "source": [
    "# exibe resultados do mais para o menos similar\n",
    "search('really works', corpus['reviewText'], index=idx, n_results=10)"
   ]
  },
  {
   "cell_type": "markdown",
   "metadata": {},
   "source": [
    "<br>\n",
    "\n",
    "## Modelagem de Assuntos\n",
    "1. Usando a biblioteca Gensim, treine um modelo LSI e LDA para o seu corpus propondo uma metodologia para otimizaçao do número de assuntos\n",
    "2. Construa uma matriz de similaridade entre os documentos do corpus a partir dos pesos \n",
    "\n",
    "<font color='blue'>**Links interessantes:**</font>\n",
    "\n",
    "> - **LSI (Latent Semantic Indexing) or LSA (Latent semantic analysis):** [Wikipedia](https://en.wikipedia.org/wiki/Latent_semantic_analysis)\n",
    "<br>\n",
    ">\n",
    "> - **LDA (Latent Dirichlet Allocation):** [Wikipedia](https://en.wikipedia.org/wiki/Latent_Dirichlet_allocation)\n",
    "\n",
    "<br>\n",
    "\n",
    "## item 1"
   ]
  },
  {
   "cell_type": "code",
   "execution_count": 5,
   "metadata": {
    "ExecuteTime": {
     "end_time": "2019-12-09T04:00:08.277741Z",
     "start_time": "2019-12-09T04:00:08.273207Z"
    }
   },
   "outputs": [],
   "source": [
    "import pickle\n",
    "\n",
    "# imports adicionais do gensim\n",
    "from gensim.utils import simple_preprocess\n",
    "from gensim import corpora, models, similarities\n",
    "from gensim.models import CoherenceModel, wrappers"
   ]
  },
  {
   "cell_type": "markdown",
   "metadata": {
    "ExecuteTime": {
     "end_time": "2019-11-30T17:06:33.059137Z",
     "start_time": "2019-11-30T17:06:33.054216Z"
    }
   },
   "source": [
    "### Pré-processamento do texto\n",
    "\n",
    "<font color='red'>**Obs:** verifiquei que os resultados ficaram melhores sem remover stopwords e sem \"stemizar\" o texto - ao fazer isso, apareciam algumas inconsistências como letras soltas e 'sony' se tornava 'son', que têm significados bem distintos </font>"
   ]
  },
  {
   "cell_type": "code",
   "execution_count": 6,
   "metadata": {
    "ExecuteTime": {
     "end_time": "2019-12-09T04:00:10.463144Z",
     "start_time": "2019-12-09T04:00:10.455633Z"
    }
   },
   "outputs": [],
   "source": [
    "def tokenize_and_remove_sw(text,sw,remove_sw=True, stemize=True):\n",
    "    '''\n",
    "    Tokeniza o texto e remove stopwords.\n",
    "    \n",
    "    Argumentos:\n",
    "        - text (string): texto.\n",
    "        - sw (list): lista de stopwords.\n",
    "        - remove_sw (bool): se True, remove stopwords.\n",
    "        - stemize (bool): se True, aplica stemmer ao texto.\n",
    "    '''\n",
    "    if remove_sw and stemize:\n",
    "        clean_text = [stemmer.stem(token.strip(punctuation).lower()) for token in \n",
    "                                                   WPT().tokenize(text) if token not in sw]\n",
    "    elif remove_sw:\n",
    "        clean_text = [token.strip(punctuation).lower() for token in \n",
    "                                                   WPT().tokenize(text) if token not in sw]\n",
    "    elif stemize:\n",
    "        clean_text = [stemmer.stem(token.strip(punctuation).lower()) for token in \n",
    "                                                   WPT().tokenize(text)]\n",
    "    else:\n",
    "        clean_text = [token.strip(punctuation).lower() for token in \n",
    "                                                   WPT().tokenize(text)]\n",
    "    return clean_text"
   ]
  },
  {
   "cell_type": "code",
   "execution_count": 7,
   "metadata": {
    "ExecuteTime": {
     "end_time": "2019-12-09T04:00:11.085448Z",
     "start_time": "2019-12-09T04:00:11.066877Z"
    }
   },
   "outputs": [],
   "source": [
    "def train_models(texts, min_count=1, model=None, n_topics=8):\n",
    "    counter = Counter([])\n",
    "    for text in texts:\n",
    "        counter.update(text)\n",
    "    # retorna mensagem de erro se nenhum modelo é especificado\n",
    "    if model == None:\n",
    "        return 'Error: Please pass value to model argument from [\"tf-idf\", \"lsi\", \"lda\"]'\n",
    "    \n",
    "    # lista de modelos a serem estimados\n",
    "    model = list(model)\n",
    "    \n",
    "    # mantém tokens que aparecem ao menos duas vezes\n",
    "    list_of_texts = [[token for token in text if counter[token] > min_count] \n",
    "                                                 for text in texts]  \n",
    "    # criando dicionário:\n",
    "    dic = corpora.Dictionary(list_of_texts)\n",
    "    dic.save('vocab.dict')\n",
    "    \n",
    "    # criando listas de frequências:\n",
    "    frequency_lists = [dic.doc2bow(token) for token in list_of_texts]\n",
    "    corpora.MmCorpus.serialize('frequency_list.mm', frequency_lists)\n",
    "    \n",
    "    res = []  # lista para armazenar os resultados\n",
    "    #tf-idf:\n",
    "    if sum(['idf' in s for s in model]) > 0:\n",
    "        tfidf = models.TfidfModel(frequency_lists)\n",
    "        tfidf.save('tfidf_model.mm')\n",
    "        corpus_tfidf = tfidf[frequency_lists]\n",
    "        res.extend([tfidf, corpus_tfidf])\n",
    "    \n",
    "    #LSI:\n",
    "    if sum(['lsi' in s for s in model]) > 0:\n",
    "        # checa se o tf-idf foi treinado\n",
    "        if len(res) == 0:\n",
    "            return 'Oops. To compute LSI models is necessary to include TF-IDF.'\n",
    "        mod_lsi = models.LsiModel(corpus_tfidf, id2word= dic, num_topics=n_topics)\n",
    "        mod_lsi.save('LSI_model.mm')\n",
    "        corpus_lsi = mod_lsi[corpus_tfidf] # alimento com \n",
    "        res.extend([mod_lsi, corpus_lsi])\n",
    "        \n",
    "    #LDA:\n",
    "    if sum(['lda' in s for s in model]) > 0:\n",
    "        mod_lda = models.LdaModel(frequency_lists, id2word= dic, num_topics=n_topics)\n",
    "        mod_lda.save('LDA_model.mm')\n",
    "        corpus_lda = mod_lda[frequency_lists] \n",
    "        res.extend([mod_lda, corpus_lda])\n",
    "\n",
    "    return tuple(res)\n",
    "\n",
    "\n",
    "\n",
    "def compute_lda_metrics(lda_model, min_count= 1,texts=None):  \n",
    "    counter = Counter([])\n",
    "    for text in texts:\n",
    "        counter.update(text)\n",
    "\n",
    "    # mantém apenas tokens que aparecem ao menos duas vezes\n",
    "    list_of_texts = [[token for token in text if counter[token] > min_count] \n",
    "                                                 for text in texts]\n",
    "    # criando dicionário:\n",
    "    dic = corpora.Dictionary(list_of_texts)\n",
    "    \n",
    "    # criando listas de frequências:\n",
    "    frequency_lists = [dic.doc2bow(token) for token in list_of_texts]\n",
    "    \n",
    "    # Compute Perplexity\n",
    "    perplexity = lda_model.log_perplexity(frequency_lists)\n",
    "    \n",
    "    # Compute Coherence Score\n",
    "    coherence_model_lda = CoherenceModel(model=lda_model, texts= list_of_texts, coherence='c_v')\n",
    "    coherence_lda = coherence_model_lda.get_coherence()\n",
    "    \n",
    "    return (perplexity, coherence_lda)"
   ]
  },
  {
   "cell_type": "markdown",
   "metadata": {},
   "source": [
    "### stemizando e removendo stopwords\n",
    "\n",
    "<font color='red'>**OBS:** optei por não stem-izar o texto para não perder muito em precisão</font>"
   ]
  },
  {
   "cell_type": "code",
   "execution_count": 8,
   "metadata": {
    "ExecuteTime": {
     "end_time": "2019-12-09T04:02:20.110984Z",
     "start_time": "2019-12-09T04:00:23.160090Z"
    }
   },
   "outputs": [],
   "source": [
    "n = corpus.shape[0]  # número de obs\n",
    "corpus['tokenized_reviews'] = corpus['reviewText'].iloc[:n].apply(lambda x:\n",
    "                            tokenize_and_remove_sw(x, swu, stemize=False, remove_sw=True))"
   ]
  },
  {
   "cell_type": "markdown",
   "metadata": {},
   "source": [
    "### Selecionando o número de tópicos\n",
    "\n",
    "Agora, vamos treinar o modelo **LDA** para diferentes números de tópicos e selecionar a quantidade que maximiza o score de coerência."
   ]
  },
  {
   "cell_type": "code",
   "execution_count": 9,
   "metadata": {
    "ExecuteTime": {
     "end_time": "2019-12-09T11:32:54.538922Z",
     "start_time": "2019-12-09T04:02:20.733663Z"
    },
    "collapsed": true
   },
   "outputs": [
    {
     "name": "stderr",
     "output_type": "stream",
     "text": [
      " 76%|███████▌  | 38/50 [7:23:13<3:17:05, 985.47s/it]"
     ]
    },
    {
     "ename": "KeyboardInterrupt",
     "evalue": "",
     "output_type": "error",
     "traceback": [
      "\u001b[0;31m---------------------------------------------------------------------------\u001b[0m",
      "\u001b[0;31mKeyboardInterrupt\u001b[0m                         Traceback (most recent call last)",
      "\u001b[0;32m<ipython-input-9-5fa8c918705a>\u001b[0m in \u001b[0;36m<module>\u001b[0;34m\u001b[0m\n\u001b[1;32m      9\u001b[0m                                                         model=['lda'], n_topics=k)\n\u001b[1;32m     10\u001b[0m \u001b[0;34m\u001b[0m\u001b[0m\n\u001b[0;32m---> 11\u001b[0;31m     \u001b[0mmetrics\u001b[0m \u001b[0;34m=\u001b[0m \u001b[0mcompute_lda_metrics\u001b[0m\u001b[0;34m(\u001b[0m\u001b[0mlda_model\u001b[0m\u001b[0;34m,\u001b[0m \u001b[0mtexts\u001b[0m\u001b[0;34m=\u001b[0m\u001b[0mcorpus\u001b[0m\u001b[0;34m[\u001b[0m\u001b[0;34m'tokenized_reviews'\u001b[0m\u001b[0;34m]\u001b[0m\u001b[0;34m.\u001b[0m\u001b[0miloc\u001b[0m\u001b[0;34m[\u001b[0m\u001b[0;34m:\u001b[0m\u001b[0mn\u001b[0m\u001b[0;34m]\u001b[0m\u001b[0;34m)\u001b[0m\u001b[0;34m\u001b[0m\u001b[0;34m\u001b[0m\u001b[0m\n\u001b[0m\u001b[1;32m     12\u001b[0m     \u001b[0mperplexity\u001b[0m\u001b[0;34m.\u001b[0m\u001b[0mappend\u001b[0m\u001b[0;34m(\u001b[0m\u001b[0mmetrics\u001b[0m\u001b[0;34m[\u001b[0m\u001b[0;36m0\u001b[0m\u001b[0;34m]\u001b[0m\u001b[0;34m)\u001b[0m\u001b[0;34m\u001b[0m\u001b[0;34m\u001b[0m\u001b[0m\n\u001b[1;32m     13\u001b[0m     \u001b[0mcoherence\u001b[0m\u001b[0;34m.\u001b[0m\u001b[0mappend\u001b[0m\u001b[0;34m(\u001b[0m\u001b[0mmetrics\u001b[0m\u001b[0;34m[\u001b[0m\u001b[0;36m1\u001b[0m\u001b[0;34m]\u001b[0m\u001b[0;34m)\u001b[0m\u001b[0;34m\u001b[0m\u001b[0;34m\u001b[0m\u001b[0m\n",
      "\u001b[0;32m<ipython-input-7-c415a9f11590>\u001b[0m in \u001b[0;36mcompute_lda_metrics\u001b[0;34m(lda_model, min_count, texts)\u001b[0m\n\u001b[1;32m     65\u001b[0m \u001b[0;34m\u001b[0m\u001b[0m\n\u001b[1;32m     66\u001b[0m     \u001b[0;31m# Compute Perplexity\u001b[0m\u001b[0;34m\u001b[0m\u001b[0;34m\u001b[0m\u001b[0;34m\u001b[0m\u001b[0m\n\u001b[0;32m---> 67\u001b[0;31m     \u001b[0mperplexity\u001b[0m \u001b[0;34m=\u001b[0m \u001b[0mlda_model\u001b[0m\u001b[0;34m.\u001b[0m\u001b[0mlog_perplexity\u001b[0m\u001b[0;34m(\u001b[0m\u001b[0mfrequency_lists\u001b[0m\u001b[0;34m)\u001b[0m\u001b[0;34m\u001b[0m\u001b[0;34m\u001b[0m\u001b[0m\n\u001b[0m\u001b[1;32m     68\u001b[0m \u001b[0;34m\u001b[0m\u001b[0m\n\u001b[1;32m     69\u001b[0m     \u001b[0;31m# Compute Coherence Score\u001b[0m\u001b[0;34m\u001b[0m\u001b[0;34m\u001b[0m\u001b[0;34m\u001b[0m\u001b[0m\n",
      "\u001b[0;32m~/anaconda3/lib/python3.7/site-packages/gensim/models/ldamodel.py\u001b[0m in \u001b[0;36mlog_perplexity\u001b[0;34m(self, chunk, total_docs)\u001b[0m\n\u001b[1;32m    819\u001b[0m         \u001b[0mcorpus_words\u001b[0m \u001b[0;34m=\u001b[0m \u001b[0msum\u001b[0m\u001b[0;34m(\u001b[0m\u001b[0mcnt\u001b[0m \u001b[0;32mfor\u001b[0m \u001b[0mdocument\u001b[0m \u001b[0;32min\u001b[0m \u001b[0mchunk\u001b[0m \u001b[0;32mfor\u001b[0m \u001b[0m_\u001b[0m\u001b[0;34m,\u001b[0m \u001b[0mcnt\u001b[0m \u001b[0;32min\u001b[0m \u001b[0mdocument\u001b[0m\u001b[0;34m)\u001b[0m\u001b[0;34m\u001b[0m\u001b[0;34m\u001b[0m\u001b[0m\n\u001b[1;32m    820\u001b[0m         \u001b[0msubsample_ratio\u001b[0m \u001b[0;34m=\u001b[0m \u001b[0;36m1.0\u001b[0m \u001b[0;34m*\u001b[0m \u001b[0mtotal_docs\u001b[0m \u001b[0;34m/\u001b[0m \u001b[0mlen\u001b[0m\u001b[0;34m(\u001b[0m\u001b[0mchunk\u001b[0m\u001b[0;34m)\u001b[0m\u001b[0;34m\u001b[0m\u001b[0;34m\u001b[0m\u001b[0m\n\u001b[0;32m--> 821\u001b[0;31m         \u001b[0mperwordbound\u001b[0m \u001b[0;34m=\u001b[0m \u001b[0mself\u001b[0m\u001b[0;34m.\u001b[0m\u001b[0mbound\u001b[0m\u001b[0;34m(\u001b[0m\u001b[0mchunk\u001b[0m\u001b[0;34m,\u001b[0m \u001b[0msubsample_ratio\u001b[0m\u001b[0;34m=\u001b[0m\u001b[0msubsample_ratio\u001b[0m\u001b[0;34m)\u001b[0m \u001b[0;34m/\u001b[0m \u001b[0;34m(\u001b[0m\u001b[0msubsample_ratio\u001b[0m \u001b[0;34m*\u001b[0m \u001b[0mcorpus_words\u001b[0m\u001b[0;34m)\u001b[0m\u001b[0;34m\u001b[0m\u001b[0;34m\u001b[0m\u001b[0m\n\u001b[0m\u001b[1;32m    822\u001b[0m         logger.info(\n\u001b[1;32m    823\u001b[0m             \u001b[0;34m\"%.3f per-word bound, %.1f perplexity estimate based on a held-out corpus of %i documents with %i words\"\u001b[0m\u001b[0;34m,\u001b[0m\u001b[0;34m\u001b[0m\u001b[0;34m\u001b[0m\u001b[0m\n",
      "\u001b[0;32m~/anaconda3/lib/python3.7/site-packages/gensim/models/ldamodel.py\u001b[0m in \u001b[0;36mbound\u001b[0;34m(self, corpus, gamma, subsample_ratio)\u001b[0m\n\u001b[1;32m   1088\u001b[0m             \u001b[0;32melse\u001b[0m\u001b[0;34m:\u001b[0m\u001b[0;34m\u001b[0m\u001b[0;34m\u001b[0m\u001b[0m\n\u001b[1;32m   1089\u001b[0m                 \u001b[0mgammad\u001b[0m \u001b[0;34m=\u001b[0m \u001b[0mgamma\u001b[0m\u001b[0;34m[\u001b[0m\u001b[0md\u001b[0m\u001b[0;34m]\u001b[0m\u001b[0;34m\u001b[0m\u001b[0;34m\u001b[0m\u001b[0m\n\u001b[0;32m-> 1090\u001b[0;31m             \u001b[0mElogthetad\u001b[0m \u001b[0;34m=\u001b[0m \u001b[0mdirichlet_expectation\u001b[0m\u001b[0;34m(\u001b[0m\u001b[0mgammad\u001b[0m\u001b[0;34m)\u001b[0m\u001b[0;34m\u001b[0m\u001b[0;34m\u001b[0m\u001b[0m\n\u001b[0m\u001b[1;32m   1091\u001b[0m \u001b[0;34m\u001b[0m\u001b[0m\n\u001b[1;32m   1092\u001b[0m             \u001b[0;32massert\u001b[0m \u001b[0mgammad\u001b[0m\u001b[0;34m.\u001b[0m\u001b[0mdtype\u001b[0m \u001b[0;34m==\u001b[0m \u001b[0mself\u001b[0m\u001b[0;34m.\u001b[0m\u001b[0mdtype\u001b[0m\u001b[0;34m\u001b[0m\u001b[0;34m\u001b[0m\u001b[0m\n",
      "\u001b[0;31mKeyboardInterrupt\u001b[0m: "
     ]
    }
   ],
   "source": [
    "perplexity = []\n",
    "coherence = []\n",
    "num_topics = []\n",
    "\n",
    "n = 200000  # número de observações p/ analisar qtde ótima de tópicos (tamanho da subamostra)\n",
    "for k in tqdm(range(1,41)):\n",
    "    # treinando os modelos\n",
    "    lda_model, lda = train_models(corpus['tokenized_reviews'].iloc[:n], \n",
    "                                                        model=['lda'], n_topics=k)\n",
    "    \n",
    "    metrics = compute_lda_metrics(lda_model, texts=corpus['tokenized_reviews'].iloc[:n])\n",
    "    perplexity.append(metrics[0])\n",
    "    coherence.append(metrics[1])\n",
    "    num_topics.append(k)"
   ]
  },
  {
   "cell_type": "markdown",
   "metadata": {},
   "source": [
    "<br>\n",
    "\n",
    "Não rodar a célula abaixo"
   ]
  },
  {
   "cell_type": "code",
   "execution_count": 12,
   "metadata": {
    "ExecuteTime": {
     "end_time": "2019-12-09T00:52:06.896858Z",
     "start_time": "2019-12-08T21:26:28.111416Z"
    }
   },
   "outputs": [
    {
     "name": "stderr",
     "output_type": "stream",
     "text": [
      "100%|██████████| 20/20 [3:25:38<00:00, 616.94s/it]  \n"
     ]
    }
   ],
   "source": [
    "perplexity = []\n",
    "coherence = []\n",
    "num_topics = []\n",
    "\n",
    "n = 200000  # número de observações p/ analisar qtde ótima de tópicos (tamanho da subamostra)\n",
    "for k in tqdm(range(1,21)):\n",
    "    # treinando os modelos\n",
    "    lda_model, lda = train_models(corpus['tokenized_reviews'].iloc[:n], \n",
    "                                                        model=['lda'], n_topics=k)\n",
    "    \n",
    "    metrics = compute_lda_metrics(lda_model, texts=corpus['tokenized_reviews'].iloc[:n])\n",
    "    perplexity.append(metrics[0])\n",
    "    coherence.append(metrics[1])\n",
    "    num_topics.append(k)"
   ]
  },
  {
   "cell_type": "code",
   "execution_count": 14,
   "metadata": {
    "ExecuteTime": {
     "end_time": "2019-12-09T11:36:57.389931Z",
     "start_time": "2019-12-09T11:36:57.374058Z"
    }
   },
   "outputs": [],
   "source": [
    "# salvando objetos em um pickle\n",
    "# with open('./coherence_lda.pickle', 'wb') as f:\n",
    "#     pickle.dump(coherence, f)\n",
    "# with open('./ṕerplexity_lda.pickle', 'wb') as f:\n",
    "#     pickle.dump(perplexity, f)\n",
    "\n",
    "# lendo arquivos salvos em pickle\n",
    "# with open('./coherence.pickle','rb') as f:\n",
    "#     coherence = pickle.load(f)\n",
    "\n",
    "# with open('./ṕerplexity.pickle','rb') as f:\n",
    "#     perplexity = pickle.load(f)\n",
    "\n",
    "# num_topics = list(range(1,21))"
   ]
  },
  {
   "cell_type": "markdown",
   "metadata": {},
   "source": [
    "<br>\n",
    "\n",
    "#### Gráfico: perplexidade e escore de coerência\n",
    "\n",
    "Modelo LDA com 200 mil reviews"
   ]
  },
  {
   "cell_type": "code",
   "execution_count": 10,
   "metadata": {
    "ExecuteTime": {
     "end_time": "2019-12-09T11:33:02.646865Z",
     "start_time": "2019-12-09T11:33:00.586567Z"
    }
   },
   "outputs": [
    {
     "data": {
      "image/png": "[encoded data removed]",
      "text/plain": [
       "<Figure size 1080x360 with 2 Axes>"
      ]
     },
     "metadata": {},
     "output_type": "display_data"
    }
   ],
   "source": [
    "sns.set()\n",
    "fig, ax = plt.subplots(ncols=2, figsize=(15,5));\n",
    "\n",
    "ax[0].plot(num_topics, perplexity, color='firebrick');\n",
    "ax[1].plot(num_topics, coherence, color='teal');\n",
    "\n",
    "ax[0].set_xlabel('Número de Tópicos');\n",
    "ax[1].set_xlabel('Número de Tópicos');\n",
    "\n",
    "ax[0].set_title('Perplexidade');\n",
    "ax[1].set_title('Escore de Coerência');"
   ]
  },
  {
   "cell_type": "markdown",
   "metadata": {},
   "source": [
    "LDA anterior (com tf-idf)"
   ]
  },
  {
   "cell_type": "code",
   "execution_count": 13,
   "metadata": {
    "ExecuteTime": {
     "end_time": "2019-12-09T00:53:05.752676Z",
     "start_time": "2019-12-09T00:53:04.685408Z"
    }
   },
   "outputs": [
    {
     "data": {
      "image/png": "[encoded data removed]",
      "text/plain": [
       "<Figure size 1080x360 with 2 Axes>"
      ]
     },
     "metadata": {},
     "output_type": "display_data"
    }
   ],
   "source": [
    "sns.set()\n",
    "fig, ax = plt.subplots(ncols=2, figsize=(15,5));\n",
    "\n",
    "ax[0].plot(num_topics, perplexity, color='firebrick');\n",
    "ax[1].plot(num_topics, coherence, color='teal');\n",
    "\n",
    "ax[0].set_xlabel('Número de Tópicos');\n",
    "ax[1].set_xlabel('Número de Tópicos');\n",
    "\n",
    "ax[0].set_title('Perplexidade');\n",
    "ax[1].set_title('Escore de Coerência');"
   ]
  },
  {
   "cell_type": "code",
   "execution_count": 12,
   "metadata": {
    "ExecuteTime": {
     "end_time": "2019-12-09T11:34:05.366138Z",
     "start_time": "2019-12-09T11:34:05.360334Z"
    }
   },
   "outputs": [
    {
     "data": {
      "text/plain": [
       "[(23, 0.4527062104047758),\n",
       " (31, 0.4526373697864123),\n",
       " (25, 0.45258632924255204),\n",
       " (21, 0.45111412589600974),\n",
       " (22, 0.44629280228803486),\n",
       " (17, 0.4454373980236002),\n",
       " (34, 0.4437034525007237),\n",
       " (37, 0.44176435723933843),\n",
       " (33, 0.44110337094257235),\n",
       " (19, 0.43839501761541655)]"
      ]
     },
     "execution_count": 12,
     "metadata": {},
     "output_type": "execute_result"
    }
   ],
   "source": [
    "# encontrando o número de tópicos que maximiza o escore de coerência\n",
    "sorted(tuple(zip(num_topics,coherence)), key=lambda tup:tup[1], reverse=True)[:10]"
   ]
  },
  {
   "cell_type": "markdown",
   "metadata": {},
   "source": [
    "Analisando os gráficos acima, temos que a quantidade de tópicos que maximiza o escore de coerência e minimiza a métrica de perplexidade é $9$. Agora, vamos computar os modelos para essa quantidade de tópicos."
   ]
  },
  {
   "cell_type": "code",
   "execution_count": 15,
   "metadata": {
    "ExecuteTime": {
     "end_time": "2019-12-09T11:44:16.931215Z",
     "start_time": "2019-12-09T11:38:59.497499Z"
    }
   },
   "outputs": [],
   "source": [
    "# treinando os três modelos\n",
    "tfidf_model, tfidf, lsi_model, lsi, lda_model, lda = train_models(corpus['tokenized_reviews'].iloc[:n], \n",
    "                                                            model=['tf-idf', 'lsi', 'lda'], n_topics=23)"
   ]
  },
  {
   "cell_type": "markdown",
   "metadata": {},
   "source": [
    "<font color='red'>**OBS:** Se os modelos já foram treinados, basta executar as duas próximas células para carregá-los. </font>"
   ]
  },
  {
   "cell_type": "code",
   "execution_count": 79,
   "metadata": {
    "ExecuteTime": {
     "end_time": "2019-12-09T17:04:37.635784Z",
     "start_time": "2019-12-09T17:04:37.587991Z"
    }
   },
   "outputs": [
    {
     "name": "stdout",
     "output_type": "stream",
     "text": [
      "; 000; 13; 15; 23; 30; 5; 53; 6; 700; 71; 75; 80; across; address; advised; after; almost; another; area; attempt; available; az; back; blocks; bought; box; card; cards; cell; chain; chance; charging; cheap; check; checks; cincinnati; city; completely; connect; could; country; couple; cross; decided; detected; devices; drive; driver; easier; easy; especially; every; exciting; figure; finally; first; freeway; friend; get; getting; give; google; got; gotten; gps; happened; hasn; head; height; hello; highways; home; hop; hoping; however; i; if; indeed; install; intersection; laptop; length; life; listening; live; lost; make; mcnally; might; miles; minute; minutes; money; months; multiple; my; need; needed; next; no; north; now; oh; otr; parked; passed; patch; phoenix; phone; pick; pickup; po; posted; preferred; print; printer; problem; professional; program; programmed; purchased; ran; rand; refused; residential; returned; rig; route; routed; said; sd; send; sent; set; several; short; side; since; six; software; sold; south; spent; sprint; stop; stops; street; streets; surface; take; the; thing; think; thru; time; times; tnd; told; took; trip; trips; truck; trucks; turn; turned; unusual; update; updated; very; via; wanted; weekly; weight; west; yet; 34; 52; described; excellent; hd; it; nook; picture; samsung; tv; using; works; 25ft; 3d; adapter; appears; around; bad; bottom; cable; cables; cannot; connected; connection; "
     ]
    }
   ],
   "source": [
    "# dicionário de palavras do corpus\n",
    "for i in range(200):\n",
    "    print(dic[i], end='; ')"
   ]
  },
  {
   "cell_type": "code",
   "execution_count": 59,
   "metadata": {
    "ExecuteTime": {
     "end_time": "2019-12-09T17:01:12.406372Z",
     "start_time": "2019-12-09T17:01:11.870566Z"
    }
   },
   "outputs": [],
   "source": [
    "# ### carregando corpus no formato de listas de frequências\n",
    "dic = corpora.Dictionary.load('vocab.dict')\n",
    "# frequency_lists = corpora.MmCorpus('frequency_list.mm')\n",
    "\n",
    "# ### carregando os três modelos\n",
    "# # TF-IDF\n",
    "# tfidf_model = models.tfidfmodel.TfidfModel.load('tfidf_model.mm')\n",
    "# tfidf = tfidf_model[frequency_lists]\n",
    "\n",
    "# # LSI\n",
    "# lsi_model = models.LsiModel.load('LSI_model.mm')\n",
    "# lsi = lsi_model[tfidf]\n",
    "\n",
    "# # LDA\n",
    "# lda_model = models.LdaModel.load('LDA_model.mm')\n",
    "# lda = lda_model[tfidf]"
   ]
  },
  {
   "cell_type": "markdown",
   "metadata": {},
   "source": [
    "#### TF-IDF\n",
    "\n",
    "Abaixo, temos um exemplo de tf-idf para o primeiro *review* do corpus. (id_termo, frequência)"
   ]
  },
  {
   "cell_type": "code",
   "execution_count": 54,
   "metadata": {
    "ExecuteTime": {
     "end_time": "2019-12-09T16:54:40.235673Z",
     "start_time": "2019-12-09T16:54:40.230704Z"
    }
   },
   "outputs": [
    {
     "data": {
      "text/plain": [
       "'turn'"
      ]
     },
     "execution_count": 54,
     "metadata": {},
     "output_type": "execute_result"
    }
   ],
   "source": [
    "# palavra\n",
    "corpus['tokenized_reviews'].iloc[0][156]"
   ]
  },
  {
   "cell_type": "markdown",
   "metadata": {},
   "source": [
    "Importância das palavras pelo TF-IDF"
   ]
  },
  {
   "cell_type": "code",
   "execution_count": 53,
   "metadata": {
    "ExecuteTime": {
     "end_time": "2019-12-09T16:54:34.025766Z",
     "start_time": "2019-12-09T16:54:34.016087Z"
    }
   },
   "outputs": [
    {
     "data": {
      "text/plain": [
       "[(157, 0.49261299650083645),\n",
       " (162, 0.35297960471254014),\n",
       " (9, 0.2577533103927648),\n",
       " (111, 0.23227069734536668),\n",
       " (128, 0.17972528091352707),\n",
       " (36, 0.16374069637406202),\n",
       " (10, 0.14414160985069352),\n",
       " (11, 0.13630603804715644),\n",
       " (57, 0.12573218793044033),\n",
       " (148, 0.11277674263477334)]"
      ]
     },
     "execution_count": 53,
     "metadata": {},
     "output_type": "execute_result"
    }
   ],
   "source": [
    "# exemplo: tf-idf para o primeiro texto\n",
    "sorted(tfidf[0], key=lambda tupla: tupla[1],reverse=True)[:10]"
   ]
  },
  {
   "cell_type": "markdown",
   "metadata": {},
   "source": [
    "#### LSI"
   ]
  },
  {
   "cell_type": "code",
   "execution_count": 55,
   "metadata": {
    "ExecuteTime": {
     "end_time": "2019-12-09T16:56:13.172172Z",
     "start_time": "2019-12-09T16:56:13.158351Z"
    }
   },
   "outputs": [
    {
     "data": {
      "text/plain": [
       "[(0, 0.1280967117434524),\n",
       " (4, 0.0499527107839919),\n",
       " (5, 0.02607153340621488),\n",
       " (3, 0.01490118326622253),\n",
       " (9, 0.011347499800449095),\n",
       " (14, 0.00792282145769382),\n",
       " (10, 0.007109918698776047),\n",
       " (18, 0.007084522304300146),\n",
       " (1, 0.006709047811765355),\n",
       " (7, 0.005252366558068911)]"
      ]
     },
     "execution_count": 55,
     "metadata": {},
     "output_type": "execute_result"
    }
   ],
   "source": [
    "sorted(lsi[0], key=lambda tupla:tupla[1], reverse=True)[:10]"
   ]
  },
  {
   "cell_type": "code",
   "execution_count": 16,
   "metadata": {
    "ExecuteTime": {
     "end_time": "2019-12-09T11:44:17.539059Z",
     "start_time": "2019-12-09T11:44:17.520106Z"
    }
   },
   "outputs": [
    {
     "data": {
      "text/plain": [
       "[(0,\n",
       "  '0.175*\"\" + 0.172*\"i\" + 0.131*\"the\" + 0.128*\"great\" + 0.123*\"it\" + 0.121*\"camera\"'),\n",
       " (1,\n",
       "  '-0.512*\"camera\" + -0.426*\"lens\" + 0.244*\"cable\" + 0.168*\"tv\" + -0.158*\"canon\" + 0.157*\"sound\"'),\n",
       " (2,\n",
       "  '0.367*\"sound\" + -0.302*\"drive\" + 0.237*\"headphones\" + -0.231*\"mouse\" + 0.205*\"speakers\" + -0.191*\"usb\"'),\n",
       " (3,\n",
       "  '-0.527*\"cable\" + 0.347*\"mouse\" + -0.226*\"tv\" + -0.225*\"hdmi\" + -0.196*\"cables\" + 0.192*\"keyboard\"'),\n",
       " (4,\n",
       "  '-0.471*\"mouse\" + 0.389*\"drive\" + -0.232*\"cable\" + -0.205*\"keyboard\" + 0.185*\"card\" + -0.182*\"works\"')]"
      ]
     },
     "execution_count": 16,
     "metadata": {},
     "output_type": "execute_result"
    }
   ],
   "source": [
    "lsi_model.print_topics(num_topics=5, num_words=6)"
   ]
  },
  {
   "cell_type": "markdown",
   "metadata": {},
   "source": [
    "O tópico 1 parece estar associado à equipamentos de fotografia, pois aparecem as palavras **camera**, **lens**, **cable**, **canon**.\n",
    "\n",
    "Já os tópico 2, parece estar associado à periféricos de informática, pois aparecem as palavras **headphones**, **sound**, **drive**, **speakers** e **usb**."
   ]
  },
  {
   "cell_type": "markdown",
   "metadata": {},
   "source": [
    "#### LDA"
   ]
  },
  {
   "cell_type": "code",
   "execution_count": 17,
   "metadata": {
    "ExecuteTime": {
     "end_time": "2019-12-09T11:44:18.204973Z",
     "start_time": "2019-12-09T11:44:18.198613Z"
    }
   },
   "outputs": [
    {
     "data": {
      "text/plain": [
       "[(0, 0.06560628),\n",
       " (3, 0.48942292),\n",
       " (5, 0.013592613),\n",
       " (9, 0.039661914),\n",
       " (10, 0.11001743),\n",
       " (13, 0.02577081),\n",
       " (14, 0.082419224),\n",
       " (17, 0.035566118),\n",
       " (20, 0.084680855),\n",
       " (22, 0.038219564)]"
      ]
     },
     "execution_count": 17,
     "metadata": {},
     "output_type": "execute_result"
    }
   ],
   "source": [
    "lda[0]"
   ]
  },
  {
   "cell_type": "code",
   "execution_count": 57,
   "metadata": {
    "ExecuteTime": {
     "end_time": "2019-12-09T16:57:14.389214Z",
     "start_time": "2019-12-09T16:57:14.375876Z"
    }
   },
   "outputs": [
    {
     "data": {
      "text/plain": [
       "[(11,\n",
       "  '0.126*\"\" + 0.056*\"34\" + 0.018*\"mount\" + 0.015*\"the\" + 0.013*\"easy\" + 0.012*\"install\" + 0.011*\"sata\" + 0.011*\"it\"'),\n",
       " (16,\n",
       "  '0.114*\"camera\" + 0.043*\"i\" + 0.023*\"video\" + 0.020*\"pictures\" + 0.018*\"cameras\" + 0.014*\"the\" + 0.013*\"photos\" + 0.012*\"canon\"'),\n",
       " (19,\n",
       "  '0.042*\"i\" + 0.036*\"sound\" + 0.031*\"speakers\" + 0.031*\"player\" + 0.019*\"speaker\" + 0.018*\"system\" + 0.015*\"\" + 0.014*\"music\"'),\n",
       " (3,\n",
       "  '0.126*\"i\" + 0.020*\"\" + 0.019*\"one\" + 0.008*\"would\" + 0.008*\"get\" + 0.008*\"amazon\" + 0.008*\"time\" + 0.008*\"got\"'),\n",
       " (18,\n",
       "  '0.081*\"i\" + 0.045*\"great\" + 0.038*\"price\" + 0.032*\"good\" + 0.025*\"works\" + 0.022*\"product\" + 0.022*\"quality\" + 0.019*\"well\"'),\n",
       " (13,\n",
       "  '0.084*\"battery\" + 0.037*\"charge\" + 0.034*\"batteries\" + 0.030*\"charger\" + 0.025*\"kindle\" + 0.019*\"life\" + 0.016*\"i\" + 0.016*\"the\"'),\n",
       " (20,\n",
       "  '0.028*\"fan\" + 0.017*\"ray\" + 0.016*\"blu\" + 0.013*\"front\" + 0.011*\"i\" + 0.011*\"cpu\" + 0.010*\"the\" + 0.010*\"air\"'),\n",
       " (5,\n",
       "  '0.051*\"sound\" + 0.031*\"i\" + 0.028*\"headphones\" + 0.020*\"ear\" + 0.020*\"the\" + 0.018*\"bass\" + 0.017*\"\" + 0.016*\"good\"')]"
      ]
     },
     "execution_count": 57,
     "metadata": {},
     "output_type": "execute_result"
    }
   ],
   "source": [
    "lda_model.print_topics(num_topics=8, num_words=8)"
   ]
  },
  {
   "cell_type": "markdown",
   "metadata": {},
   "source": [
    "O tópico 19 parece estar associado a aparelhos de som, pois aparecem as palavras **sound**, **speakers**, **system**, **music**.\n",
    "\n",
    "O tópico 3 parece estar associado a reviews positivos, pois aparecem as palavras **get**, **time**, **amazon**."
   ]
  },
  {
   "cell_type": "markdown",
   "metadata": {},
   "source": [
    "## item 2\n",
    "\n",
    "### Construindo matriz de similaridades."
   ]
  },
  {
   "cell_type": "code",
   "execution_count": 20,
   "metadata": {
    "ExecuteTime": {
     "end_time": "2019-12-09T12:39:44.071739Z",
     "start_time": "2019-12-09T12:39:44.063064Z"
    }
   },
   "outputs": [],
   "source": [
    "def create_similarity_matrix(model, n=10):\n",
    "    '''\n",
    "    Cria matriz de similaridade.\n",
    "    \n",
    "    Argumentos:\n",
    "        - model (gensim model obj.): um dos três modelos (tf-idf, LSI ou LDA)\n",
    "        - n (int): # de documentos para calcular as similaridades (dimensão da matriz)\n",
    "    '''\n",
    "    head = corpus.iloc[:n,].index  # estou usando índice do dataframe para identificação\n",
    "    source = [elem[:n] for elem in list(similarities.MatrixSimilarity(model))][:n]\n",
    "\n",
    "    similarity_matrix = pd.DataFrame(source, index= head.values, columns= head)\n",
    "    return similarity_matrix"
   ]
  },
  {
   "cell_type": "code",
   "execution_count": 58,
   "metadata": {
    "ExecuteTime": {
     "end_time": "2019-12-09T17:00:22.911035Z",
     "start_time": "2019-12-09T16:59:25.170486Z"
    },
    "collapsed": true
   },
   "outputs": [
    {
     "ename": "MemoryError",
     "evalue": "Unable to allocate array with shape (200000, 62382) and data type float32",
     "output_type": "error",
     "traceback": [
      "\u001b[0;31m---------------------------------------------------------------------------\u001b[0m",
      "\u001b[0;31mMemoryError\u001b[0m                               Traceback (most recent call last)",
      "\u001b[0;32m<ipython-input-58-68eaf5cae837>\u001b[0m in \u001b[0;36m<module>\u001b[0;34m\u001b[0m\n\u001b[0;32m----> 1\u001b[0;31m \u001b[0mcreate_similarity_matrix\u001b[0m\u001b[0;34m(\u001b[0m\u001b[0mtfidf\u001b[0m\u001b[0;34m,\u001b[0m \u001b[0;36m10\u001b[0m\u001b[0;34m)\u001b[0m\u001b[0;34m\u001b[0m\u001b[0;34m\u001b[0m\u001b[0m\n\u001b[0m",
      "\u001b[0;32m<ipython-input-20-a5588a58b9bd>\u001b[0m in \u001b[0;36mcreate_similarity_matrix\u001b[0;34m(model, n)\u001b[0m\n\u001b[1;32m      8\u001b[0m     '''\n\u001b[1;32m      9\u001b[0m     \u001b[0mhead\u001b[0m \u001b[0;34m=\u001b[0m \u001b[0mcorpus\u001b[0m\u001b[0;34m.\u001b[0m\u001b[0miloc\u001b[0m\u001b[0;34m[\u001b[0m\u001b[0;34m:\u001b[0m\u001b[0mn\u001b[0m\u001b[0;34m,\u001b[0m\u001b[0;34m]\u001b[0m\u001b[0;34m.\u001b[0m\u001b[0mindex\u001b[0m  \u001b[0;31m# estou usando índice do dataframe para identificação\u001b[0m\u001b[0;34m\u001b[0m\u001b[0;34m\u001b[0m\u001b[0m\n\u001b[0;32m---> 10\u001b[0;31m     \u001b[0msource\u001b[0m \u001b[0;34m=\u001b[0m \u001b[0;34m[\u001b[0m\u001b[0melem\u001b[0m\u001b[0;34m[\u001b[0m\u001b[0;34m:\u001b[0m\u001b[0mn\u001b[0m\u001b[0;34m]\u001b[0m \u001b[0;32mfor\u001b[0m \u001b[0melem\u001b[0m \u001b[0;32min\u001b[0m \u001b[0mlist\u001b[0m\u001b[0;34m(\u001b[0m\u001b[0msimilarities\u001b[0m\u001b[0;34m.\u001b[0m\u001b[0mMatrixSimilarity\u001b[0m\u001b[0;34m(\u001b[0m\u001b[0mmodel\u001b[0m\u001b[0;34m)\u001b[0m\u001b[0;34m)\u001b[0m\u001b[0;34m]\u001b[0m\u001b[0;34m[\u001b[0m\u001b[0;34m:\u001b[0m\u001b[0mn\u001b[0m\u001b[0;34m]\u001b[0m\u001b[0;34m\u001b[0m\u001b[0;34m\u001b[0m\u001b[0m\n\u001b[0m\u001b[1;32m     11\u001b[0m \u001b[0;34m\u001b[0m\u001b[0m\n\u001b[1;32m     12\u001b[0m     \u001b[0msimilarity_matrix\u001b[0m \u001b[0;34m=\u001b[0m \u001b[0mpd\u001b[0m\u001b[0;34m.\u001b[0m\u001b[0mDataFrame\u001b[0m\u001b[0;34m(\u001b[0m\u001b[0msource\u001b[0m\u001b[0;34m,\u001b[0m \u001b[0mindex\u001b[0m\u001b[0;34m=\u001b[0m \u001b[0mhead\u001b[0m\u001b[0;34m.\u001b[0m\u001b[0mvalues\u001b[0m\u001b[0;34m,\u001b[0m \u001b[0mcolumns\u001b[0m\u001b[0;34m=\u001b[0m \u001b[0mhead\u001b[0m\u001b[0;34m)\u001b[0m\u001b[0;34m\u001b[0m\u001b[0;34m\u001b[0m\u001b[0m\n",
      "\u001b[0;32m~/anaconda3/lib/python3.7/site-packages/gensim/similarities/docsim.py\u001b[0m in \u001b[0;36m__init__\u001b[0;34m(self, corpus, num_best, dtype, num_features, chunksize, corpus_len)\u001b[0m\n\u001b[1;32m    792\u001b[0m                 )\n\u001b[1;32m    793\u001b[0m             \u001b[0mlogger\u001b[0m\u001b[0;34m.\u001b[0m\u001b[0minfo\u001b[0m\u001b[0;34m(\u001b[0m\u001b[0;34m\"creating matrix with %i documents and %i features\"\u001b[0m\u001b[0;34m,\u001b[0m \u001b[0mcorpus_len\u001b[0m\u001b[0;34m,\u001b[0m \u001b[0mnum_features\u001b[0m\u001b[0;34m)\u001b[0m\u001b[0;34m\u001b[0m\u001b[0;34m\u001b[0m\u001b[0m\n\u001b[0;32m--> 794\u001b[0;31m             \u001b[0mself\u001b[0m\u001b[0;34m.\u001b[0m\u001b[0mindex\u001b[0m \u001b[0;34m=\u001b[0m \u001b[0mnumpy\u001b[0m\u001b[0;34m.\u001b[0m\u001b[0mempty\u001b[0m\u001b[0;34m(\u001b[0m\u001b[0mshape\u001b[0m\u001b[0;34m=\u001b[0m\u001b[0;34m(\u001b[0m\u001b[0mcorpus_len\u001b[0m\u001b[0;34m,\u001b[0m \u001b[0mnum_features\u001b[0m\u001b[0;34m)\u001b[0m\u001b[0;34m,\u001b[0m \u001b[0mdtype\u001b[0m\u001b[0;34m=\u001b[0m\u001b[0mdtype\u001b[0m\u001b[0;34m)\u001b[0m\u001b[0;34m\u001b[0m\u001b[0;34m\u001b[0m\u001b[0m\n\u001b[0m\u001b[1;32m    795\u001b[0m             \u001b[0;31m# iterate over corpus, populating the numpy index matrix with (normalized)\u001b[0m\u001b[0;34m\u001b[0m\u001b[0;34m\u001b[0m\u001b[0;34m\u001b[0m\u001b[0m\n\u001b[1;32m    796\u001b[0m             \u001b[0;31m# document vectors\u001b[0m\u001b[0;34m\u001b[0m\u001b[0;34m\u001b[0m\u001b[0;34m\u001b[0m\u001b[0m\n",
      "\u001b[0;31mMemoryError\u001b[0m: Unable to allocate array with shape (200000, 62382) and data type float32"
     ]
    }
   ],
   "source": [
    "# não consegui executar antes da apresentação (memória RAM cheia com os objetos)\n",
    "create_similarity_matrix(tfidf, 10)"
   ]
  },
  {
   "cell_type": "code",
   "execution_count": 51,
   "metadata": {
    "ExecuteTime": {
     "end_time": "2019-12-09T02:37:10.713339Z",
     "start_time": "2019-12-09T02:36:42.086138Z"
    }
   },
   "outputs": [
    {
     "data": {
      "image/png": "[encoded data removed]",
      "text/plain": [
       "<Figure size 1008x432 with 2 Axes>"
      ]
     },
     "metadata": {},
     "output_type": "display_data"
    }
   ],
   "source": [
    "plt.figure(figsize=(14,6))\n",
    "sns.heatmap(create_similarity_matrix(tfidf, 10), cmap='cividis', annot=True)\n",
    "\n",
    "# corrigindo \"bug\" do seaborn (cortando pela metade a primeira e última linha)\n",
    "b, t = plt.ylim() # limites de y\n",
    "b += 0.5 # lim. inferior + 0.5\n",
    "t -= 0.5 # lim. superior - 0.5\n",
    "plt.ylim(b, t) # atualiza ylim\n",
    "plt.show()"
   ]
  },
  {
   "cell_type": "markdown",
   "metadata": {},
   "source": [
    "<br>\n",
    "\n",
    "## Word2vec\n",
    "1. Ainda usando a biblioteca Gensim, Construa uma representaçao vetorial semantica(word2vec) do seu corpus de escolha. Podem seguir este [tutorial](https://rare-technologies.com/word2vec-tutorial/)\n",
    "2. Construa uma representaçao simila usando [FastText](https://radimrehurek.com/gensim/models/fasttext.html#gensim.models.fasttext.FastText). Veja este [Tutorial](https://github.com/RaRe-Technologies/gensim/blob/develop/docs/notebooks/FastText_Tutorial.ipynb)"
   ]
  },
  {
   "cell_type": "markdown",
   "metadata": {},
   "source": [
    "### **Configurações iniciais**"
   ]
  },
  {
   "cell_type": "code",
   "execution_count": null,
   "metadata": {
    "ExecuteTime": {
     "end_time": "2019-12-08T03:36:31.818920Z",
     "start_time": "2019-12-08T03:34:44.044Z"
    }
   },
   "outputs": [],
   "source": [
    "### Executar a linha abaixo se quiser visualizar um logging da execução do modelo\n",
    "# logging.basicConfig(format='%(asctime)s : %(levelname)s : %(message)s', level=logging.INFO)"
   ]
  },
  {
   "cell_type": "markdown",
   "metadata": {},
   "source": [
    "### **Pré-processando o texto (tokenizando e removendo stopwords)**\n",
    "\n",
    "<font color='red'>**Obs:** verifiquei que os resultados ficaram melhores sem stem-izar o texto - ao fazer isso, apareciam algumas inconsistências como letras e números soltos. </font>"
   ]
  },
  {
   "cell_type": "code",
   "execution_count": 57,
   "metadata": {
    "ExecuteTime": {
     "end_time": "2019-12-03T00:24:35.448327Z",
     "start_time": "2019-12-03T00:23:28.659692Z"
    }
   },
   "outputs": [],
   "source": [
    "# n = corpus.shape[0]  # número de observações\n",
    "# corpus['tokenized_rewiews'] = corpus['reviewText'].iloc[:n].apply(lambda x:\n",
    "#                             tokenize_and_remove_sw(x, swu, stemize=True, remove_sw=True))"
   ]
  },
  {
   "cell_type": "markdown",
   "metadata": {},
   "source": [
    "### Treinando modelo Word2Vec"
   ]
  },
  {
   "cell_type": "code",
   "execution_count": 9,
   "metadata": {
    "ExecuteTime": {
     "end_time": "2019-12-08T17:54:16.114287Z",
     "start_time": "2019-12-08T17:54:16.104696Z"
    }
   },
   "outputs": [],
   "source": [
    "def train_W2V(list_tokenized_texts, min_count=1, workers=2, n_epochs= 5):\n",
    "    '''\n",
    "    Treina o modelo Word2Vec e retorna o objeto gensim.models.Word2Vec. \n",
    "    \n",
    "    Cria os seguintes arquivos na pasta local:\n",
    "        - vocab_W2V.dict: vocabulário\n",
    "        - corpusWikiW2V.mm: lista de frequências \n",
    "        - w2v_mode.sav: modelo Word2Vec (gensim)\n",
    "        \n",
    "    Argumentos:\n",
    "        - list_tokenized_texts (list): lista de textos tokenizados\n",
    "        - min_count (int): frequência mínima para contar tokens\n",
    "        - workers (int): número de threads para treinar o modelo W2V.\n",
    "        - n_epochs (int): número de épocas para treinar o modelo.\n",
    "    '''\n",
    "    counter = Counter([])\n",
    "    for text in list_tokenized_texts:\n",
    "        counter.update(text)\n",
    "        \n",
    "    # mantém apenas tokens que aparecem ao menos duas vezes\n",
    "    list_of_texts = [[token for token in text if counter[token] > min_count] \n",
    "                                                 for text in list_tokenized_texts]\n",
    "    \n",
    "    # criando dicionário:\n",
    "    dic = corpora.Dictionary(list_of_texts)\n",
    "    dic.save('vocab_W2V.dict')\n",
    "    \n",
    "    # criando listas de frequências:\n",
    "    frequency_lists = [dic.doc2bow(token) for token in list_of_texts]\n",
    "    corpora.MmCorpus.serialize('frequency_list_W2V.mm', frequency_lists)\n",
    "    \n",
    "    # treinando W2V:\n",
    "    mod_w2v = models.Word2Vec(list_of_texts, min_count=min_count, workers=workers, iter= n_epochs)\n",
    "    mod_w2v.save('w2v_model.sav')\n",
    "    \n",
    "    return mod_w2v"
   ]
  },
  {
   "cell_type": "code",
   "execution_count": 33,
   "metadata": {
    "ExecuteTime": {
     "end_time": "2019-12-09T16:44:23.168141Z",
     "start_time": "2019-12-09T16:44:22.567539Z"
    }
   },
   "outputs": [
    {
     "name": "stdout",
     "output_type": "stream",
     "text": [
      "Word2Vec(vocab=62382, size=100, alpha=0.025)\n"
     ]
    }
   ],
   "source": [
    "n = 200000  # número de observações\n",
    "# w2v = train_W2V(list(corpus['tokenized_reviews'].iloc[:n]), n_epochs=20, workers=8)\n",
    "w2v = gensim.models.Word2Vec.load('w2v_model.sav')\n",
    "print(w2v)"
   ]
  },
  {
   "cell_type": "markdown",
   "metadata": {},
   "source": [
    "### Analisando elementos semelhantes"
   ]
  },
  {
   "cell_type": "code",
   "execution_count": 34,
   "metadata": {
    "ExecuteTime": {
     "end_time": "2019-12-09T16:44:24.736285Z",
     "start_time": "2019-12-09T16:44:24.237619Z"
    }
   },
   "outputs": [
    {
     "data": {
      "text/plain": [
       "[('panasonic', 0.7396211624145508),\n",
       " ('mysony', 0.706706702709198),\n",
       " ('thesony', 0.6759231090545654),\n",
       " ('jvc', 0.6637254953384399),\n",
       " ('slt', 0.6583683490753174),\n",
       " ('philips', 0.646976113319397),\n",
       " ('dcr', 0.6364985108375549),\n",
       " ('ir100a', 0.6138120889663696),\n",
       " ('a77', 0.6124635934829712),\n",
       " ('xbr', 0.5994816422462463)]"
      ]
     },
     "execution_count": 34,
     "metadata": {},
     "output_type": "execute_result"
    }
   ],
   "source": [
    "w2v.wv.most_similar(positive='sony')  "
   ]
  },
  {
   "cell_type": "code",
   "execution_count": 37,
   "metadata": {
    "ExecuteTime": {
     "end_time": "2019-12-09T16:46:22.373913Z",
     "start_time": "2019-12-09T16:46:22.359775Z"
    }
   },
   "outputs": [
    {
     "data": {
      "text/plain": [
       "[('daughter', 0.9273725152015686),\n",
       " ('wife', 0.871778130531311),\n",
       " ('sister', 0.8597370386123657),\n",
       " ('husband', 0.8572892546653748),\n",
       " ('dad', 0.84247887134552),\n",
       " ('girlfriend', 0.8374909162521362),\n",
       " ('fiance', 0.8282933235168457),\n",
       " ('boyfriend', 0.8210633993148804),\n",
       " ('mom', 0.8206857442855835),\n",
       " ('grandson', 0.8182472586631775)]"
      ]
     },
     "execution_count": 37,
     "metadata": {},
     "output_type": "execute_result"
    }
   ],
   "source": [
    "w2v.wv.most_similar(positive='son')  "
   ]
  },
  {
   "cell_type": "code",
   "execution_count": 36,
   "metadata": {
    "ExecuteTime": {
     "end_time": "2019-12-09T16:46:16.794635Z",
     "start_time": "2019-12-09T16:46:16.782563Z"
    }
   },
   "outputs": [
    {
     "data": {
      "text/plain": [
       "[('dslr', 0.7286293506622314),\n",
       " ('cameras', 0.722560465335846),\n",
       " ('camcorder', 0.7022490501403809),\n",
       " ('slr', 0.6815106272697449),\n",
       " ('tripod', 0.6706822514533997),\n",
       " ('lens', 0.6514147520065308),\n",
       " ('evf', 0.6449236869812012),\n",
       " ('viewfinder', 0.6344794034957886),\n",
       " ('s95', 0.6193607449531555),\n",
       " ('d5100', 0.6190561056137085)]"
      ]
     },
     "execution_count": 36,
     "metadata": {},
     "output_type": "execute_result"
    }
   ],
   "source": [
    "w2v.wv.most_similar(positive='camera')  "
   ]
  },
  {
   "cell_type": "code",
   "execution_count": 31,
   "metadata": {
    "ExecuteTime": {
     "end_time": "2019-12-08T18:13:50.948655Z",
     "start_time": "2019-12-08T18:13:50.937553Z"
    }
   },
   "outputs": [
    {
     "data": {
      "text/plain": [
       "[('ubuntu', 0.8291518688201904),\n",
       " ('win7', 0.802047610282898),\n",
       " ('vista', 0.7762501835823059),\n",
       " ('unix', 0.7684966325759888),\n",
       " ('64bit', 0.7578177452087402),\n",
       " ('osx', 0.7504874467849731),\n",
       " ('freebsd', 0.745354413986206),\n",
       " ('parallels', 0.7385203242301941),\n",
       " ('debian', 0.7353683114051819),\n",
       " ('distro', 0.7344064712524414)]"
      ]
     },
     "execution_count": 31,
     "metadata": {},
     "output_type": "execute_result"
    }
   ],
   "source": [
    "w2v.wv.most_similar(positive='linux')  "
   ]
  },
  {
   "cell_type": "code",
   "execution_count": 32,
   "metadata": {
    "ExecuteTime": {
     "end_time": "2019-12-08T18:13:58.322462Z",
     "start_time": "2019-12-08T18:13:58.313059Z"
    }
   },
   "outputs": [
    {
     "data": {
      "text/plain": [
       "0.82915187"
      ]
     },
     "execution_count": 32,
     "metadata": {},
     "output_type": "execute_result"
    }
   ],
   "source": [
    "w2v.wv.n_similarity(['linux'], ['ubuntu'])"
   ]
  },
  {
   "cell_type": "code",
   "execution_count": 27,
   "metadata": {
    "ExecuteTime": {
     "end_time": "2019-12-08T18:13:22.335258Z",
     "start_time": "2019-12-08T18:13:22.310153Z"
    }
   },
   "outputs": [
    {
     "data": {
      "text/plain": [
       "['orange', 'gray', 'colored', 'grey', 'charcoal']"
      ]
     },
     "execution_count": 27,
     "metadata": {},
     "output_type": "execute_result"
    }
   ],
   "source": [
    "w2v.wv.closer_than('white', 'black')"
   ]
  },
  {
   "cell_type": "code",
   "execution_count": 28,
   "metadata": {
    "ExecuteTime": {
     "end_time": "2019-12-08T18:13:33.324200Z",
     "start_time": "2019-12-08T18:13:33.297318Z"
    },
    "scrolled": true
   },
   "outputs": [
    {
     "data": {
      "text/plain": [
       "['lol', 'boys', 'lady', 'men', 'cave', 'dude']"
      ]
     },
     "execution_count": 28,
     "metadata": {},
     "output_type": "execute_result"
    }
   ],
   "source": [
    "w2v.wv.closer_than('man', 'woman')"
   ]
  },
  {
   "cell_type": "markdown",
   "metadata": {},
   "source": [
    "-----\n",
    "\n",
    "### Construindo uma representação similar com FastText"
   ]
  },
  {
   "cell_type": "code",
   "execution_count": 20,
   "metadata": {
    "ExecuteTime": {
     "end_time": "2019-12-08T17:58:32.269642Z",
     "start_time": "2019-12-08T17:58:32.253518Z"
    }
   },
   "outputs": [],
   "source": [
    "def train_FastText(list_tokenized_texts, min_count=1, workers=2, n_epochs= 5):\n",
    "    '''\n",
    "    Treina o modelo Word2Vec e retorna o objeto gensim.models.Word2Vec. \n",
    "    \n",
    "    Cria os seguintes arquivos na pasta local:\n",
    "        - vocab_W2V.dict: vocabulário\n",
    "        - corpusWikiW2V.mm: lista de frequências \n",
    "        - w2v_mode.sav: modelo Word2Vec (gensim)\n",
    "        \n",
    "    Argumentos:\n",
    "        - list_tokenized_texts (list): lista de textos tokenizados\n",
    "        - min_count (int): frequência mínima para contar tokens\n",
    "        - workers (int): número de threads para treinar o modelo W2V.\n",
    "        - n_epochs (int): número de épocas para treinar o modelo.\n",
    "    '''\n",
    "    counter = Counter([])\n",
    "    for text in list_tokenized_texts:\n",
    "        counter.update(text)\n",
    "        \n",
    "    # mantém apenas tokens que aparecem ao menos duas vezes\n",
    "    list_of_texts = [[token for token in text if counter[token] > min_count] \n",
    "                                                 for text in list_tokenized_texts]\n",
    "    \n",
    "    # criando dicionário:\n",
    "    dic = corpora.Dictionary(list_of_texts)\n",
    "    dic.save('vocab_W2V.dict')  # o vocabulário é idêntico ao criado para o W2V\n",
    "    \n",
    "    # criando listas de frequências:\n",
    "    frequency_lists = [dic.doc2bow(token) for token in list_of_texts]\n",
    "    corpora.MmCorpus.serialize('frequency_list.mm', frequency_lists)  # a lista de frequências tb é =\n",
    "    \n",
    "    # treinando W2V:\n",
    "    mod_fast_txt = models.FastText(list_of_texts, min_count=min_count, workers=workers, iter= n_epochs)\n",
    "    mod_fast_txt.save('fast_txt_model.sav')\n",
    "    \n",
    "    return mod_fast_txt"
   ]
  },
  {
   "cell_type": "code",
   "execution_count": 35,
   "metadata": {
    "ExecuteTime": {
     "end_time": "2019-12-09T16:45:07.748891Z",
     "start_time": "2019-12-09T16:44:32.130274Z"
    }
   },
   "outputs": [
    {
     "name": "stdout",
     "output_type": "stream",
     "text": [
      "FastText(vocab=62382, size=100, alpha=0.025)\n"
     ]
    }
   ],
   "source": [
    "# n = 200000  # número de observações\n",
    "# ft = train_FastText(list(corpus['tokenized_reviews'].iloc[:n]), n_epochs=20, workers=8)\n",
    "ft = gensim.models.FastText.load('fast_txt_model.sav')\n",
    "print(ft)"
   ]
  },
  {
   "cell_type": "markdown",
   "metadata": {},
   "source": [
    "### Analisando elementos semelhantes"
   ]
  },
  {
   "cell_type": "code",
   "execution_count": 23,
   "metadata": {
    "ExecuteTime": {
     "end_time": "2019-12-08T18:12:41.430419Z",
     "start_time": "2019-12-08T18:12:36.875055Z"
    }
   },
   "outputs": [
    {
     "data": {
      "text/plain": [
       "[('puppylinux', 0.914942741394043),\n",
       " ('archlinux', 0.8761706352233887),\n",
       " ('pclinuxos', 0.8716403245925903),\n",
       " ('ubuntu', 0.8226170539855957),\n",
       " ('kubuntu', 0.8117600679397583),\n",
       " ('lynux', 0.808483898639679),\n",
       " ('xubuntu', 0.8062878251075745),\n",
       " ('n7', 0.787767767906189),\n",
       " ('win7', 0.7870563268661499),\n",
       " ('eeebuntu', 0.78593510389328)]"
      ]
     },
     "execution_count": 23,
     "metadata": {},
     "output_type": "execute_result"
    }
   ],
   "source": [
    "ft.wv.most_similar(positive='linux')  "
   ]
  },
  {
   "cell_type": "code",
   "execution_count": 24,
   "metadata": {
    "ExecuteTime": {
     "end_time": "2019-12-08T18:12:41.799583Z",
     "start_time": "2019-12-08T18:12:41.571836Z"
    }
   },
   "outputs": [
    {
     "data": {
      "text/plain": [
       "['colored',\n",
       " 'grey',\n",
       " 'whiter',\n",
       " 'whitens',\n",
       " 'colorpicker',\n",
       " 'whitefor',\n",
       " 'offwhite',\n",
       " 'whiteish',\n",
       " 'autowhite']"
      ]
     },
     "execution_count": 24,
     "metadata": {},
     "output_type": "execute_result"
    }
   ],
   "source": [
    "ft.wv.closer_than('white', 'black')"
   ]
  },
  {
   "cell_type": "code",
   "execution_count": 25,
   "metadata": {
    "ExecuteTime": {
     "end_time": "2019-12-08T18:12:41.964622Z",
     "start_time": "2019-12-08T18:12:41.955076Z"
    }
   },
   "outputs": [
    {
     "data": {
      "text/plain": [
       "0.8226171"
      ]
     },
     "execution_count": 25,
     "metadata": {},
     "output_type": "execute_result"
    }
   ],
   "source": [
    "ft.wv.n_similarity(['linux'], ['ubuntu'])"
   ]
  },
  {
   "cell_type": "markdown",
   "metadata": {},
   "source": [
    "**Fim!**"
   ]
  }
 ],
 "metadata": {
  "kernelspec": {
   "display_name": "Python 3",
   "language": "python",
   "name": "python3"
  },
  "language_info": {
   "codemirror_mode": {
    "name": "ipython",
    "version": 3
   },
   "file_extension": ".py",
   "mimetype": "text/x-python",
   "name": "python",
   "nbconvert_exporter": "python",
   "pygments_lexer": "ipython3",
   "version": "3.7.4"
  },
  "toc": {
   "base_numbering": 1,
   "nav_menu": {},
   "number_sections": false,
   "sideBar": true,
   "skip_h1_title": false,
   "title_cell": "Table of Contents",
   "title_sidebar": "Contents",
   "toc_cell": false,
   "toc_position": {},
   "toc_section_display": true,
   "toc_window_display": false
  },
  "varInspector": {
   "cols": {
    "lenName": 16,
    "lenType": 16,
    "lenVar": 40
   },
   "kernels_config": {
    "python": {
     "delete_cmd_postfix": "",
     "delete_cmd_prefix": "del ",
     "library": "var_list.py",
     "varRefreshCmd": "print(var_dic_list())"
    },
    "r": {
     "delete_cmd_postfix": ") ",
     "delete_cmd_prefix": "rm(",
     "library": "var_list.r",
     "varRefreshCmd": "cat(var_dic_list()) "
    }
   },
   "types_to_exclude": [
    "module",
    "function",
    "builtin_function_or_method",
    "instance",
    "_Feature"
   ],
   "window_display": false
  }
 },
 "nbformat": 4,
 "nbformat_minor": 2
}
